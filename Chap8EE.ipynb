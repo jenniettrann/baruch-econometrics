{
 "cells": [
  {
   "cell_type": "code",
   "execution_count": 1,
   "metadata": {},
   "outputs": [],
   "source": [
    "import pandas as pd\n",
    "import numpy as np\n",
    "from statsmodels.formula.api import ols"
   ]
  },
  {
   "cell_type": "code",
   "execution_count": 2,
   "metadata": {},
   "outputs": [
    {
     "name": "stdout",
     "output_type": "stream",
     "text": [
      "            ahe  year  bachelor  female  age\n",
      "0     38.461540  2008         1       0   33\n",
      "1     12.500000  2008         1       0   31\n",
      "2      9.857142  2008         0       0   30\n",
      "3      8.241758  2008         0       0   30\n",
      "4     17.788462  2008         0       0   31\n",
      "...         ...   ...       ...     ...  ...\n",
      "7706  12.500000  2008         0       0   32\n",
      "7707  24.725275  2008         1       1   28\n",
      "7708  41.208790  2008         1       0   33\n",
      "7709   3.269231  2008         1       1   31\n",
      "7710  13.269231  2008         0       0   30\n",
      "\n",
      "[7711 rows x 5 columns]\n"
     ]
    }
   ],
   "source": [
    "cps08 = pd.read_excel('/Users/jennifer/Desktop/Baruch F21/ECO 9723 Econometrics/Hw10:06/cps08.xlsx')\n",
    "print(cps08)"
   ]
  },
  {
   "cell_type": "code",
   "execution_count": 3,
   "metadata": {},
   "outputs": [
    {
     "data": {
      "text/plain": [
       "'/Users/jennifer/Desktop/Baruch F21/ECO 9723 Econometrics/Hw10:06'"
      ]
     },
     "execution_count": 3,
     "metadata": {},
     "output_type": "execute_result"
    }
   ],
   "source": [
    "import os\n",
    "os.getcwd()"
   ]
  },
  {
   "cell_type": "code",
   "execution_count": 4,
   "metadata": {},
   "outputs": [
    {
     "data": {
      "text/html": [
       "<table class=\"simpletable\">\n",
       "<caption>OLS Regression Results</caption>\n",
       "<tr>\n",
       "  <th>Dep. Variable:</th>           <td>ahe</td>       <th>  R-squared:         </th> <td>   0.200</td> \n",
       "</tr>\n",
       "<tr>\n",
       "  <th>Model:</th>                   <td>OLS</td>       <th>  Adj. R-squared:    </th> <td>   0.199</td> \n",
       "</tr>\n",
       "<tr>\n",
       "  <th>Method:</th>             <td>Least Squares</td>  <th>  F-statistic:       </th> <td>   641.5</td> \n",
       "</tr>\n",
       "<tr>\n",
       "  <th>Date:</th>             <td>Thu, 30 Sep 2021</td> <th>  Prob (F-statistic):</th>  <td>  0.00</td>  \n",
       "</tr>\n",
       "<tr>\n",
       "  <th>Time:</th>                 <td>18:23:54</td>     <th>  Log-Likelihood:    </th> <td> -27944.</td> \n",
       "</tr>\n",
       "<tr>\n",
       "  <th>No. Observations:</th>      <td>  7711</td>      <th>  AIC:               </th> <td>5.590e+04</td>\n",
       "</tr>\n",
       "<tr>\n",
       "  <th>Df Residuals:</th>          <td>  7707</td>      <th>  BIC:               </th> <td>5.592e+04</td>\n",
       "</tr>\n",
       "<tr>\n",
       "  <th>Df Model:</th>              <td>     3</td>      <th>                     </th>     <td> </td>    \n",
       "</tr>\n",
       "<tr>\n",
       "  <th>Covariance Type:</th>      <td>nonrobust</td>    <th>                     </th>     <td> </td>    \n",
       "</tr>\n",
       "</table>\n",
       "<table class=\"simpletable\">\n",
       "<tr>\n",
       "      <td></td>         <th>coef</th>     <th>std err</th>      <th>t</th>      <th>P>|t|</th>  <th>[0.025</th>    <th>0.975]</th>  \n",
       "</tr>\n",
       "<tr>\n",
       "  <th>Intercept</th> <td>   -0.6357</td> <td>    1.085</td> <td>   -0.586</td> <td> 0.558</td> <td>   -2.763</td> <td>    1.492</td>\n",
       "</tr>\n",
       "<tr>\n",
       "  <th>age</th>       <td>    0.5852</td> <td>    0.036</td> <td>   16.165</td> <td> 0.000</td> <td>    0.514</td> <td>    0.656</td>\n",
       "</tr>\n",
       "<tr>\n",
       "  <th>female</th>    <td>   -3.6640</td> <td>    0.211</td> <td>  -17.391</td> <td> 0.000</td> <td>   -4.077</td> <td>   -3.251</td>\n",
       "</tr>\n",
       "<tr>\n",
       "  <th>bachelor</th>  <td>    8.0830</td> <td>    0.209</td> <td>   38.709</td> <td> 0.000</td> <td>    7.674</td> <td>    8.492</td>\n",
       "</tr>\n",
       "</table>\n",
       "<table class=\"simpletable\">\n",
       "<tr>\n",
       "  <th>Omnibus:</th>       <td>1975.506</td> <th>  Durbin-Watson:     </th> <td>   1.830</td>\n",
       "</tr>\n",
       "<tr>\n",
       "  <th>Prob(Omnibus):</th>  <td> 0.000</td>  <th>  Jarque-Bera (JB):  </th> <td>6177.802</td>\n",
       "</tr>\n",
       "<tr>\n",
       "  <th>Skew:</th>           <td> 1.306</td>  <th>  Prob(JB):          </th> <td>    0.00</td>\n",
       "</tr>\n",
       "<tr>\n",
       "  <th>Kurtosis:</th>       <td> 6.522</td>  <th>  Cond. No.          </th> <td>    313.</td>\n",
       "</tr>\n",
       "</table><br/><br/>Notes:<br/>[1] Standard Errors assume that the covariance matrix of the errors is correctly specified."
      ],
      "text/plain": [
       "<class 'statsmodels.iolib.summary.Summary'>\n",
       "\"\"\"\n",
       "                            OLS Regression Results                            \n",
       "==============================================================================\n",
       "Dep. Variable:                    ahe   R-squared:                       0.200\n",
       "Model:                            OLS   Adj. R-squared:                  0.199\n",
       "Method:                 Least Squares   F-statistic:                     641.5\n",
       "Date:                Thu, 30 Sep 2021   Prob (F-statistic):               0.00\n",
       "Time:                        18:23:54   Log-Likelihood:                -27944.\n",
       "No. Observations:                7711   AIC:                         5.590e+04\n",
       "Df Residuals:                    7707   BIC:                         5.592e+04\n",
       "Df Model:                           3                                         \n",
       "Covariance Type:            nonrobust                                         \n",
       "==============================================================================\n",
       "                 coef    std err          t      P>|t|      [0.025      0.975]\n",
       "------------------------------------------------------------------------------\n",
       "Intercept     -0.6357      1.085     -0.586      0.558      -2.763       1.492\n",
       "age            0.5852      0.036     16.165      0.000       0.514       0.656\n",
       "female        -3.6640      0.211    -17.391      0.000      -4.077      -3.251\n",
       "bachelor       8.0830      0.209     38.709      0.000       7.674       8.492\n",
       "==============================================================================\n",
       "Omnibus:                     1975.506   Durbin-Watson:                   1.830\n",
       "Prob(Omnibus):                  0.000   Jarque-Bera (JB):             6177.802\n",
       "Skew:                           1.306   Prob(JB):                         0.00\n",
       "Kurtosis:                       6.522   Cond. No.                         313.\n",
       "==============================================================================\n",
       "\n",
       "Notes:\n",
       "[1] Standard Errors assume that the covariance matrix of the errors is correctly specified.\n",
       "\"\"\""
      ]
     },
     "execution_count": 4,
     "metadata": {},
     "output_type": "execute_result"
    }
   ],
   "source": [
    "JT1=ols('ahe ~ age + female + bachelor',data=cps08).fit()\n",
    "JT1.summary()"
   ]
  },
  {
   "cell_type": "code",
   "execution_count": 5,
   "metadata": {},
   "outputs": [
    {
     "data": {
      "text/html": [
       "<table class=\"simpletable\">\n",
       "<caption>OLS Regression Results</caption>\n",
       "<tr>\n",
       "  <th>Dep. Variable:</th>       <td>np.log(ahe)</td>   <th>  R-squared:         </th> <td>   0.201</td> \n",
       "</tr>\n",
       "<tr>\n",
       "  <th>Model:</th>                   <td>OLS</td>       <th>  Adj. R-squared:    </th> <td>   0.200</td> \n",
       "</tr>\n",
       "<tr>\n",
       "  <th>Method:</th>             <td>Least Squares</td>  <th>  F-statistic:       </th> <td>   644.9</td> \n",
       "</tr>\n",
       "<tr>\n",
       "  <th>Date:</th>             <td>Thu, 30 Sep 2021</td> <th>  Prob (F-statistic):</th>  <td>  0.00</td>  \n",
       "</tr>\n",
       "<tr>\n",
       "  <th>Time:</th>                 <td>18:24:28</td>     <th>  Log-Likelihood:    </th> <td> -5107.4</td> \n",
       "</tr>\n",
       "<tr>\n",
       "  <th>No. Observations:</th>      <td>  7711</td>      <th>  AIC:               </th> <td>1.022e+04</td>\n",
       "</tr>\n",
       "<tr>\n",
       "  <th>Df Residuals:</th>          <td>  7707</td>      <th>  BIC:               </th> <td>1.025e+04</td>\n",
       "</tr>\n",
       "<tr>\n",
       "  <th>Df Model:</th>              <td>     3</td>      <th>                     </th>     <td> </td>    \n",
       "</tr>\n",
       "<tr>\n",
       "  <th>Covariance Type:</th>      <td>nonrobust</td>    <th>                     </th>     <td> </td>    \n",
       "</tr>\n",
       "</table>\n",
       "<table class=\"simpletable\">\n",
       "<tr>\n",
       "      <td></td>         <th>coef</th>     <th>std err</th>      <th>t</th>      <th>P>|t|</th>  <th>[0.025</th>    <th>0.975]</th>  \n",
       "</tr>\n",
       "<tr>\n",
       "  <th>Intercept</th> <td>    1.8763</td> <td>    0.056</td> <td>   33.411</td> <td> 0.000</td> <td>    1.766</td> <td>    1.986</td>\n",
       "</tr>\n",
       "<tr>\n",
       "  <th>age</th>       <td>    0.0273</td> <td>    0.002</td> <td>   14.589</td> <td> 0.000</td> <td>    0.024</td> <td>    0.031</td>\n",
       "</tr>\n",
       "<tr>\n",
       "  <th>female</th>    <td>   -0.1859</td> <td>    0.011</td> <td>  -17.056</td> <td> 0.000</td> <td>   -0.207</td> <td>   -0.165</td>\n",
       "</tr>\n",
       "<tr>\n",
       "  <th>bachelor</th>  <td>    0.4281</td> <td>    0.011</td> <td>   39.626</td> <td> 0.000</td> <td>    0.407</td> <td>    0.449</td>\n",
       "</tr>\n",
       "</table>\n",
       "<table class=\"simpletable\">\n",
       "<tr>\n",
       "  <th>Omnibus:</th>       <td>362.335</td> <th>  Durbin-Watson:     </th> <td>   1.823</td> \n",
       "</tr>\n",
       "<tr>\n",
       "  <th>Prob(Omnibus):</th> <td> 0.000</td>  <th>  Jarque-Bera (JB):  </th> <td> 568.349</td> \n",
       "</tr>\n",
       "<tr>\n",
       "  <th>Skew:</th>          <td>-0.412</td>  <th>  Prob(JB):          </th> <td>3.84e-124</td>\n",
       "</tr>\n",
       "<tr>\n",
       "  <th>Kurtosis:</th>      <td> 4.043</td>  <th>  Cond. No.          </th> <td>    313.</td> \n",
       "</tr>\n",
       "</table><br/><br/>Notes:<br/>[1] Standard Errors assume that the covariance matrix of the errors is correctly specified."
      ],
      "text/plain": [
       "<class 'statsmodels.iolib.summary.Summary'>\n",
       "\"\"\"\n",
       "                            OLS Regression Results                            \n",
       "==============================================================================\n",
       "Dep. Variable:            np.log(ahe)   R-squared:                       0.201\n",
       "Model:                            OLS   Adj. R-squared:                  0.200\n",
       "Method:                 Least Squares   F-statistic:                     644.9\n",
       "Date:                Thu, 30 Sep 2021   Prob (F-statistic):               0.00\n",
       "Time:                        18:24:28   Log-Likelihood:                -5107.4\n",
       "No. Observations:                7711   AIC:                         1.022e+04\n",
       "Df Residuals:                    7707   BIC:                         1.025e+04\n",
       "Df Model:                           3                                         \n",
       "Covariance Type:            nonrobust                                         \n",
       "==============================================================================\n",
       "                 coef    std err          t      P>|t|      [0.025      0.975]\n",
       "------------------------------------------------------------------------------\n",
       "Intercept      1.8763      0.056     33.411      0.000       1.766       1.986\n",
       "age            0.0273      0.002     14.589      0.000       0.024       0.031\n",
       "female        -0.1859      0.011    -17.056      0.000      -0.207      -0.165\n",
       "bachelor       0.4281      0.011     39.626      0.000       0.407       0.449\n",
       "==============================================================================\n",
       "Omnibus:                      362.335   Durbin-Watson:                   1.823\n",
       "Prob(Omnibus):                  0.000   Jarque-Bera (JB):              568.349\n",
       "Skew:                          -0.412   Prob(JB):                    3.84e-124\n",
       "Kurtosis:                       4.043   Cond. No.                         313.\n",
       "==============================================================================\n",
       "\n",
       "Notes:\n",
       "[1] Standard Errors assume that the covariance matrix of the errors is correctly specified.\n",
       "\"\"\""
      ]
     },
     "execution_count": 5,
     "metadata": {},
     "output_type": "execute_result"
    }
   ],
   "source": [
    "JT2=ols('np.log(ahe) ~ age + female + bachelor',data= cps08).fit()\n",
    "JT2.summary()"
   ]
  },
  {
   "cell_type": "code",
   "execution_count": 6,
   "metadata": {},
   "outputs": [
    {
     "data": {
      "text/html": [
       "<table class=\"simpletable\">\n",
       "<caption>OLS Regression Results</caption>\n",
       "<tr>\n",
       "  <th>Dep. Variable:</th>       <td>np.log(ahe)</td>   <th>  R-squared:         </th> <td>   0.201</td> \n",
       "</tr>\n",
       "<tr>\n",
       "  <th>Model:</th>                   <td>OLS</td>       <th>  Adj. R-squared:    </th> <td>   0.200</td> \n",
       "</tr>\n",
       "<tr>\n",
       "  <th>Method:</th>             <td>Least Squares</td>  <th>  F-statistic:       </th> <td>   645.3</td> \n",
       "</tr>\n",
       "<tr>\n",
       "  <th>Date:</th>             <td>Thu, 30 Sep 2021</td> <th>  Prob (F-statistic):</th>  <td>  0.00</td>  \n",
       "</tr>\n",
       "<tr>\n",
       "  <th>Time:</th>                 <td>18:28:03</td>     <th>  Log-Likelihood:    </th> <td> -5106.8</td> \n",
       "</tr>\n",
       "<tr>\n",
       "  <th>No. Observations:</th>      <td>  7711</td>      <th>  AIC:               </th> <td>1.022e+04</td>\n",
       "</tr>\n",
       "<tr>\n",
       "  <th>Df Residuals:</th>          <td>  7707</td>      <th>  BIC:               </th> <td>1.025e+04</td>\n",
       "</tr>\n",
       "<tr>\n",
       "  <th>Df Model:</th>              <td>     3</td>      <th>                     </th>     <td> </td>    \n",
       "</tr>\n",
       "<tr>\n",
       "  <th>Covariance Type:</th>      <td>nonrobust</td>    <th>                     </th>     <td> </td>    \n",
       "</tr>\n",
       "</table>\n",
       "<table class=\"simpletable\">\n",
       "<tr>\n",
       "       <td></td>          <th>coef</th>     <th>std err</th>      <th>t</th>      <th>P>|t|</th>  <th>[0.025</th>    <th>0.975]</th>  \n",
       "</tr>\n",
       "<tr>\n",
       "  <th>Intercept</th>   <td>   -0.0345</td> <td>    0.186</td> <td>   -0.185</td> <td> 0.853</td> <td>   -0.400</td> <td>    0.331</td>\n",
       "</tr>\n",
       "<tr>\n",
       "  <th>np.log(age)</th> <td>    0.8039</td> <td>    0.055</td> <td>   14.626</td> <td> 0.000</td> <td>    0.696</td> <td>    0.912</td>\n",
       "</tr>\n",
       "<tr>\n",
       "  <th>female</th>      <td>   -0.1859</td> <td>    0.011</td> <td>  -17.054</td> <td> 0.000</td> <td>   -0.207</td> <td>   -0.165</td>\n",
       "</tr>\n",
       "<tr>\n",
       "  <th>bachelor</th>    <td>    0.4283</td> <td>    0.011</td> <td>   39.641</td> <td> 0.000</td> <td>    0.407</td> <td>    0.449</td>\n",
       "</tr>\n",
       "</table>\n",
       "<table class=\"simpletable\">\n",
       "<tr>\n",
       "  <th>Omnibus:</th>       <td>363.318</td> <th>  Durbin-Watson:     </th> <td>   1.823</td> \n",
       "</tr>\n",
       "<tr>\n",
       "  <th>Prob(Omnibus):</th> <td> 0.000</td>  <th>  Jarque-Bera (JB):  </th> <td> 570.602</td> \n",
       "</tr>\n",
       "<tr>\n",
       "  <th>Skew:</th>          <td>-0.413</td>  <th>  Prob(JB):          </th> <td>1.25e-124</td>\n",
       "</tr>\n",
       "<tr>\n",
       "  <th>Kurtosis:</th>      <td> 4.046</td>  <th>  Cond. No.          </th> <td>    130.</td> \n",
       "</tr>\n",
       "</table><br/><br/>Notes:<br/>[1] Standard Errors assume that the covariance matrix of the errors is correctly specified."
      ],
      "text/plain": [
       "<class 'statsmodels.iolib.summary.Summary'>\n",
       "\"\"\"\n",
       "                            OLS Regression Results                            \n",
       "==============================================================================\n",
       "Dep. Variable:            np.log(ahe)   R-squared:                       0.201\n",
       "Model:                            OLS   Adj. R-squared:                  0.200\n",
       "Method:                 Least Squares   F-statistic:                     645.3\n",
       "Date:                Thu, 30 Sep 2021   Prob (F-statistic):               0.00\n",
       "Time:                        18:28:03   Log-Likelihood:                -5106.8\n",
       "No. Observations:                7711   AIC:                         1.022e+04\n",
       "Df Residuals:                    7707   BIC:                         1.025e+04\n",
       "Df Model:                           3                                         \n",
       "Covariance Type:            nonrobust                                         \n",
       "===============================================================================\n",
       "                  coef    std err          t      P>|t|      [0.025      0.975]\n",
       "-------------------------------------------------------------------------------\n",
       "Intercept      -0.0345      0.186     -0.185      0.853      -0.400       0.331\n",
       "np.log(age)     0.8039      0.055     14.626      0.000       0.696       0.912\n",
       "female         -0.1859      0.011    -17.054      0.000      -0.207      -0.165\n",
       "bachelor        0.4283      0.011     39.641      0.000       0.407       0.449\n",
       "==============================================================================\n",
       "Omnibus:                      363.318   Durbin-Watson:                   1.823\n",
       "Prob(Omnibus):                  0.000   Jarque-Bera (JB):              570.602\n",
       "Skew:                          -0.413   Prob(JB):                    1.25e-124\n",
       "Kurtosis:                       4.046   Cond. No.                         130.\n",
       "==============================================================================\n",
       "\n",
       "Notes:\n",
       "[1] Standard Errors assume that the covariance matrix of the errors is correctly specified.\n",
       "\"\"\""
      ]
     },
     "execution_count": 6,
     "metadata": {},
     "output_type": "execute_result"
    }
   ],
   "source": [
    "JT3=ols('np.log(ahe)~np.log(age) + female + bachelor',data=cps08).fit()\n",
    "JT3.summary()"
   ]
  },
  {
   "cell_type": "code",
   "execution_count": 19,
   "metadata": {},
   "outputs": [
    {
     "name": "stdout",
     "output_type": "stream",
     "text": [
      "The expected change in AHE from age 35 to 36 is 2.26%\n"
     ]
    }
   ],
   "source": [
    "print('The expected change in AHE from age 35 to 36 is {:.2f}%'.\n",
    "      format(((0.8039 * np.log(36)) - (0.8039 * np.log(35))) * 100))"
   ]
  },
  {
   "cell_type": "code",
   "execution_count": 20,
   "metadata": {},
   "outputs": [
    {
     "name": "stdout",
     "output_type": "stream",
     "text": [
      "            ahe  year  bachelor  female  age  age2\n",
      "0     38.461540  2008         1       0   33  1089\n",
      "1     12.500000  2008         1       0   31   961\n",
      "2      9.857142  2008         0       0   30   900\n",
      "3      8.241758  2008         0       0   30   900\n",
      "4     17.788462  2008         0       0   31   961\n",
      "...         ...   ...       ...     ...  ...   ...\n",
      "7706  12.500000  2008         0       0   32  1024\n",
      "7707  24.725275  2008         1       1   28   784\n",
      "7708  41.208790  2008         1       0   33  1089\n",
      "7709   3.269231  2008         1       1   31   961\n",
      "7710  13.269231  2008         0       0   30   900\n",
      "\n",
      "[7711 rows x 6 columns]\n"
     ]
    }
   ],
   "source": [
    "cps08[\"age2\"]=cps08[\"age\"]**2\n",
    "print(cps08)"
   ]
  },
  {
   "cell_type": "code",
   "execution_count": 22,
   "metadata": {},
   "outputs": [
    {
     "data": {
      "text/html": [
       "<table class=\"simpletable\">\n",
       "<caption>OLS Regression Results</caption>\n",
       "<tr>\n",
       "  <th>Dep. Variable:</th>           <td>ahe</td>       <th>  R-squared:         </th> <td>   0.200</td> \n",
       "</tr>\n",
       "<tr>\n",
       "  <th>Model:</th>                   <td>OLS</td>       <th>  Adj. R-squared:    </th> <td>   0.199</td> \n",
       "</tr>\n",
       "<tr>\n",
       "  <th>Method:</th>             <td>Least Squares</td>  <th>  F-statistic:       </th> <td>   481.2</td> \n",
       "</tr>\n",
       "<tr>\n",
       "  <th>Date:</th>             <td>Thu, 30 Sep 2021</td> <th>  Prob (F-statistic):</th>  <td>  0.00</td>  \n",
       "</tr>\n",
       "<tr>\n",
       "  <th>Time:</th>                 <td>19:01:49</td>     <th>  Log-Likelihood:    </th> <td> -27943.</td> \n",
       "</tr>\n",
       "<tr>\n",
       "  <th>No. Observations:</th>      <td>  7711</td>      <th>  AIC:               </th> <td>5.590e+04</td>\n",
       "</tr>\n",
       "<tr>\n",
       "  <th>Df Residuals:</th>          <td>  7706</td>      <th>  BIC:               </th> <td>5.593e+04</td>\n",
       "</tr>\n",
       "<tr>\n",
       "  <th>Df Model:</th>              <td>     4</td>      <th>                     </th>     <td> </td>    \n",
       "</tr>\n",
       "<tr>\n",
       "  <th>Covariance Type:</th>      <td>nonrobust</td>    <th>                     </th>     <td> </td>    \n",
       "</tr>\n",
       "</table>\n",
       "<table class=\"simpletable\">\n",
       "<tr>\n",
       "      <td></td>         <th>coef</th>     <th>std err</th>      <th>t</th>      <th>P>|t|</th>  <th>[0.025</th>    <th>0.975]</th>  \n",
       "</tr>\n",
       "<tr>\n",
       "  <th>Intercept</th> <td>   -8.8373</td> <td>   12.337</td> <td>   -0.716</td> <td> 0.474</td> <td>  -33.021</td> <td>   15.346</td>\n",
       "</tr>\n",
       "<tr>\n",
       "  <th>age</th>       <td>    1.1457</td> <td>    0.841</td> <td>    1.363</td> <td> 0.173</td> <td>   -0.502</td> <td>    2.793</td>\n",
       "</tr>\n",
       "<tr>\n",
       "  <th>age2</th>      <td>   -0.0095</td> <td>    0.014</td> <td>   -0.667</td> <td> 0.505</td> <td>   -0.037</td> <td>    0.018</td>\n",
       "</tr>\n",
       "<tr>\n",
       "  <th>female</th>    <td>   -3.6635</td> <td>    0.211</td> <td>  -17.388</td> <td> 0.000</td> <td>   -4.076</td> <td>   -3.250</td>\n",
       "</tr>\n",
       "<tr>\n",
       "  <th>bachelor</th>  <td>    8.0856</td> <td>    0.209</td> <td>   38.714</td> <td> 0.000</td> <td>    7.676</td> <td>    8.495</td>\n",
       "</tr>\n",
       "</table>\n",
       "<table class=\"simpletable\">\n",
       "<tr>\n",
       "  <th>Omnibus:</th>       <td>1977.339</td> <th>  Durbin-Watson:     </th> <td>   1.830</td>\n",
       "</tr>\n",
       "<tr>\n",
       "  <th>Prob(Omnibus):</th>  <td> 0.000</td>  <th>  Jarque-Bera (JB):  </th> <td>6192.220</td>\n",
       "</tr>\n",
       "<tr>\n",
       "  <th>Skew:</th>           <td> 1.307</td>  <th>  Prob(JB):          </th> <td>    0.00</td>\n",
       "</tr>\n",
       "<tr>\n",
       "  <th>Kurtosis:</th>       <td> 6.528</td>  <th>  Cond. No.          </th> <td>1.08e+05</td>\n",
       "</tr>\n",
       "</table><br/><br/>Notes:<br/>[1] Standard Errors assume that the covariance matrix of the errors is correctly specified.<br/>[2] The condition number is large, 1.08e+05. This might indicate that there are<br/>strong multicollinearity or other numerical problems."
      ],
      "text/plain": [
       "<class 'statsmodels.iolib.summary.Summary'>\n",
       "\"\"\"\n",
       "                            OLS Regression Results                            \n",
       "==============================================================================\n",
       "Dep. Variable:                    ahe   R-squared:                       0.200\n",
       "Model:                            OLS   Adj. R-squared:                  0.199\n",
       "Method:                 Least Squares   F-statistic:                     481.2\n",
       "Date:                Thu, 30 Sep 2021   Prob (F-statistic):               0.00\n",
       "Time:                        19:01:49   Log-Likelihood:                -27943.\n",
       "No. Observations:                7711   AIC:                         5.590e+04\n",
       "Df Residuals:                    7706   BIC:                         5.593e+04\n",
       "Df Model:                           4                                         \n",
       "Covariance Type:            nonrobust                                         \n",
       "==============================================================================\n",
       "                 coef    std err          t      P>|t|      [0.025      0.975]\n",
       "------------------------------------------------------------------------------\n",
       "Intercept     -8.8373     12.337     -0.716      0.474     -33.021      15.346\n",
       "age            1.1457      0.841      1.363      0.173      -0.502       2.793\n",
       "age2          -0.0095      0.014     -0.667      0.505      -0.037       0.018\n",
       "female        -3.6635      0.211    -17.388      0.000      -4.076      -3.250\n",
       "bachelor       8.0856      0.209     38.714      0.000       7.676       8.495\n",
       "==============================================================================\n",
       "Omnibus:                     1977.339   Durbin-Watson:                   1.830\n",
       "Prob(Omnibus):                  0.000   Jarque-Bera (JB):             6192.220\n",
       "Skew:                           1.307   Prob(JB):                         0.00\n",
       "Kurtosis:                       6.528   Cond. No.                     1.08e+05\n",
       "==============================================================================\n",
       "\n",
       "Notes:\n",
       "[1] Standard Errors assume that the covariance matrix of the errors is correctly specified.\n",
       "[2] The condition number is large, 1.08e+05. This might indicate that there are\n",
       "strong multicollinearity or other numerical problems.\n",
       "\"\"\""
      ]
     },
     "execution_count": 22,
     "metadata": {},
     "output_type": "execute_result"
    }
   ],
   "source": [
    "JT4=ols('ahe ~ age + age2 + female + bachelor',data=cps08).fit()\n",
    "JT4.summary()"
   ]
  },
  {
   "cell_type": "code",
   "execution_count": 24,
   "metadata": {},
   "outputs": [
    {
     "name": "stdout",
     "output_type": "stream",
     "text": [
      "The expected AHE of a 40-year old woman, with a college degree is $26.21\n"
     ]
    }
   ],
   "source": [
    "print('The expected AHE of a 40-year old woman, with a college degree is ${:.2f}'.\n",
    "      format(-8.8373+1.1457*40-0.0095*40*40-3.66351*1+8.0856*1))"
   ]
  },
  {
   "cell_type": "code",
   "execution_count": 25,
   "metadata": {},
   "outputs": [
    {
     "name": "stdout",
     "output_type": "stream",
     "text": [
      "<F test: F=array([[130.87188441]]), p=1.2794267607818164e-56, df_denom=7.71e+03, df_num=2>\n"
     ]
    }
   ],
   "source": [
    "JTf_test = JT4.f_test('(age=0), (age2=0)')\n",
    "print(JTf_test)"
   ]
  },
  {
   "cell_type": "code",
   "execution_count": 26,
   "metadata": {},
   "outputs": [
    {
     "name": "stdout",
     "output_type": "stream",
     "text": [
      "            ahe  year  bachelor  female  age  age2  agefem\n",
      "0     38.461540  2008         1       0   33  1089       0\n",
      "1     12.500000  2008         1       0   31   961       0\n",
      "2      9.857142  2008         0       0   30   900       0\n",
      "3      8.241758  2008         0       0   30   900       0\n",
      "4     17.788462  2008         0       0   31   961       0\n",
      "...         ...   ...       ...     ...  ...   ...     ...\n",
      "7706  12.500000  2008         0       0   32  1024       0\n",
      "7707  24.725275  2008         1       1   28   784      28\n",
      "7708  41.208790  2008         1       0   33  1089       0\n",
      "7709   3.269231  2008         1       1   31   961      31\n",
      "7710  13.269231  2008         0       0   30   900       0\n",
      "\n",
      "[7711 rows x 7 columns]\n"
     ]
    }
   ],
   "source": [
    "cps08[\"agefem\"]=cps08[\"age\"]*cps08[\"female\"]\n",
    "print(cps08)"
   ]
  },
  {
   "cell_type": "code",
   "execution_count": 27,
   "metadata": {},
   "outputs": [
    {
     "data": {
      "text/html": [
       "<table class=\"simpletable\">\n",
       "<caption>OLS Regression Results</caption>\n",
       "<tr>\n",
       "  <th>Dep. Variable:</th>       <td>np.log(ahe)</td>   <th>  R-squared:         </th> <td>   0.203</td> \n",
       "</tr>\n",
       "<tr>\n",
       "  <th>Model:</th>                   <td>OLS</td>       <th>  Adj. R-squared:    </th> <td>   0.202</td> \n",
       "</tr>\n",
       "<tr>\n",
       "  <th>Method:</th>             <td>Least Squares</td>  <th>  F-statistic:       </th> <td>   489.8</td> \n",
       "</tr>\n",
       "<tr>\n",
       "  <th>Date:</th>             <td>Thu, 30 Sep 2021</td> <th>  Prob (F-statistic):</th>  <td>  0.00</td>  \n",
       "</tr>\n",
       "<tr>\n",
       "  <th>Time:</th>                 <td>19:05:26</td>     <th>  Log-Likelihood:    </th> <td> -5097.5</td> \n",
       "</tr>\n",
       "<tr>\n",
       "  <th>No. Observations:</th>      <td>  7711</td>      <th>  AIC:               </th> <td>1.020e+04</td>\n",
       "</tr>\n",
       "<tr>\n",
       "  <th>Df Residuals:</th>          <td>  7706</td>      <th>  BIC:               </th> <td>1.024e+04</td>\n",
       "</tr>\n",
       "<tr>\n",
       "  <th>Df Model:</th>              <td>     4</td>      <th>                     </th>     <td> </td>    \n",
       "</tr>\n",
       "<tr>\n",
       "  <th>Covariance Type:</th>      <td>nonrobust</td>    <th>                     </th>     <td> </td>    \n",
       "</tr>\n",
       "</table>\n",
       "<table class=\"simpletable\">\n",
       "<tr>\n",
       "      <td></td>         <th>coef</th>     <th>std err</th>      <th>t</th>      <th>P>|t|</th>  <th>[0.025</th>    <th>0.975]</th>  \n",
       "</tr>\n",
       "<tr>\n",
       "  <th>Intercept</th> <td>    1.6602</td> <td>    0.074</td> <td>   22.358</td> <td> 0.000</td> <td>    1.515</td> <td>    1.806</td>\n",
       "</tr>\n",
       "<tr>\n",
       "  <th>age</th>       <td>    0.0346</td> <td>    0.002</td> <td>   13.902</td> <td> 0.000</td> <td>    0.030</td> <td>    0.040</td>\n",
       "</tr>\n",
       "<tr>\n",
       "  <th>female</th>    <td>    0.3098</td> <td>    0.112</td> <td>    2.763</td> <td> 0.006</td> <td>    0.090</td> <td>    0.530</td>\n",
       "</tr>\n",
       "<tr>\n",
       "  <th>bachelor</th>  <td>    0.4267</td> <td>    0.011</td> <td>   39.521</td> <td> 0.000</td> <td>    0.406</td> <td>    0.448</td>\n",
       "</tr>\n",
       "<tr>\n",
       "  <th>agefem</th>    <td>   -0.0168</td> <td>    0.004</td> <td>   -4.442</td> <td> 0.000</td> <td>   -0.024</td> <td>   -0.009</td>\n",
       "</tr>\n",
       "</table>\n",
       "<table class=\"simpletable\">\n",
       "<tr>\n",
       "  <th>Omnibus:</th>       <td>361.189</td> <th>  Durbin-Watson:     </th> <td>   1.824</td> \n",
       "</tr>\n",
       "<tr>\n",
       "  <th>Prob(Omnibus):</th> <td> 0.000</td>  <th>  Jarque-Bera (JB):  </th> <td> 568.515</td> \n",
       "</tr>\n",
       "<tr>\n",
       "  <th>Skew:</th>          <td>-0.410</td>  <th>  Prob(JB):          </th> <td>3.54e-124</td>\n",
       "</tr>\n",
       "<tr>\n",
       "  <th>Kurtosis:</th>      <td> 4.047</td>  <th>  Cond. No.          </th> <td>    771.</td> \n",
       "</tr>\n",
       "</table><br/><br/>Notes:<br/>[1] Standard Errors assume that the covariance matrix of the errors is correctly specified."
      ],
      "text/plain": [
       "<class 'statsmodels.iolib.summary.Summary'>\n",
       "\"\"\"\n",
       "                            OLS Regression Results                            \n",
       "==============================================================================\n",
       "Dep. Variable:            np.log(ahe)   R-squared:                       0.203\n",
       "Model:                            OLS   Adj. R-squared:                  0.202\n",
       "Method:                 Least Squares   F-statistic:                     489.8\n",
       "Date:                Thu, 30 Sep 2021   Prob (F-statistic):               0.00\n",
       "Time:                        19:05:26   Log-Likelihood:                -5097.5\n",
       "No. Observations:                7711   AIC:                         1.020e+04\n",
       "Df Residuals:                    7706   BIC:                         1.024e+04\n",
       "Df Model:                           4                                         \n",
       "Covariance Type:            nonrobust                                         \n",
       "==============================================================================\n",
       "                 coef    std err          t      P>|t|      [0.025      0.975]\n",
       "------------------------------------------------------------------------------\n",
       "Intercept      1.6602      0.074     22.358      0.000       1.515       1.806\n",
       "age            0.0346      0.002     13.902      0.000       0.030       0.040\n",
       "female         0.3098      0.112      2.763      0.006       0.090       0.530\n",
       "bachelor       0.4267      0.011     39.521      0.000       0.406       0.448\n",
       "agefem        -0.0168      0.004     -4.442      0.000      -0.024      -0.009\n",
       "==============================================================================\n",
       "Omnibus:                      361.189   Durbin-Watson:                   1.824\n",
       "Prob(Omnibus):                  0.000   Jarque-Bera (JB):              568.515\n",
       "Skew:                          -0.410   Prob(JB):                    3.54e-124\n",
       "Kurtosis:                       4.047   Cond. No.                         771.\n",
       "==============================================================================\n",
       "\n",
       "Notes:\n",
       "[1] Standard Errors assume that the covariance matrix of the errors is correctly specified.\n",
       "\"\"\""
      ]
     },
     "execution_count": 27,
     "metadata": {},
     "output_type": "execute_result"
    }
   ],
   "source": [
    "JT7=ols('np.log(ahe) ~ age + female + bachelor + agefem',data=cps08).fit()\n",
    "JT7.summary()"
   ]
  },
  {
   "cell_type": "code",
   "execution_count": 28,
   "metadata": {},
   "outputs": [
    {
     "name": "stdout",
     "output_type": "stream",
     "text": [
      "The expected wage of a 40-year old woman with a bachelors degree is 3.11\n"
     ]
    }
   ],
   "source": [
    "print('The expected wage of a 40-year old woman with a bachelors degree is {:.2f}'.\n",
    "     format(1.6602+0.0346*40+0.3098*1+0.4267*1-0.0168*40*1))"
   ]
  },
  {
   "cell_type": "code",
   "execution_count": 29,
   "metadata": {},
   "outputs": [
    {
     "name": "stdout",
     "output_type": "stream",
     "text": [
      "            ahe  year  bachelor  female  age  age2  agefem  agebach\n",
      "0     38.461540  2008         1       0   33  1089       0       33\n",
      "1     12.500000  2008         1       0   31   961       0       31\n",
      "2      9.857142  2008         0       0   30   900       0        0\n",
      "3      8.241758  2008         0       0   30   900       0        0\n",
      "4     17.788462  2008         0       0   31   961       0        0\n",
      "...         ...   ...       ...     ...  ...   ...     ...      ...\n",
      "7706  12.500000  2008         0       0   32  1024       0        0\n",
      "7707  24.725275  2008         1       1   28   784      28       28\n",
      "7708  41.208790  2008         1       0   33  1089       0       33\n",
      "7709   3.269231  2008         1       1   31   961      31       31\n",
      "7710  13.269231  2008         0       0   30   900       0        0\n",
      "\n",
      "[7711 rows x 8 columns]\n"
     ]
    }
   ],
   "source": [
    "cps08[\"agebach\"]=cps08[\"age\"]*cps08[\"bachelor\"]\n",
    "print(cps08)"
   ]
  },
  {
   "cell_type": "code",
   "execution_count": 30,
   "metadata": {},
   "outputs": [
    {
     "data": {
      "text/html": [
       "<table class=\"simpletable\">\n",
       "<caption>OLS Regression Results</caption>\n",
       "<tr>\n",
       "  <th>Dep. Variable:</th>       <td>np.log(ahe)</td>   <th>  R-squared:         </th> <td>   0.203</td> \n",
       "</tr>\n",
       "<tr>\n",
       "  <th>Model:</th>                   <td>OLS</td>       <th>  Adj. R-squared:    </th> <td>   0.202</td> \n",
       "</tr>\n",
       "<tr>\n",
       "  <th>Method:</th>             <td>Least Squares</td>  <th>  F-statistic:       </th> <td>   489.8</td> \n",
       "</tr>\n",
       "<tr>\n",
       "  <th>Date:</th>             <td>Thu, 30 Sep 2021</td> <th>  Prob (F-statistic):</th>  <td>  0.00</td>  \n",
       "</tr>\n",
       "<tr>\n",
       "  <th>Time:</th>                 <td>19:09:11</td>     <th>  Log-Likelihood:    </th> <td> -5097.5</td> \n",
       "</tr>\n",
       "<tr>\n",
       "  <th>No. Observations:</th>      <td>  7711</td>      <th>  AIC:               </th> <td>1.020e+04</td>\n",
       "</tr>\n",
       "<tr>\n",
       "  <th>Df Residuals:</th>          <td>  7706</td>      <th>  BIC:               </th> <td>1.024e+04</td>\n",
       "</tr>\n",
       "<tr>\n",
       "  <th>Df Model:</th>              <td>     4</td>      <th>                     </th>     <td> </td>    \n",
       "</tr>\n",
       "<tr>\n",
       "  <th>Covariance Type:</th>      <td>nonrobust</td>    <th>                     </th>     <td> </td>    \n",
       "</tr>\n",
       "</table>\n",
       "<table class=\"simpletable\">\n",
       "<tr>\n",
       "      <td></td>         <th>coef</th>     <th>std err</th>      <th>t</th>      <th>P>|t|</th>  <th>[0.025</th>    <th>0.975]</th>  \n",
       "</tr>\n",
       "<tr>\n",
       "  <th>Intercept</th> <td>    2.1168</td> <td>    0.078</td> <td>   27.182</td> <td> 0.000</td> <td>    1.964</td> <td>    2.270</td>\n",
       "</tr>\n",
       "<tr>\n",
       "  <th>age</th>       <td>    0.0192</td> <td>    0.003</td> <td>    7.326</td> <td> 0.000</td> <td>    0.014</td> <td>    0.024</td>\n",
       "</tr>\n",
       "<tr>\n",
       "  <th>female</th>    <td>   -0.1844</td> <td>    0.011</td> <td>  -16.931</td> <td> 0.000</td> <td>   -0.206</td> <td>   -0.163</td>\n",
       "</tr>\n",
       "<tr>\n",
       "  <th>bachelor</th>  <td>   -0.0649</td> <td>    0.111</td> <td>   -0.583</td> <td> 0.560</td> <td>   -0.283</td> <td>    0.153</td>\n",
       "</tr>\n",
       "<tr>\n",
       "  <th>agebach</th>   <td>    0.0167</td> <td>    0.004</td> <td>    4.452</td> <td> 0.000</td> <td>    0.009</td> <td>    0.024</td>\n",
       "</tr>\n",
       "</table>\n",
       "<table class=\"simpletable\">\n",
       "<tr>\n",
       "  <th>Omnibus:</th>       <td>367.268</td> <th>  Durbin-Watson:     </th> <td>   1.819</td> \n",
       "</tr>\n",
       "<tr>\n",
       "  <th>Prob(Omnibus):</th> <td> 0.000</td>  <th>  Jarque-Bera (JB):  </th> <td> 574.343</td> \n",
       "</tr>\n",
       "<tr>\n",
       "  <th>Skew:</th>          <td>-0.418</td>  <th>  Prob(JB):          </th> <td>1.92e-125</td>\n",
       "</tr>\n",
       "<tr>\n",
       "  <th>Kurtosis:</th>      <td> 4.044</td>  <th>  Cond. No.          </th> <td>    800.</td> \n",
       "</tr>\n",
       "</table><br/><br/>Notes:<br/>[1] Standard Errors assume that the covariance matrix of the errors is correctly specified."
      ],
      "text/plain": [
       "<class 'statsmodels.iolib.summary.Summary'>\n",
       "\"\"\"\n",
       "                            OLS Regression Results                            \n",
       "==============================================================================\n",
       "Dep. Variable:            np.log(ahe)   R-squared:                       0.203\n",
       "Model:                            OLS   Adj. R-squared:                  0.202\n",
       "Method:                 Least Squares   F-statistic:                     489.8\n",
       "Date:                Thu, 30 Sep 2021   Prob (F-statistic):               0.00\n",
       "Time:                        19:09:11   Log-Likelihood:                -5097.5\n",
       "No. Observations:                7711   AIC:                         1.020e+04\n",
       "Df Residuals:                    7706   BIC:                         1.024e+04\n",
       "Df Model:                           4                                         \n",
       "Covariance Type:            nonrobust                                         \n",
       "==============================================================================\n",
       "                 coef    std err          t      P>|t|      [0.025      0.975]\n",
       "------------------------------------------------------------------------------\n",
       "Intercept      2.1168      0.078     27.182      0.000       1.964       2.270\n",
       "age            0.0192      0.003      7.326      0.000       0.014       0.024\n",
       "female        -0.1844      0.011    -16.931      0.000      -0.206      -0.163\n",
       "bachelor      -0.0649      0.111     -0.583      0.560      -0.283       0.153\n",
       "agebach        0.0167      0.004      4.452      0.000       0.009       0.024\n",
       "==============================================================================\n",
       "Omnibus:                      367.268   Durbin-Watson:                   1.819\n",
       "Prob(Omnibus):                  0.000   Jarque-Bera (JB):              574.343\n",
       "Skew:                          -0.418   Prob(JB):                    1.92e-125\n",
       "Kurtosis:                       4.044   Cond. No.                         800.\n",
       "==============================================================================\n",
       "\n",
       "Notes:\n",
       "[1] Standard Errors assume that the covariance matrix of the errors is correctly specified.\n",
       "\"\"\""
      ]
     },
     "execution_count": 30,
     "metadata": {},
     "output_type": "execute_result"
    }
   ],
   "source": [
    "JT9=ols('np.log(ahe) ~ age + female + bachelor + agebach',data=cps08).fit()\n",
    "JT9.summary()"
   ]
  },
  {
   "cell_type": "code",
   "execution_count": 31,
   "metadata": {},
   "outputs": [
    {
     "name": "stdout",
     "output_type": "stream",
     "text": [
      "The expected wage (in logs) of a 40-year old woman with a bachelors degree is 3.30\n"
     ]
    }
   ],
   "source": [
    "print('The expected wage (in logs) of a 40-year old woman with a bachelors degree is {:.2f}'.\n",
    "      format(2.1168+0.0192*40-0.1844*1-0.0649*1+0.0167*40))"
   ]
  },
  {
   "cell_type": "code",
   "execution_count": null,
   "metadata": {},
   "outputs": [],
   "source": [
    "#####"
   ]
  }
 ],
 "metadata": {
  "kernelspec": {
   "display_name": "Python 3",
   "language": "python",
   "name": "python3"
  },
  "language_info": {
   "codemirror_mode": {
    "name": "ipython",
    "version": 3
   },
   "file_extension": ".py",
   "mimetype": "text/x-python",
   "name": "python",
   "nbconvert_exporter": "python",
   "pygments_lexer": "ipython3",
   "version": "3.8.5"
  }
 },
 "nbformat": 4,
 "nbformat_minor": 4
}
