{
 "cells": [
  {
   "cell_type": "code",
   "execution_count": 1,
   "metadata": {},
   "outputs": [],
   "source": [
    "import numpy as np\n",
    "import pandas as pd\n",
    "import statistics as st\n",
    "import scipy.stats as sst\n",
    "import math\n",
    "\n",
    "import statsmodels.api as sm\n",
    "import statsmodels.stats.api as sms\n",
    "import statsmodels.formula.api as smf\n",
    "from statsmodels.iolib.summary2 import summary_col"
   ]
  },
  {
   "cell_type": "code",
   "execution_count": 2,
   "metadata": {},
   "outputs": [
    {
     "name": "stdout",
     "output_type": "stream",
     "text": [
      "      smoker  smkban  age  hsdrop  hsgrad  colsome  colgrad  black  hispanic  \\\n",
      "0          1       1   41       0       1        0        0      0         0   \n",
      "1          1       1   44       0       0        1        0      0         0   \n",
      "2          0       0   19       0       0        1        0      0         0   \n",
      "3          1       0   29       0       1        0        0      0         0   \n",
      "4          0       1   28       0       0        1        0      0         0   \n",
      "...      ...     ...  ...     ...     ...      ...      ...    ...       ...   \n",
      "9995       0       0   55       0       1        0        0      0         0   \n",
      "9996       0       0   31       0       0        0        0      0         0   \n",
      "9997       0       1   36       0       0        1        0      0         0   \n",
      "9998       1       0   42       0       1        0        0      0         0   \n",
      "9999       0       1   35       0       0        1        0      0         0   \n",
      "\n",
      "      female  \n",
      "0          1  \n",
      "1          1  \n",
      "2          1  \n",
      "3          1  \n",
      "4          1  \n",
      "...      ...  \n",
      "9995       0  \n",
      "9996       0  \n",
      "9997       1  \n",
      "9998       1  \n",
      "9999       0  \n",
      "\n",
      "[10000 rows x 10 columns]\n"
     ]
    }
   ],
   "source": [
    "Ch11data = pd.read_excel('/Users/jennifer/Desktop/Baruch F21/ECO 9723 Econometrics/Hw10:27/Smoking.xlsx', sheet_name='Smoking')\n",
    "print(Ch11data)"
   ]
  },
  {
   "cell_type": "code",
   "execution_count": 3,
   "metadata": {},
   "outputs": [
    {
     "data": {
      "text/plain": [
       "'/Users/jennifer/Desktop/Baruch F21/ECO 9723 Econometrics/Hw10:27'"
      ]
     },
     "execution_count": 3,
     "metadata": {},
     "output_type": "execute_result"
    }
   ],
   "source": [
    "import os\n",
    "os.getcwd()"
   ]
  },
  {
   "cell_type": "code",
   "execution_count": 28,
   "metadata": {},
   "outputs": [
    {
     "name": "stdout",
     "output_type": "stream",
     "text": [
      "      smoker  smkban  age  hsdrop  hsgrad  colsome  colgrad  black  hispanic  \\\n",
      "0          1       1   41       0       1        0        0      0         0   \n",
      "1          1       1   44       0       0        1        0      0         0   \n",
      "2          0       0   19       0       0        1        0      0         0   \n",
      "3          1       0   29       0       1        0        0      0         0   \n",
      "4          0       1   28       0       0        1        0      0         0   \n",
      "...      ...     ...  ...     ...     ...      ...      ...    ...       ...   \n",
      "9995       0       0   55       0       1        0        0      0         0   \n",
      "9996       0       0   31       0       0        0        0      0         0   \n",
      "9997       0       1   36       0       0        1        0      0         0   \n",
      "9998       1       0   42       0       1        0        0      0         0   \n",
      "9999       0       1   35       0       0        1        0      0         0   \n",
      "\n",
      "      female  age2  \n",
      "0          1  1681  \n",
      "1          1  1936  \n",
      "2          1   361  \n",
      "3          1   841  \n",
      "4          1   784  \n",
      "...      ...   ...  \n",
      "9995       0  3025  \n",
      "9996       0   961  \n",
      "9997       1  1296  \n",
      "9998       1  1764  \n",
      "9999       0  1225  \n",
      "\n",
      "[10000 rows x 11 columns]\n"
     ]
    }
   ],
   "source": [
    "df=pd.DataFrame(Ch11data)\n",
    "print(df)"
   ]
  },
  {
   "cell_type": "code",
   "execution_count": 5,
   "metadata": {},
   "outputs": [
    {
     "name": "stdout",
     "output_type": "stream",
     "text": [
      "Mean of all workers is 0.242\n"
     ]
    },
    {
     "data": {
      "text/plain": [
       "smkban\n",
       "0    0.289595\n",
       "1    0.212037\n",
       "Name: smoker, dtype: float64"
      ]
     },
     "execution_count": 5,
     "metadata": {},
     "output_type": "execute_result"
    }
   ],
   "source": [
    "#a\n",
    "\n",
    "allmean = np.mean(Ch11data[\"smoker\"])\n",
    "print('Mean of all workers is {:.3f}'.format(allmean))\n",
    "means = Ch11data.groupby('smkban')['smoker'].mean()\n",
    "means"
   ]
  },
  {
   "cell_type": "code",
   "execution_count": 6,
   "metadata": {},
   "outputs": [
    {
     "name": "stdout",
     "output_type": "stream",
     "text": [
      "The different between ban and no smoking ban is 0.078\n"
     ]
    }
   ],
   "source": [
    "#b\n",
    "\n",
    "print('The different between ban and no smoking ban is {:.3f}'.format(0.289595-0.212037))"
   ]
  },
  {
   "cell_type": "code",
   "execution_count": 7,
   "metadata": {},
   "outputs": [
    {
     "data": {
      "text/html": [
       "<table class=\"simpletable\">\n",
       "<caption>OLS Regression Results</caption>\n",
       "<tr>\n",
       "  <th>Dep. Variable:</th>         <td>smoker</td>      <th>  R-squared:         </th> <td>   0.008</td> \n",
       "</tr>\n",
       "<tr>\n",
       "  <th>Model:</th>                   <td>OLS</td>       <th>  Adj. R-squared:    </th> <td>   0.008</td> \n",
       "</tr>\n",
       "<tr>\n",
       "  <th>Method:</th>             <td>Least Squares</td>  <th>  F-statistic:       </th> <td>   75.06</td> \n",
       "</tr>\n",
       "<tr>\n",
       "  <th>Date:</th>             <td>Sat, 18 Dec 2021</td> <th>  Prob (F-statistic):</th> <td>5.27e-18</td> \n",
       "</tr>\n",
       "<tr>\n",
       "  <th>Time:</th>                 <td>22:19:30</td>     <th>  Log-Likelihood:    </th> <td> -5675.0</td> \n",
       "</tr>\n",
       "<tr>\n",
       "  <th>No. Observations:</th>      <td> 10000</td>      <th>  AIC:               </th> <td>1.135e+04</td>\n",
       "</tr>\n",
       "<tr>\n",
       "  <th>Df Residuals:</th>          <td>  9998</td>      <th>  BIC:               </th> <td>1.137e+04</td>\n",
       "</tr>\n",
       "<tr>\n",
       "  <th>Df Model:</th>              <td>     1</td>      <th>                     </th>     <td> </td>    \n",
       "</tr>\n",
       "<tr>\n",
       "  <th>Covariance Type:</th>         <td>HC1</td>       <th>                     </th>     <td> </td>    \n",
       "</tr>\n",
       "</table>\n",
       "<table class=\"simpletable\">\n",
       "<tr>\n",
       "      <td></td>         <th>coef</th>     <th>std err</th>      <th>z</th>      <th>P>|z|</th>  <th>[0.025</th>    <th>0.975]</th>  \n",
       "</tr>\n",
       "<tr>\n",
       "  <th>Intercept</th> <td>    0.2896</td> <td>    0.007</td> <td>   39.879</td> <td> 0.000</td> <td>    0.275</td> <td>    0.304</td>\n",
       "</tr>\n",
       "<tr>\n",
       "  <th>smkban</th>    <td>   -0.0776</td> <td>    0.009</td> <td>   -8.664</td> <td> 0.000</td> <td>   -0.095</td> <td>   -0.060</td>\n",
       "</tr>\n",
       "</table>\n",
       "<table class=\"simpletable\">\n",
       "<tr>\n",
       "  <th>Omnibus:</th>       <td>1765.260</td> <th>  Durbin-Watson:     </th> <td>   1.851</td>\n",
       "</tr>\n",
       "<tr>\n",
       "  <th>Prob(Omnibus):</th>  <td> 0.000</td>  <th>  Jarque-Bera (JB):  </th> <td>2479.745</td>\n",
       "</tr>\n",
       "<tr>\n",
       "  <th>Skew:</th>           <td> 1.189</td>  <th>  Prob(JB):          </th> <td>    0.00</td>\n",
       "</tr>\n",
       "<tr>\n",
       "  <th>Kurtosis:</th>       <td> 2.458</td>  <th>  Cond. No.          </th> <td>    2.96</td>\n",
       "</tr>\n",
       "</table><br/><br/>Notes:<br/>[1] Standard Errors are heteroscedasticity robust (HC1)"
      ],
      "text/plain": [
       "<class 'statsmodels.iolib.summary.Summary'>\n",
       "\"\"\"\n",
       "                            OLS Regression Results                            \n",
       "==============================================================================\n",
       "Dep. Variable:                 smoker   R-squared:                       0.008\n",
       "Model:                            OLS   Adj. R-squared:                  0.008\n",
       "Method:                 Least Squares   F-statistic:                     75.06\n",
       "Date:                Sat, 18 Dec 2021   Prob (F-statistic):           5.27e-18\n",
       "Time:                        22:19:30   Log-Likelihood:                -5675.0\n",
       "No. Observations:               10000   AIC:                         1.135e+04\n",
       "Df Residuals:                    9998   BIC:                         1.137e+04\n",
       "Df Model:                           1                                         \n",
       "Covariance Type:                  HC1                                         \n",
       "==============================================================================\n",
       "                 coef    std err          z      P>|z|      [0.025      0.975]\n",
       "------------------------------------------------------------------------------\n",
       "Intercept      0.2896      0.007     39.879      0.000       0.275       0.304\n",
       "smkban        -0.0776      0.009     -8.664      0.000      -0.095      -0.060\n",
       "==============================================================================\n",
       "Omnibus:                     1765.260   Durbin-Watson:                   1.851\n",
       "Prob(Omnibus):                  0.000   Jarque-Bera (JB):             2479.745\n",
       "Skew:                           1.189   Prob(JB):                         0.00\n",
       "Kurtosis:                       2.458   Cond. No.                         2.96\n",
       "==============================================================================\n",
       "\n",
       "Notes:\n",
       "[1] Standard Errors are heteroscedasticity robust (HC1)\n",
       "\"\"\""
      ]
     },
     "execution_count": 7,
     "metadata": {},
     "output_type": "execute_result"
    }
   ],
   "source": [
    "lin_prob = smf.ols(\"smoker ~ smkban\", data=df)\n",
    "results = lin_prob.fit(cov_type='HC1')\n",
    "results.summary()"
   ]
  },
  {
   "cell_type": "code",
   "execution_count": 8,
   "metadata": {},
   "outputs": [
    {
     "name": "stdout",
     "output_type": "stream",
     "text": [
      "      smoker  smkban  age  hsdrop  hsgrad  colsome  colgrad  black  hispanic  \\\n",
      "0          1       1   41       0       1        0        0      0         0   \n",
      "1          1       1   44       0       0        1        0      0         0   \n",
      "2          0       0   19       0       0        1        0      0         0   \n",
      "3          1       0   29       0       1        0        0      0         0   \n",
      "4          0       1   28       0       0        1        0      0         0   \n",
      "...      ...     ...  ...     ...     ...      ...      ...    ...       ...   \n",
      "9995       0       0   55       0       1        0        0      0         0   \n",
      "9996       0       0   31       0       0        0        0      0         0   \n",
      "9997       0       1   36       0       0        1        0      0         0   \n",
      "9998       1       0   42       0       1        0        0      0         0   \n",
      "9999       0       1   35       0       0        1        0      0         0   \n",
      "\n",
      "      female  age2  \n",
      "0          1  1681  \n",
      "1          1  1936  \n",
      "2          1   361  \n",
      "3          1   841  \n",
      "4          1   784  \n",
      "...      ...   ...  \n",
      "9995       0  3025  \n",
      "9996       0   961  \n",
      "9997       1  1296  \n",
      "9998       1  1764  \n",
      "9999       0  1225  \n",
      "\n",
      "[10000 rows x 11 columns]\n"
     ]
    }
   ],
   "source": [
    "#c\n",
    "\n",
    "df[\"age2\"]=df[\"age\"]**2\n",
    "print(df)"
   ]
  },
  {
   "cell_type": "code",
   "execution_count": 9,
   "metadata": {},
   "outputs": [
    {
     "data": {
      "text/html": [
       "<table class=\"simpletable\">\n",
       "<caption>OLS Regression Results</caption>\n",
       "<tr>\n",
       "  <th>Dep. Variable:</th>         <td>smoker</td>      <th>  R-squared:         </th> <td>   0.057</td> \n",
       "</tr>\n",
       "<tr>\n",
       "  <th>Model:</th>                   <td>OLS</td>       <th>  Adj. R-squared:    </th> <td>   0.056</td> \n",
       "</tr>\n",
       "<tr>\n",
       "  <th>Method:</th>             <td>Least Squares</td>  <th>  F-statistic:       </th> <td>   68.75</td> \n",
       "</tr>\n",
       "<tr>\n",
       "  <th>Date:</th>             <td>Sat, 18 Dec 2021</td> <th>  Prob (F-statistic):</th> <td>1.92e-136</td>\n",
       "</tr>\n",
       "<tr>\n",
       "  <th>Time:</th>                 <td>22:19:30</td>     <th>  Log-Likelihood:    </th> <td> -5420.7</td> \n",
       "</tr>\n",
       "<tr>\n",
       "  <th>No. Observations:</th>      <td> 10000</td>      <th>  AIC:               </th> <td>1.086e+04</td>\n",
       "</tr>\n",
       "<tr>\n",
       "  <th>Df Residuals:</th>          <td>  9989</td>      <th>  BIC:               </th> <td>1.094e+04</td>\n",
       "</tr>\n",
       "<tr>\n",
       "  <th>Df Model:</th>              <td>    10</td>      <th>                     </th>     <td> </td>    \n",
       "</tr>\n",
       "<tr>\n",
       "  <th>Covariance Type:</th>         <td>HC1</td>       <th>                     </th>     <td> </td>    \n",
       "</tr>\n",
       "</table>\n",
       "<table class=\"simpletable\">\n",
       "<tr>\n",
       "      <td></td>         <th>coef</th>     <th>std err</th>      <th>z</th>      <th>P>|z|</th>  <th>[0.025</th>    <th>0.975]</th>  \n",
       "</tr>\n",
       "<tr>\n",
       "  <th>Intercept</th> <td>   -0.0141</td> <td>    0.041</td> <td>   -0.341</td> <td> 0.733</td> <td>   -0.095</td> <td>    0.067</td>\n",
       "</tr>\n",
       "<tr>\n",
       "  <th>smkban</th>    <td>   -0.0472</td> <td>    0.009</td> <td>   -5.269</td> <td> 0.000</td> <td>   -0.065</td> <td>   -0.030</td>\n",
       "</tr>\n",
       "<tr>\n",
       "  <th>female</th>    <td>   -0.0333</td> <td>    0.009</td> <td>   -3.881</td> <td> 0.000</td> <td>   -0.050</td> <td>   -0.016</td>\n",
       "</tr>\n",
       "<tr>\n",
       "  <th>age</th>       <td>    0.0097</td> <td>    0.002</td> <td>    5.104</td> <td> 0.000</td> <td>    0.006</td> <td>    0.013</td>\n",
       "</tr>\n",
       "<tr>\n",
       "  <th>age2</th>      <td>   -0.0001</td> <td> 2.19e-05</td> <td>   -6.017</td> <td> 0.000</td> <td>   -0.000</td> <td>-8.89e-05</td>\n",
       "</tr>\n",
       "<tr>\n",
       "  <th>hsdrop</th>    <td>    0.3227</td> <td>    0.019</td> <td>   16.559</td> <td> 0.000</td> <td>    0.285</td> <td>    0.361</td>\n",
       "</tr>\n",
       "<tr>\n",
       "  <th>hsgrad</th>    <td>    0.2327</td> <td>    0.013</td> <td>   18.483</td> <td> 0.000</td> <td>    0.208</td> <td>    0.257</td>\n",
       "</tr>\n",
       "<tr>\n",
       "  <th>colsome</th>   <td>    0.1643</td> <td>    0.013</td> <td>   13.014</td> <td> 0.000</td> <td>    0.140</td> <td>    0.189</td>\n",
       "</tr>\n",
       "<tr>\n",
       "  <th>colgrad</th>   <td>    0.0448</td> <td>    0.012</td> <td>    3.720</td> <td> 0.000</td> <td>    0.021</td> <td>    0.068</td>\n",
       "</tr>\n",
       "<tr>\n",
       "  <th>black</th>     <td>   -0.0276</td> <td>    0.016</td> <td>   -1.714</td> <td> 0.086</td> <td>   -0.059</td> <td>    0.004</td>\n",
       "</tr>\n",
       "<tr>\n",
       "  <th>hispanic</th>  <td>   -0.1048</td> <td>    0.014</td> <td>   -7.500</td> <td> 0.000</td> <td>   -0.132</td> <td>   -0.077</td>\n",
       "</tr>\n",
       "</table>\n",
       "<table class=\"simpletable\">\n",
       "<tr>\n",
       "  <th>Omnibus:</th>       <td>1557.853</td> <th>  Durbin-Watson:     </th> <td>   1.875</td>\n",
       "</tr>\n",
       "<tr>\n",
       "  <th>Prob(Omnibus):</th>  <td> 0.000</td>  <th>  Jarque-Bera (JB):  </th> <td>2100.981</td>\n",
       "</tr>\n",
       "<tr>\n",
       "  <th>Skew:</th>           <td> 1.093</td>  <th>  Prob(JB):          </th> <td>    0.00</td>\n",
       "</tr>\n",
       "<tr>\n",
       "  <th>Kurtosis:</th>       <td> 2.486</td>  <th>  Cond. No.          </th> <td>2.11e+04</td>\n",
       "</tr>\n",
       "</table><br/><br/>Notes:<br/>[1] Standard Errors are heteroscedasticity robust (HC1)<br/>[2] The condition number is large, 2.11e+04. This might indicate that there are<br/>strong multicollinearity or other numerical problems."
      ],
      "text/plain": [
       "<class 'statsmodels.iolib.summary.Summary'>\n",
       "\"\"\"\n",
       "                            OLS Regression Results                            \n",
       "==============================================================================\n",
       "Dep. Variable:                 smoker   R-squared:                       0.057\n",
       "Model:                            OLS   Adj. R-squared:                  0.056\n",
       "Method:                 Least Squares   F-statistic:                     68.75\n",
       "Date:                Sat, 18 Dec 2021   Prob (F-statistic):          1.92e-136\n",
       "Time:                        22:19:30   Log-Likelihood:                -5420.7\n",
       "No. Observations:               10000   AIC:                         1.086e+04\n",
       "Df Residuals:                    9989   BIC:                         1.094e+04\n",
       "Df Model:                          10                                         \n",
       "Covariance Type:                  HC1                                         \n",
       "==============================================================================\n",
       "                 coef    std err          z      P>|z|      [0.025      0.975]\n",
       "------------------------------------------------------------------------------\n",
       "Intercept     -0.0141      0.041     -0.341      0.733      -0.095       0.067\n",
       "smkban        -0.0472      0.009     -5.269      0.000      -0.065      -0.030\n",
       "female        -0.0333      0.009     -3.881      0.000      -0.050      -0.016\n",
       "age            0.0097      0.002      5.104      0.000       0.006       0.013\n",
       "age2          -0.0001   2.19e-05     -6.017      0.000      -0.000   -8.89e-05\n",
       "hsdrop         0.3227      0.019     16.559      0.000       0.285       0.361\n",
       "hsgrad         0.2327      0.013     18.483      0.000       0.208       0.257\n",
       "colsome        0.1643      0.013     13.014      0.000       0.140       0.189\n",
       "colgrad        0.0448      0.012      3.720      0.000       0.021       0.068\n",
       "black         -0.0276      0.016     -1.714      0.086      -0.059       0.004\n",
       "hispanic      -0.1048      0.014     -7.500      0.000      -0.132      -0.077\n",
       "==============================================================================\n",
       "Omnibus:                     1557.853   Durbin-Watson:                   1.875\n",
       "Prob(Omnibus):                  0.000   Jarque-Bera (JB):             2100.981\n",
       "Skew:                           1.093   Prob(JB):                         0.00\n",
       "Kurtosis:                       2.486   Cond. No.                     2.11e+04\n",
       "==============================================================================\n",
       "\n",
       "Notes:\n",
       "[1] Standard Errors are heteroscedasticity robust (HC1)\n",
       "[2] The condition number is large, 2.11e+04. This might indicate that there are\n",
       "strong multicollinearity or other numerical problems.\n",
       "\"\"\""
      ]
     },
     "execution_count": 9,
     "metadata": {},
     "output_type": "execute_result"
    }
   ],
   "source": [
    "lin_prob_multi = smf.ols(\"smoker ~ smkban+female+age+age2+hsdrop+hsgrad+colsome+colgrad+black+hispanic\", data=df)\n",
    "results_multi = lin_prob_multi.fit(cov_type='HC1')\n",
    "results_multi.summary()"
   ]
  },
  {
   "cell_type": "code",
   "execution_count": 10,
   "metadata": {},
   "outputs": [
    {
     "name": "stdout",
     "output_type": "stream",
     "text": [
      "Because the t-test is -5.269, the coefficient is statistically significant at the 1% level.\n"
     ]
    }
   ],
   "source": [
    "print('Because the t-test is -5.269, the coefficient is statistically significant at the 1% level.')"
   ]
  },
  {
   "cell_type": "code",
   "execution_count": 11,
   "metadata": {},
   "outputs": [
    {
     "name": "stdout",
     "output_type": "stream",
     "text": [
      "<F test: F=array([[140.08992445]]), p=1.0846809960250739e-116, df_denom=9.99e+03, df_num=4>\n"
     ]
    }
   ],
   "source": [
    "#e\n",
    "\n",
    "lin_prob_multi = smf.ols(\"smoker ~ smkban+female+age+age2+hsdrop+hsgrad+colsome+colgrad+black+hispanic\", data=df)\n",
    "results_multi = lin_prob_multi.fit(cov_type='HC1')\n",
    "results_multi.summary()\n",
    "\n",
    "hypotheses = '(hsdrop = 0), (hsgrad = 0), (colsome = 0), (colgrad = 0)'\n",
    "f_test = results_multi.f_test(hypotheses)\n",
    "print(f_test)"
   ]
  },
  {
   "cell_type": "code",
   "execution_count": 12,
   "metadata": {},
   "outputs": [
    {
     "name": "stdout",
     "output_type": "stream",
     "text": [
      "Optimization terminated successfully.\n",
      "         Current function value: 0.523587\n",
      "         Iterations 6\n"
     ]
    },
    {
     "data": {
      "text/html": [
       "<table class=\"simpletable\">\n",
       "<caption>Probit Regression Results</caption>\n",
       "<tr>\n",
       "  <th>Dep. Variable:</th>        <td>smoker</td>      <th>  No. Observations:  </th>   <td> 10000</td>  \n",
       "</tr>\n",
       "<tr>\n",
       "  <th>Model:</th>                <td>Probit</td>      <th>  Df Residuals:      </th>   <td>  9989</td>  \n",
       "</tr>\n",
       "<tr>\n",
       "  <th>Method:</th>                 <td>MLE</td>       <th>  Df Model:          </th>   <td>    10</td>  \n",
       "</tr>\n",
       "<tr>\n",
       "  <th>Date:</th>            <td>Sat, 18 Dec 2021</td> <th>  Pseudo R-squ.:     </th>   <td>0.05441</td> \n",
       "</tr>\n",
       "<tr>\n",
       "  <th>Time:</th>                <td>22:19:30</td>     <th>  Log-Likelihood:    </th>  <td> -5235.9</td> \n",
       "</tr>\n",
       "<tr>\n",
       "  <th>converged:</th>             <td>True</td>       <th>  LL-Null:           </th>  <td> -5537.2</td> \n",
       "</tr>\n",
       "<tr>\n",
       "  <th>Covariance Type:</th>        <td>HC1</td>       <th>  LLR p-value:       </th> <td>4.891e-123</td>\n",
       "</tr>\n",
       "</table>\n",
       "<table class=\"simpletable\">\n",
       "<tr>\n",
       "      <td></td>         <th>coef</th>     <th>std err</th>      <th>z</th>      <th>P>|z|</th>  <th>[0.025</th>    <th>0.975]</th>  \n",
       "</tr>\n",
       "<tr>\n",
       "  <th>Intercept</th> <td>   -1.7349</td> <td>    0.152</td> <td>  -11.416</td> <td> 0.000</td> <td>   -2.033</td> <td>   -1.437</td>\n",
       "</tr>\n",
       "<tr>\n",
       "  <th>smkban</th>    <td>   -0.1586</td> <td>    0.029</td> <td>   -5.450</td> <td> 0.000</td> <td>   -0.216</td> <td>   -0.102</td>\n",
       "</tr>\n",
       "<tr>\n",
       "  <th>female</th>    <td>   -0.1117</td> <td>    0.029</td> <td>   -3.874</td> <td> 0.000</td> <td>   -0.168</td> <td>   -0.055</td>\n",
       "</tr>\n",
       "<tr>\n",
       "  <th>age</th>       <td>    0.0345</td> <td>    0.007</td> <td>    5.014</td> <td> 0.000</td> <td>    0.021</td> <td>    0.048</td>\n",
       "</tr>\n",
       "<tr>\n",
       "  <th>age2</th>      <td>   -0.0005</td> <td> 8.26e-05</td> <td>   -5.657</td> <td> 0.000</td> <td>   -0.001</td> <td>   -0.000</td>\n",
       "</tr>\n",
       "<tr>\n",
       "  <th>hsdrop</th>    <td>    1.1416</td> <td>    0.073</td> <td>   15.646</td> <td> 0.000</td> <td>    0.999</td> <td>    1.285</td>\n",
       "</tr>\n",
       "<tr>\n",
       "  <th>hsgrad</th>    <td>    0.8827</td> <td>    0.060</td> <td>   14.622</td> <td> 0.000</td> <td>    0.764</td> <td>    1.001</td>\n",
       "</tr>\n",
       "<tr>\n",
       "  <th>colsome</th>   <td>    0.6771</td> <td>    0.061</td> <td>   11.021</td> <td> 0.000</td> <td>    0.557</td> <td>    0.798</td>\n",
       "</tr>\n",
       "<tr>\n",
       "  <th>colgrad</th>   <td>    0.2347</td> <td>    0.065</td> <td>    3.588</td> <td> 0.000</td> <td>    0.106</td> <td>    0.363</td>\n",
       "</tr>\n",
       "<tr>\n",
       "  <th>black</th>     <td>   -0.0843</td> <td>    0.053</td> <td>   -1.577</td> <td> 0.115</td> <td>   -0.189</td> <td>    0.020</td>\n",
       "</tr>\n",
       "<tr>\n",
       "  <th>hispanic</th>  <td>   -0.3383</td> <td>    0.049</td> <td>   -6.855</td> <td> 0.000</td> <td>   -0.435</td> <td>   -0.242</td>\n",
       "</tr>\n",
       "</table>"
      ],
      "text/plain": [
       "<class 'statsmodels.iolib.summary.Summary'>\n",
       "\"\"\"\n",
       "                          Probit Regression Results                           \n",
       "==============================================================================\n",
       "Dep. Variable:                 smoker   No. Observations:                10000\n",
       "Model:                         Probit   Df Residuals:                     9989\n",
       "Method:                           MLE   Df Model:                           10\n",
       "Date:                Sat, 18 Dec 2021   Pseudo R-squ.:                 0.05441\n",
       "Time:                        22:19:30   Log-Likelihood:                -5235.9\n",
       "converged:                       True   LL-Null:                       -5537.2\n",
       "Covariance Type:                  HC1   LLR p-value:                4.891e-123\n",
       "==============================================================================\n",
       "                 coef    std err          z      P>|z|      [0.025      0.975]\n",
       "------------------------------------------------------------------------------\n",
       "Intercept     -1.7349      0.152    -11.416      0.000      -2.033      -1.437\n",
       "smkban        -0.1586      0.029     -5.450      0.000      -0.216      -0.102\n",
       "female        -0.1117      0.029     -3.874      0.000      -0.168      -0.055\n",
       "age            0.0345      0.007      5.014      0.000       0.021       0.048\n",
       "age2          -0.0005   8.26e-05     -5.657      0.000      -0.001      -0.000\n",
       "hsdrop         1.1416      0.073     15.646      0.000       0.999       1.285\n",
       "hsgrad         0.8827      0.060     14.622      0.000       0.764       1.001\n",
       "colsome        0.6771      0.061     11.021      0.000       0.557       0.798\n",
       "colgrad        0.2347      0.065      3.588      0.000       0.106       0.363\n",
       "black         -0.0843      0.053     -1.577      0.115      -0.189       0.020\n",
       "hispanic      -0.3383      0.049     -6.855      0.000      -0.435      -0.242\n",
       "==============================================================================\n",
       "\"\"\""
      ]
     },
     "execution_count": 12,
     "metadata": {},
     "output_type": "execute_result"
    }
   ],
   "source": [
    "#f\n",
    "\n",
    "Probit = smf.probit(\"smoker ~ smkban+female+age+age2+hsdrop+hsgrad+colsome+colgrad+black+hispanic\", data=df)\n",
    "Probit = Probit.fit(cov_type='HC1')\n",
    "Probit.summary()"
   ]
  },
  {
   "cell_type": "code",
   "execution_count": 13,
   "metadata": {},
   "outputs": [
    {
     "name": "stdout",
     "output_type": "stream",
     "text": [
      "<F test: F=array([[111.84500699]]), p=1.9858037160620987e-93, df_denom=9.99e+03, df_num=4>\n"
     ]
    }
   ],
   "source": [
    "hypotheses_Probit = '(hsdrop = 0), (hsgrad = 0), (colsome = 0), (colgrad = 0)'\n",
    "f_test = Probit.f_test(hypotheses_Probit)\n",
    "print(f_test)"
   ]
  },
  {
   "cell_type": "code",
   "execution_count": 14,
   "metadata": {},
   "outputs": [
    {
     "name": "stdout",
     "output_type": "stream",
     "text": [
      "Because the t-test is -5.450, the F-stat is statistically significant at the 1% level.\n"
     ]
    }
   ],
   "source": [
    "print('Because the t-test is -5.450, the F-stat is statistically significant at the 1% level.')"
   ]
  },
  {
   "cell_type": "code",
   "execution_count": 15,
   "metadata": {},
   "outputs": [
    {
     "name": "stdout",
     "output_type": "stream",
     "text": [
      "Optimization terminated successfully.\n",
      "         Current function value: 0.523400\n",
      "         Iterations 6\n"
     ]
    },
    {
     "data": {
      "text/html": [
       "<table class=\"simpletable\">\n",
       "<caption>Logit Regression Results</caption>\n",
       "<tr>\n",
       "  <th>Dep. Variable:</th>        <td>smoker</td>      <th>  No. Observations:  </th>   <td> 10000</td>  \n",
       "</tr>\n",
       "<tr>\n",
       "  <th>Model:</th>                 <td>Logit</td>      <th>  Df Residuals:      </th>   <td>  9989</td>  \n",
       "</tr>\n",
       "<tr>\n",
       "  <th>Method:</th>                 <td>MLE</td>       <th>  Df Model:          </th>   <td>    10</td>  \n",
       "</tr>\n",
       "<tr>\n",
       "  <th>Date:</th>            <td>Sat, 18 Dec 2021</td> <th>  Pseudo R-squ.:     </th>   <td>0.05475</td> \n",
       "</tr>\n",
       "<tr>\n",
       "  <th>Time:</th>                <td>22:19:30</td>     <th>  Log-Likelihood:    </th>  <td> -5234.0</td> \n",
       "</tr>\n",
       "<tr>\n",
       "  <th>converged:</th>             <td>True</td>       <th>  LL-Null:           </th>  <td> -5537.2</td> \n",
       "</tr>\n",
       "<tr>\n",
       "  <th>Covariance Type:</th>        <td>HC1</td>       <th>  LLR p-value:       </th> <td>7.731e-124</td>\n",
       "</tr>\n",
       "</table>\n",
       "<table class=\"simpletable\">\n",
       "<tr>\n",
       "      <td></td>         <th>coef</th>     <th>std err</th>      <th>z</th>      <th>P>|z|</th>  <th>[0.025</th>    <th>0.975]</th>  \n",
       "</tr>\n",
       "<tr>\n",
       "  <th>Intercept</th> <td>   -2.9992</td> <td>    0.265</td> <td>  -11.308</td> <td> 0.000</td> <td>   -3.519</td> <td>   -2.479</td>\n",
       "</tr>\n",
       "<tr>\n",
       "  <th>smkban</th>    <td>   -0.2620</td> <td>    0.049</td> <td>   -5.296</td> <td> 0.000</td> <td>   -0.359</td> <td>   -0.165</td>\n",
       "</tr>\n",
       "<tr>\n",
       "  <th>female</th>    <td>   -0.1908</td> <td>    0.049</td> <td>   -3.880</td> <td> 0.000</td> <td>   -0.287</td> <td>   -0.094</td>\n",
       "</tr>\n",
       "<tr>\n",
       "  <th>age</th>       <td>    0.0599</td> <td>    0.012</td> <td>    5.070</td> <td> 0.000</td> <td>    0.037</td> <td>    0.083</td>\n",
       "</tr>\n",
       "<tr>\n",
       "  <th>age2</th>      <td>   -0.0008</td> <td>    0.000</td> <td>   -5.716</td> <td> 0.000</td> <td>   -0.001</td> <td>   -0.001</td>\n",
       "</tr>\n",
       "<tr>\n",
       "  <th>hsdrop</th>    <td>    2.0169</td> <td>    0.134</td> <td>   15.049</td> <td> 0.000</td> <td>    1.754</td> <td>    2.280</td>\n",
       "</tr>\n",
       "<tr>\n",
       "  <th>hsgrad</th>    <td>    1.5785</td> <td>    0.116</td> <td>   13.636</td> <td> 0.000</td> <td>    1.352</td> <td>    1.805</td>\n",
       "</tr>\n",
       "<tr>\n",
       "  <th>colsome</th>   <td>    1.2300</td> <td>    0.118</td> <td>   10.455</td> <td> 0.000</td> <td>    0.999</td> <td>    1.461</td>\n",
       "</tr>\n",
       "<tr>\n",
       "  <th>colgrad</th>   <td>    0.4466</td> <td>    0.126</td> <td>    3.534</td> <td> 0.000</td> <td>    0.199</td> <td>    0.694</td>\n",
       "</tr>\n",
       "<tr>\n",
       "  <th>black</th>     <td>   -0.1560</td> <td>    0.091</td> <td>   -1.710</td> <td> 0.087</td> <td>   -0.335</td> <td>    0.023</td>\n",
       "</tr>\n",
       "<tr>\n",
       "  <th>hispanic</th>  <td>   -0.5972</td> <td>    0.086</td> <td>   -6.929</td> <td> 0.000</td> <td>   -0.766</td> <td>   -0.428</td>\n",
       "</tr>\n",
       "</table>"
      ],
      "text/plain": [
       "<class 'statsmodels.iolib.summary.Summary'>\n",
       "\"\"\"\n",
       "                           Logit Regression Results                           \n",
       "==============================================================================\n",
       "Dep. Variable:                 smoker   No. Observations:                10000\n",
       "Model:                          Logit   Df Residuals:                     9989\n",
       "Method:                           MLE   Df Model:                           10\n",
       "Date:                Sat, 18 Dec 2021   Pseudo R-squ.:                 0.05475\n",
       "Time:                        22:19:30   Log-Likelihood:                -5234.0\n",
       "converged:                       True   LL-Null:                       -5537.2\n",
       "Covariance Type:                  HC1   LLR p-value:                7.731e-124\n",
       "==============================================================================\n",
       "                 coef    std err          z      P>|z|      [0.025      0.975]\n",
       "------------------------------------------------------------------------------\n",
       "Intercept     -2.9992      0.265    -11.308      0.000      -3.519      -2.479\n",
       "smkban        -0.2620      0.049     -5.296      0.000      -0.359      -0.165\n",
       "female        -0.1908      0.049     -3.880      0.000      -0.287      -0.094\n",
       "age            0.0599      0.012      5.070      0.000       0.037       0.083\n",
       "age2          -0.0008      0.000     -5.716      0.000      -0.001      -0.001\n",
       "hsdrop         2.0169      0.134     15.049      0.000       1.754       2.280\n",
       "hsgrad         1.5785      0.116     13.636      0.000       1.352       1.805\n",
       "colsome        1.2300      0.118     10.455      0.000       0.999       1.461\n",
       "colgrad        0.4466      0.126      3.534      0.000       0.199       0.694\n",
       "black         -0.1560      0.091     -1.710      0.087      -0.335       0.023\n",
       "hispanic      -0.5972      0.086     -6.929      0.000      -0.766      -0.428\n",
       "==============================================================================\n",
       "\"\"\""
      ]
     },
     "execution_count": 15,
     "metadata": {},
     "output_type": "execute_result"
    }
   ],
   "source": [
    "#g\n",
    "\n",
    "Logit = smf.logit(\"smoker ~ smkban+female+age+age2+hsdrop+hsgrad+colsome+colgrad+black+hispanic\", data=df)\n",
    "Logit = Logit.fit(cov_type='HC1')\n",
    "Logit.summary()"
   ]
  },
  {
   "cell_type": "code",
   "execution_count": 16,
   "metadata": {},
   "outputs": [
    {
     "name": "stdout",
     "output_type": "stream",
     "text": [
      "<F test: F=array([[105.04619321]]), p=8.542052024239587e-88, df_denom=9.99e+03, df_num=4>\n"
     ]
    }
   ],
   "source": [
    "hypotheses_Logit = '(hsdrop = 0), (hsgrad = 0), (colsome = 0), (colgrad = 0)'\n",
    "f_test = Logit.f_test(hypotheses_Logit)\n",
    "print(f_test)"
   ]
  },
  {
   "cell_type": "code",
   "execution_count": 17,
   "metadata": {},
   "outputs": [
    {
     "name": "stdout",
     "output_type": "stream",
     "text": [
      "Because the t-test is -5.296, the F-stat is statistically significant at the 1% level.\n"
     ]
    }
   ],
   "source": [
    "print('Because the t-test is -5.296, the F-stat is statistically significant at the 1% level.')"
   ]
  },
  {
   "cell_type": "code",
   "execution_count": 18,
   "metadata": {},
   "outputs": [
    {
     "name": "stdout",
     "output_type": "stream",
     "text": [
      "Optimization terminated successfully.\n",
      "         Current function value: 0.523587\n",
      "         Iterations 6\n"
     ]
    },
    {
     "data": {
      "text/html": [
       "<table class=\"simpletable\">\n",
       "<caption>Probit Regression Results</caption>\n",
       "<tr>\n",
       "  <th>Dep. Variable:</th>        <td>smoker</td>      <th>  No. Observations:  </th>   <td> 10000</td>  \n",
       "</tr>\n",
       "<tr>\n",
       "  <th>Model:</th>                <td>Probit</td>      <th>  Df Residuals:      </th>   <td>  9989</td>  \n",
       "</tr>\n",
       "<tr>\n",
       "  <th>Method:</th>                 <td>MLE</td>       <th>  Df Model:          </th>   <td>    10</td>  \n",
       "</tr>\n",
       "<tr>\n",
       "  <th>Date:</th>            <td>Sat, 18 Dec 2021</td> <th>  Pseudo R-squ.:     </th>   <td>0.05441</td> \n",
       "</tr>\n",
       "<tr>\n",
       "  <th>Time:</th>                <td>22:19:31</td>     <th>  Log-Likelihood:    </th>  <td> -5235.9</td> \n",
       "</tr>\n",
       "<tr>\n",
       "  <th>converged:</th>             <td>True</td>       <th>  LL-Null:           </th>  <td> -5537.2</td> \n",
       "</tr>\n",
       "<tr>\n",
       "  <th>Covariance Type:</th>        <td>HC1</td>       <th>  LLR p-value:       </th> <td>4.891e-123</td>\n",
       "</tr>\n",
       "</table>\n",
       "<table class=\"simpletable\">\n",
       "<tr>\n",
       "      <td></td>         <th>coef</th>     <th>std err</th>      <th>z</th>      <th>P>|z|</th>  <th>[0.025</th>    <th>0.975]</th>  \n",
       "</tr>\n",
       "<tr>\n",
       "  <th>Intercept</th> <td>   -1.7349</td> <td>    0.152</td> <td>  -11.416</td> <td> 0.000</td> <td>   -2.033</td> <td>   -1.437</td>\n",
       "</tr>\n",
       "<tr>\n",
       "  <th>smkban</th>    <td>   -0.1586</td> <td>    0.029</td> <td>   -5.450</td> <td> 0.000</td> <td>   -0.216</td> <td>   -0.102</td>\n",
       "</tr>\n",
       "<tr>\n",
       "  <th>female</th>    <td>   -0.1117</td> <td>    0.029</td> <td>   -3.874</td> <td> 0.000</td> <td>   -0.168</td> <td>   -0.055</td>\n",
       "</tr>\n",
       "<tr>\n",
       "  <th>age</th>       <td>    0.0345</td> <td>    0.007</td> <td>    5.014</td> <td> 0.000</td> <td>    0.021</td> <td>    0.048</td>\n",
       "</tr>\n",
       "<tr>\n",
       "  <th>age2</th>      <td>   -0.0005</td> <td> 8.26e-05</td> <td>   -5.657</td> <td> 0.000</td> <td>   -0.001</td> <td>   -0.000</td>\n",
       "</tr>\n",
       "<tr>\n",
       "  <th>hsdrop</th>    <td>    1.1416</td> <td>    0.073</td> <td>   15.646</td> <td> 0.000</td> <td>    0.999</td> <td>    1.285</td>\n",
       "</tr>\n",
       "<tr>\n",
       "  <th>hsgrad</th>    <td>    0.8827</td> <td>    0.060</td> <td>   14.622</td> <td> 0.000</td> <td>    0.764</td> <td>    1.001</td>\n",
       "</tr>\n",
       "<tr>\n",
       "  <th>colsome</th>   <td>    0.6771</td> <td>    0.061</td> <td>   11.021</td> <td> 0.000</td> <td>    0.557</td> <td>    0.798</td>\n",
       "</tr>\n",
       "<tr>\n",
       "  <th>colgrad</th>   <td>    0.2347</td> <td>    0.065</td> <td>    3.588</td> <td> 0.000</td> <td>    0.106</td> <td>    0.363</td>\n",
       "</tr>\n",
       "<tr>\n",
       "  <th>black</th>     <td>   -0.0843</td> <td>    0.053</td> <td>   -1.577</td> <td> 0.115</td> <td>   -0.189</td> <td>    0.020</td>\n",
       "</tr>\n",
       "<tr>\n",
       "  <th>hispanic</th>  <td>   -0.3383</td> <td>    0.049</td> <td>   -6.855</td> <td> 0.000</td> <td>   -0.435</td> <td>   -0.242</td>\n",
       "</tr>\n",
       "</table>"
      ],
      "text/plain": [
       "<class 'statsmodels.iolib.summary.Summary'>\n",
       "\"\"\"\n",
       "                          Probit Regression Results                           \n",
       "==============================================================================\n",
       "Dep. Variable:                 smoker   No. Observations:                10000\n",
       "Model:                         Probit   Df Residuals:                     9989\n",
       "Method:                           MLE   Df Model:                           10\n",
       "Date:                Sat, 18 Dec 2021   Pseudo R-squ.:                 0.05441\n",
       "Time:                        22:19:31   Log-Likelihood:                -5235.9\n",
       "converged:                       True   LL-Null:                       -5537.2\n",
       "Covariance Type:                  HC1   LLR p-value:                4.891e-123\n",
       "==============================================================================\n",
       "                 coef    std err          z      P>|z|      [0.025      0.975]\n",
       "------------------------------------------------------------------------------\n",
       "Intercept     -1.7349      0.152    -11.416      0.000      -2.033      -1.437\n",
       "smkban        -0.1586      0.029     -5.450      0.000      -0.216      -0.102\n",
       "female        -0.1117      0.029     -3.874      0.000      -0.168      -0.055\n",
       "age            0.0345      0.007      5.014      0.000       0.021       0.048\n",
       "age2          -0.0005   8.26e-05     -5.657      0.000      -0.001      -0.000\n",
       "hsdrop         1.1416      0.073     15.646      0.000       0.999       1.285\n",
       "hsgrad         0.8827      0.060     14.622      0.000       0.764       1.001\n",
       "colsome        0.6771      0.061     11.021      0.000       0.557       0.798\n",
       "colgrad        0.2347      0.065      3.588      0.000       0.106       0.363\n",
       "black         -0.0843      0.053     -1.577      0.115      -0.189       0.020\n",
       "hispanic      -0.3383      0.049     -6.855      0.000      -0.435      -0.242\n",
       "==============================================================================\n",
       "\"\"\""
      ]
     },
     "execution_count": 18,
     "metadata": {},
     "output_type": "execute_result"
    }
   ],
   "source": [
    "#h.i.\n",
    "#Mr.A\n",
    "\n",
    "Probit = smf.probit(\"smoker ~ smkban+female+age+age2+hsdrop+hsgrad+colsome+colgrad+black+hispanic\", data=df)\n",
    "Probit = Probit.fit(cov_type='HC1')\n",
    "Probit.summary()"
   ]
  },
  {
   "cell_type": "code",
   "execution_count": 19,
   "metadata": {},
   "outputs": [
    {
     "name": "stdout",
     "output_type": "stream",
     "text": [
      "0    0.464102\n",
      "dtype: float64\n",
      "0    0.401783\n",
      "dtype: float64\n"
     ]
    },
    {
     "data": {
      "text/plain": [
       "0    0.062319\n",
       "dtype: float64"
      ]
     },
     "execution_count": 19,
     "metadata": {},
     "output_type": "execute_result"
    }
   ],
   "source": [
    "prediction_Probit_nsmb = Probit.predict(pd.DataFrame({'intercept': 1, 'smkban': [0], 'female':[0], 'age':[20],'age2':[20**2],'hsdrop':[1],'hsgrad':[0],'colsome':[0],'colgrad':[0],'black':[0],'hispanic':[0]}))\n",
    "print(prediction_Probit_nsmb)\n",
    "\n",
    "prediction_Probit_smb = Probit.predict(pd.DataFrame({'intercept': 1, 'smkban': [1], 'female':[0], 'age':[20],'age2':[20**2],'hsdrop':[1],'hsgrad':[0],'colsome':[0],'colgrad':[0],'black':[0],'hispanic':[0]}))\n",
    "print(prediction_Probit_smb)\n",
    "\n",
    "prediction_Probit_nsmb-prediction_Probit_smb"
   ]
  },
  {
   "cell_type": "code",
   "execution_count": 20,
   "metadata": {},
   "outputs": [
    {
     "name": "stdout",
     "output_type": "stream",
     "text": [
      "Optimization terminated successfully.\n",
      "         Current function value: 0.523587\n",
      "         Iterations 6\n"
     ]
    },
    {
     "data": {
      "text/html": [
       "<table class=\"simpletable\">\n",
       "<caption>Probit Regression Results</caption>\n",
       "<tr>\n",
       "  <th>Dep. Variable:</th>        <td>smoker</td>      <th>  No. Observations:  </th>   <td> 10000</td>  \n",
       "</tr>\n",
       "<tr>\n",
       "  <th>Model:</th>                <td>Probit</td>      <th>  Df Residuals:      </th>   <td>  9989</td>  \n",
       "</tr>\n",
       "<tr>\n",
       "  <th>Method:</th>                 <td>MLE</td>       <th>  Df Model:          </th>   <td>    10</td>  \n",
       "</tr>\n",
       "<tr>\n",
       "  <th>Date:</th>            <td>Sat, 18 Dec 2021</td> <th>  Pseudo R-squ.:     </th>   <td>0.05441</td> \n",
       "</tr>\n",
       "<tr>\n",
       "  <th>Time:</th>                <td>22:19:31</td>     <th>  Log-Likelihood:    </th>  <td> -5235.9</td> \n",
       "</tr>\n",
       "<tr>\n",
       "  <th>converged:</th>             <td>True</td>       <th>  LL-Null:           </th>  <td> -5537.2</td> \n",
       "</tr>\n",
       "<tr>\n",
       "  <th>Covariance Type:</th>        <td>HC1</td>       <th>  LLR p-value:       </th> <td>4.891e-123</td>\n",
       "</tr>\n",
       "</table>\n",
       "<table class=\"simpletable\">\n",
       "<tr>\n",
       "      <td></td>         <th>coef</th>     <th>std err</th>      <th>z</th>      <th>P>|z|</th>  <th>[0.025</th>    <th>0.975]</th>  \n",
       "</tr>\n",
       "<tr>\n",
       "  <th>Intercept</th> <td>   -1.7349</td> <td>    0.152</td> <td>  -11.416</td> <td> 0.000</td> <td>   -2.033</td> <td>   -1.437</td>\n",
       "</tr>\n",
       "<tr>\n",
       "  <th>smkban</th>    <td>   -0.1586</td> <td>    0.029</td> <td>   -5.450</td> <td> 0.000</td> <td>   -0.216</td> <td>   -0.102</td>\n",
       "</tr>\n",
       "<tr>\n",
       "  <th>female</th>    <td>   -0.1117</td> <td>    0.029</td> <td>   -3.874</td> <td> 0.000</td> <td>   -0.168</td> <td>   -0.055</td>\n",
       "</tr>\n",
       "<tr>\n",
       "  <th>age</th>       <td>    0.0345</td> <td>    0.007</td> <td>    5.014</td> <td> 0.000</td> <td>    0.021</td> <td>    0.048</td>\n",
       "</tr>\n",
       "<tr>\n",
       "  <th>age2</th>      <td>   -0.0005</td> <td> 8.26e-05</td> <td>   -5.657</td> <td> 0.000</td> <td>   -0.001</td> <td>   -0.000</td>\n",
       "</tr>\n",
       "<tr>\n",
       "  <th>hsdrop</th>    <td>    1.1416</td> <td>    0.073</td> <td>   15.646</td> <td> 0.000</td> <td>    0.999</td> <td>    1.285</td>\n",
       "</tr>\n",
       "<tr>\n",
       "  <th>hsgrad</th>    <td>    0.8827</td> <td>    0.060</td> <td>   14.622</td> <td> 0.000</td> <td>    0.764</td> <td>    1.001</td>\n",
       "</tr>\n",
       "<tr>\n",
       "  <th>colsome</th>   <td>    0.6771</td> <td>    0.061</td> <td>   11.021</td> <td> 0.000</td> <td>    0.557</td> <td>    0.798</td>\n",
       "</tr>\n",
       "<tr>\n",
       "  <th>colgrad</th>   <td>    0.2347</td> <td>    0.065</td> <td>    3.588</td> <td> 0.000</td> <td>    0.106</td> <td>    0.363</td>\n",
       "</tr>\n",
       "<tr>\n",
       "  <th>black</th>     <td>   -0.0843</td> <td>    0.053</td> <td>   -1.577</td> <td> 0.115</td> <td>   -0.189</td> <td>    0.020</td>\n",
       "</tr>\n",
       "<tr>\n",
       "  <th>hispanic</th>  <td>   -0.3383</td> <td>    0.049</td> <td>   -6.855</td> <td> 0.000</td> <td>   -0.435</td> <td>   -0.242</td>\n",
       "</tr>\n",
       "</table>"
      ],
      "text/plain": [
       "<class 'statsmodels.iolib.summary.Summary'>\n",
       "\"\"\"\n",
       "                          Probit Regression Results                           \n",
       "==============================================================================\n",
       "Dep. Variable:                 smoker   No. Observations:                10000\n",
       "Model:                         Probit   Df Residuals:                     9989\n",
       "Method:                           MLE   Df Model:                           10\n",
       "Date:                Sat, 18 Dec 2021   Pseudo R-squ.:                 0.05441\n",
       "Time:                        22:19:31   Log-Likelihood:                -5235.9\n",
       "converged:                       True   LL-Null:                       -5537.2\n",
       "Covariance Type:                  HC1   LLR p-value:                4.891e-123\n",
       "==============================================================================\n",
       "                 coef    std err          z      P>|z|      [0.025      0.975]\n",
       "------------------------------------------------------------------------------\n",
       "Intercept     -1.7349      0.152    -11.416      0.000      -2.033      -1.437\n",
       "smkban        -0.1586      0.029     -5.450      0.000      -0.216      -0.102\n",
       "female        -0.1117      0.029     -3.874      0.000      -0.168      -0.055\n",
       "age            0.0345      0.007      5.014      0.000       0.021       0.048\n",
       "age2          -0.0005   8.26e-05     -5.657      0.000      -0.001      -0.000\n",
       "hsdrop         1.1416      0.073     15.646      0.000       0.999       1.285\n",
       "hsgrad         0.8827      0.060     14.622      0.000       0.764       1.001\n",
       "colsome        0.6771      0.061     11.021      0.000       0.557       0.798\n",
       "colgrad        0.2347      0.065      3.588      0.000       0.106       0.363\n",
       "black         -0.0843      0.053     -1.577      0.115      -0.189       0.020\n",
       "hispanic      -0.3383      0.049     -6.855      0.000      -0.435      -0.242\n",
       "==============================================================================\n",
       "\"\"\""
      ]
     },
     "execution_count": 20,
     "metadata": {},
     "output_type": "execute_result"
    }
   ],
   "source": [
    "#h.ii.\n",
    "\n",
    "#Ms.B\n",
    "\n",
    "Probit = smf.probit(\"smoker ~ smkban+female+age+age2+hsdrop+hsgrad+colsome+colgrad+black+hispanic\", data=df)\n",
    "Probit = Probit.fit(cov_type='HC1')\n",
    "Probit.summary()"
   ]
  },
  {
   "cell_type": "code",
   "execution_count": 21,
   "metadata": {},
   "outputs": [
    {
     "name": "stdout",
     "output_type": "stream",
     "text": [
      "0    0.143696\n",
      "dtype: float64\n",
      "0    0.110761\n",
      "dtype: float64\n"
     ]
    },
    {
     "data": {
      "text/plain": [
       "0    0.032935\n",
       "dtype: float64"
      ]
     },
     "execution_count": 21,
     "metadata": {},
     "output_type": "execute_result"
    }
   ],
   "source": [
    "prediction_Probit_nsmb = Probit.predict(pd.DataFrame({'intercept': 1, 'smkban': [0], 'female':[1], 'age':[40],'age2':[40**2],'hsdrop':[0],'hsgrad':[0],'colsome':[0],'colgrad':[1],'black':[1],'hispanic':[0]}))\n",
    "print(prediction_Probit_nsmb)\n",
    "\n",
    "prediction_Probit_smb = Probit.predict(pd.DataFrame({'intercept': 1, 'smkban': [1], 'female':[1], 'age':[40],'age2':[40**2],'hsdrop':[0],'hsgrad':[0],'colsome':[0],'colgrad':[1],'black':[1],'hispanic':[0]}))\n",
    "print(prediction_Probit_smb)\n",
    "\n",
    "prediction_Probit_nsmb-prediction_Probit_smb"
   ]
  },
  {
   "cell_type": "code",
   "execution_count": 22,
   "metadata": {},
   "outputs": [
    {
     "name": "stdout",
     "output_type": "stream",
     "text": [
      "0    0.449372\n",
      "dtype: float64\n",
      "0    0.402132\n",
      "dtype: float64\n",
      "0    0.04724\n",
      "dtype: float64\n"
     ]
    }
   ],
   "source": [
    "#h.iii.\n",
    "#Mr.A\n",
    "\n",
    "lin_prob = smf.ols(\"smoker ~ smkban+female+age+age2+hsdrop+hsgrad+colsome+colgrad+black+hispanic\", data=df)\n",
    "lin_prob_results = lin_prob.fit(cov_type='HC1')\n",
    "lin_prob_results.summary()\n",
    "\n",
    "prediction_lin_prob_results_nsmb = lin_prob_results.predict(pd.DataFrame({'intercept': 1, 'smkban': [0], 'female':[0], 'age':[20],'age2':[20**2],'hsdrop':[1],'hsgrad':[0],'colsome':[0],'colgrad':[0],'black':[0],'hispanic':[0]}))\n",
    "print(prediction_lin_prob_results_nsmb)\n",
    "\n",
    "prediction_lin_prob_results_smb = lin_prob_results.predict(pd.DataFrame({'intercept': 1, 'smkban': [1], 'female':[0], 'age':[20],'age2':[20**2],'hsdrop':[1],'hsgrad':[0],'colsome':[0],'colgrad':[0],'black':[0],'hispanic':[0]}))\n",
    "print(prediction_lin_prob_results_smb)\n",
    "\n",
    "print(prediction_lin_prob_results_nsmb-prediction_lin_prob_results_smb)"
   ]
  },
  {
   "cell_type": "code",
   "execution_count": 23,
   "metadata": {},
   "outputs": [
    {
     "name": "stdout",
     "output_type": "stream",
     "text": [
      "0    0.145961\n",
      "dtype: float64\n",
      "0    0.098721\n",
      "dtype: float64\n",
      "0    0.04724\n",
      "dtype: float64\n"
     ]
    }
   ],
   "source": [
    "#Ms.B\n",
    "\n",
    "lin_prob = smf.ols(\"smoker ~ smkban+female+age+age2+hsdrop+hsgrad+colsome+colgrad+black+hispanic\", data=df)\n",
    "lin_prob_results = lin_prob.fit(cov_type='HC1')\n",
    "lin_prob_results.summary()\n",
    "\n",
    "prediction_lin_prob_results_nsmb = lin_prob_results.predict(pd.DataFrame({'intercept': 1, 'smkban': [0], 'female':[1], 'age':[40],'age2':[40**2],'hsdrop':[0],'hsgrad':[0],'colsome':[0],'colgrad':[1],'black':[1],'hispanic':[0]}))\n",
    "print(prediction_lin_prob_results_nsmb)\n",
    "\n",
    "prediction_lin_prob_results_smb = lin_prob_results.predict(pd.DataFrame({'intercept': 1, 'smkban': [1], 'female':[1], 'age':[40],'age2':[40**2],'hsdrop':[0],'hsgrad':[0],'colsome':[0],'colgrad':[1],'black':[1],'hispanic':[0]}))\n",
    "print(prediction_lin_prob_results_smb)\n",
    "\n",
    "print(prediction_lin_prob_results_nsmb-prediction_lin_prob_results_smb)"
   ]
  },
  {
   "cell_type": "code",
   "execution_count": 24,
   "metadata": {},
   "outputs": [
    {
     "name": "stdout",
     "output_type": "stream",
     "text": [
      "Optimization terminated successfully.\n",
      "         Current function value: 0.523400\n",
      "         Iterations 6\n",
      "0    0.47231\n",
      "dtype: float64\n",
      "0    0.40784\n",
      "dtype: float64\n",
      "0    0.06447\n",
      "dtype: float64\n"
     ]
    }
   ],
   "source": [
    "#h.iv.\n",
    "#Mr.A\n",
    "\n",
    "Logit = smf.logit(\"smoker ~ smkban+female+age+age2+hsdrop+hsgrad+colsome+colgrad+black+hispanic\", data=df)\n",
    "Logit = Logit.fit(cov_type='HC1')\n",
    "Logit.summary()\n",
    "\n",
    "prediction_Logit_nsmb = Logit.predict(pd.DataFrame({'intercept': 1, 'smkban': [0], 'female':[0], 'age':[20],'age2':[20**2],'hsdrop':[1],'hsgrad':[0],'colsome':[0],'colgrad':[0],'black':[0],'hispanic':[0]}))\n",
    "print(prediction_Logit_nsmb)\n",
    "\n",
    "prediction_Logit_smb = Logit.predict(pd.DataFrame({'intercept': 1, 'smkban': [1], 'female':[0], 'age':[20],'age2':[20**2],'hsdrop':[1],'hsgrad':[0],'colsome':[0],'colgrad':[0],'black':[0],'hispanic':[0]}))\n",
    "print(prediction_Logit_smb)\n",
    "\n",
    "print(prediction_Logit_nsmb-prediction_Logit_smb)"
   ]
  },
  {
   "cell_type": "code",
   "execution_count": 25,
   "metadata": {},
   "outputs": [
    {
     "name": "stdout",
     "output_type": "stream",
     "text": [
      "Optimization terminated successfully.\n",
      "         Current function value: 0.523400\n",
      "         Iterations 6\n",
      "0    0.140512\n",
      "dtype: float64\n",
      "0    0.111742\n",
      "dtype: float64\n",
      "0    0.02877\n",
      "dtype: float64\n"
     ]
    }
   ],
   "source": [
    "#Ms.B\n",
    "\n",
    "Logit = smf.logit(\"smoker ~ smkban+female+age+age2+hsdrop+hsgrad+colsome+colgrad+black+hispanic\", data=df)\n",
    "Logit = Logit.fit(cov_type='HC1')\n",
    "Logit.summary()\n",
    "\n",
    "prediction_Logit_nsmb = Logit.predict(pd.DataFrame({'intercept': 1, 'smkban': [0], 'female':[1], 'age':[40],'age2':[40**2],'hsdrop':[0],'hsgrad':[0],'colsome':[0],'colgrad':[1],'black':[1],'hispanic':[0]}))\n",
    "print(prediction_Logit_nsmb)\n",
    "\n",
    "prediction_Logit_smb = Logit.predict(pd.DataFrame({'intercept': 1, 'smkban': [1], 'female':[1], 'age':[40],'age2':[40**2],'hsdrop':[0],'hsgrad':[0],'colsome':[0],'colgrad':[1],'black':[1],'hispanic':[0]}))\n",
    "print(prediction_Logit_smb)\n",
    "\n",
    "print(prediction_Logit_nsmb-prediction_Logit_smb)"
   ]
  },
  {
   "cell_type": "code",
   "execution_count": 26,
   "metadata": {},
   "outputs": [
    {
     "name": "stdout",
     "output_type": "stream",
     "text": [
      "The logit and probit models are appropriate since they taken into account of individual characteristics.\n",
      "Applying the probit/logit model of Mr.A characteristic to a large number of people in the real world could translate into a 6% reduction in the number of people smoking.\n"
     ]
    }
   ],
   "source": [
    "#h.v.\n",
    "\n",
    "print('The logit and probit models are appropriate since they taken into account of individual characteristics.')\n",
    "print('Applying the probit/logit model of Mr.A characteristic to a large number of people in the real world could translate into a 6% reduction in the number of people smoking.')"
   ]
  },
  {
   "cell_type": "code",
   "execution_count": 27,
   "metadata": {},
   "outputs": [],
   "source": [
    "#####"
   ]
  }
 ],
 "metadata": {
  "kernelspec": {
   "display_name": "Python 3",
   "language": "python",
   "name": "python3"
  },
  "language_info": {
   "codemirror_mode": {
    "name": "ipython",
    "version": 3
   },
   "file_extension": ".py",
   "mimetype": "text/x-python",
   "name": "python",
   "nbconvert_exporter": "python",
   "pygments_lexer": "ipython3",
   "version": "3.8.5"
  }
 },
 "nbformat": 4,
 "nbformat_minor": 4
}
