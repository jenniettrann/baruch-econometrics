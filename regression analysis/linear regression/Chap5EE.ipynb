{
 "cells": [
  {
   "cell_type": "code",
   "execution_count": 17,
   "metadata": {},
   "outputs": [
    {
     "name": "stdout",
     "output_type": "stream",
     "text": [
      "Requirement already satisfied: pandas in /opt/anaconda3/lib/python3.8/site-packages (1.1.3)\n",
      "Requirement already satisfied: numpy in /opt/anaconda3/lib/python3.8/site-packages (1.19.2)\n",
      "Requirement already satisfied: scipy in /opt/anaconda3/lib/python3.8/site-packages (1.5.2)\n",
      "Requirement already satisfied: statsmodels in /opt/anaconda3/lib/python3.8/site-packages (0.12.0)\n",
      "Requirement already satisfied: xlrd in /opt/anaconda3/lib/python3.8/site-packages (1.2.0)\n",
      "Requirement already satisfied: pytz>=2017.2 in /opt/anaconda3/lib/python3.8/site-packages (from pandas) (2020.1)\n",
      "Requirement already satisfied: python-dateutil>=2.7.3 in /opt/anaconda3/lib/python3.8/site-packages (from pandas) (2.8.1)\n",
      "Requirement already satisfied: patsy>=0.5 in /opt/anaconda3/lib/python3.8/site-packages (from statsmodels) (0.5.1)\n",
      "Requirement already satisfied: six>=1.5 in /opt/anaconda3/lib/python3.8/site-packages (from python-dateutil>=2.7.3->pandas) (1.15.0)\n",
      "Note: you may need to restart the kernel to use updated packages.\n"
     ]
    }
   ],
   "source": [
    "pip install pandas numpy scipy statsmodels xlrd"
   ]
  },
  {
   "cell_type": "code",
   "execution_count": 16,
   "metadata": {},
   "outputs": [],
   "source": [
    "import pandas as pd\n",
    "import statsmodels.formula.api as smf\n",
    "import scipy.stats as sst\n",
    "import numpy as np\n",
    "import xlrd"
   ]
  },
  {
   "cell_type": "code",
   "execution_count": 8,
   "metadata": {},
   "outputs": [
    {
     "name": "stdout",
     "output_type": "stream",
     "text": [
      "    Birthweight  Smoker\n",
      "0          2948       0\n",
      "1          3232       0\n",
      "2          3799       0\n",
      "3          3005       0\n",
      "4          3827       0\n",
      "..          ...     ...\n",
      "95         2750       1\n",
      "96         2835       1\n",
      "97         3345       1\n",
      "98         2637       1\n",
      "99         3742       1\n",
      "\n",
      "[100 rows x 2 columns]\n"
     ]
    }
   ],
   "source": [
    "birthsmoke = pd.read_excel('/Users/jennifer/Desktop/Baruch F21/ECO 9723 Econometrics/Hw9:29/chap5ee.xlsx')\n",
    "print(birthsmoke)"
   ]
  },
  {
   "cell_type": "code",
   "execution_count": 9,
   "metadata": {},
   "outputs": [
    {
     "name": "stdout",
     "output_type": "stream",
     "text": [
      "Average value of birthweight for all mothers is 3283.380\n"
     ]
    }
   ],
   "source": [
    "JTmean = np.mean(birthsmoke[\"Birthweight\"])\n",
    "print('Average value of birthweight for all mothers is {:.3f}'.format(JTmean))"
   ]
  },
  {
   "cell_type": "code",
   "execution_count": 10,
   "metadata": {},
   "outputs": [
    {
     "name": "stdout",
     "output_type": "stream",
     "text": [
      "        Birthweight\n",
      "Smoker             \n",
      "0       3395.377049\n",
      "1       3108.205128\n"
     ]
    }
   ],
   "source": [
    "condmean = birthsmoke.groupby(\"Smoker\")[['Birthweight']].mean()\n",
    "print(condmean)"
   ]
  },
  {
   "cell_type": "code",
   "execution_count": 11,
   "metadata": {},
   "outputs": [
    {
     "name": "stdout",
     "output_type": "stream",
     "text": [
      "The difference in average birth weight for smoking and nonsmoking mothers is 287.172\n"
     ]
    }
   ],
   "source": [
    "smokeravg = condmean.iat[1,0]\n",
    "nonsmavg = condmean.iat[0,0]\n",
    "diff = nonsmavg - smokeravg\n",
    "print('The difference in average birth weight for smoking and nonsmoking mothers is {:.3f}'.format(diff))"
   ]
  },
  {
   "cell_type": "code",
   "execution_count": 20,
   "metadata": {},
   "outputs": [
    {
     "name": "stdout",
     "output_type": "stream",
     "text": [
      "        Birthweight\n",
      "Smoker             \n",
      "0        490.477188\n",
      "1        694.504525\n"
     ]
    }
   ],
   "source": [
    "sd = birthsmoke.groupby('Smoker')[['Birthweight']].std()\n",
    "print(sd)"
   ]
  },
  {
   "cell_type": "code",
   "execution_count": 21,
   "metadata": {},
   "outputs": [
    {
     "name": "stdout",
     "output_type": "stream",
     "text": [
      "Smoker\n",
      "0    61\n",
      "1    39\n",
      "dtype: int64\n",
      "The standard error for the estimated difference is 127.716\n"
     ]
    }
   ],
   "source": [
    "stdev = birthsmoke.groupby('Smoker')[['Birthweight']].std()\n",
    "smokerstv = sd.iat[1,0]\n",
    "nonsmstv = sd.iat[0,0]\n",
    "size = birthsmoke.groupby('Smoker').size()\n",
    "print(size)\n",
    "sddiff=np.sqrt(smokerstv**2/39 + nonsmstv**2/61)\n",
    "print('The standard error for the estimated difference is {:.3f}'.format(sddiff))"
   ]
  },
  {
   "cell_type": "code",
   "execution_count": 46,
   "metadata": {},
   "outputs": [
    {
     "name": "stdout",
     "output_type": "stream",
     "text": [
      "Lower 95% is 36.853\n",
      "Upper 95% is 537.490\n"
     ]
    }
   ],
   "source": [
    "lbdiff = diff - sst.norm.ppf(1-0.05/2)*sddiff\n",
    "print('Lower 95% is {:.3f}'.format(lbdiff))\n",
    "ubdiff = diff + sst.norm.ppf(1-0.05/2)*sddiff\n",
    "print('Upper 95% is {:.3f}'.format(ubdiff))"
   ]
  },
  {
   "cell_type": "code",
   "execution_count": 50,
   "metadata": {},
   "outputs": [],
   "source": [
    "JTdata = smf.ols(formula = 'Birthweight ~ Smoker', data = birthsmoke)"
   ]
  },
  {
   "cell_type": "code",
   "execution_count": 51,
   "metadata": {},
   "outputs": [
    {
     "data": {
      "text/html": [
       "<table class=\"simpletable\">\n",
       "<caption>OLS Regression Results</caption>\n",
       "<tr>\n",
       "  <th>Dep. Variable:</th>       <td>Birthweight</td>   <th>  R-squared:         </th> <td>   0.056</td>\n",
       "</tr>\n",
       "<tr>\n",
       "  <th>Model:</th>                   <td>OLS</td>       <th>  Adj. R-squared:    </th> <td>   0.047</td>\n",
       "</tr>\n",
       "<tr>\n",
       "  <th>Method:</th>             <td>Least Squares</td>  <th>  F-statistic:       </th> <td>   5.868</td>\n",
       "</tr>\n",
       "<tr>\n",
       "  <th>Date:</th>             <td>Sun, 26 Sep 2021</td> <th>  Prob (F-statistic):</th>  <td>0.0173</td> \n",
       "</tr>\n",
       "<tr>\n",
       "  <th>Time:</th>                 <td>23:36:37</td>     <th>  Log-Likelihood:    </th> <td> -776.88</td>\n",
       "</tr>\n",
       "<tr>\n",
       "  <th>No. Observations:</th>      <td>   100</td>      <th>  AIC:               </th> <td>   1558.</td>\n",
       "</tr>\n",
       "<tr>\n",
       "  <th>Df Residuals:</th>          <td>    98</td>      <th>  BIC:               </th> <td>   1563.</td>\n",
       "</tr>\n",
       "<tr>\n",
       "  <th>Df Model:</th>              <td>     1</td>      <th>                     </th>     <td> </td>   \n",
       "</tr>\n",
       "<tr>\n",
       "  <th>Covariance Type:</th>      <td>nonrobust</td>    <th>                     </th>     <td> </td>   \n",
       "</tr>\n",
       "</table>\n",
       "<table class=\"simpletable\">\n",
       "<tr>\n",
       "      <td></td>         <th>coef</th>     <th>std err</th>      <th>t</th>      <th>P>|t|</th>  <th>[0.025</th>    <th>0.975]</th>  \n",
       "</tr>\n",
       "<tr>\n",
       "  <th>Intercept</th> <td> 3395.3770</td> <td>   74.031</td> <td>   45.864</td> <td> 0.000</td> <td> 3248.465</td> <td> 3542.289</td>\n",
       "</tr>\n",
       "<tr>\n",
       "  <th>Smoker</th>    <td> -287.1719</td> <td>  118.544</td> <td>   -2.422</td> <td> 0.017</td> <td> -522.419</td> <td>  -51.925</td>\n",
       "</tr>\n",
       "</table>\n",
       "<table class=\"simpletable\">\n",
       "<tr>\n",
       "  <th>Omnibus:</th>       <td>17.044</td> <th>  Durbin-Watson:     </th> <td>   2.155</td>\n",
       "</tr>\n",
       "<tr>\n",
       "  <th>Prob(Omnibus):</th> <td> 0.000</td> <th>  Jarque-Bera (JB):  </th> <td>  29.690</td>\n",
       "</tr>\n",
       "<tr>\n",
       "  <th>Skew:</th>          <td>-0.699</td> <th>  Prob(JB):          </th> <td>3.57e-07</td>\n",
       "</tr>\n",
       "<tr>\n",
       "  <th>Kurtosis:</th>      <td> 5.274</td> <th>  Cond. No.          </th> <td>    2.44</td>\n",
       "</tr>\n",
       "</table><br/><br/>Notes:<br/>[1] Standard Errors assume that the covariance matrix of the errors is correctly specified."
      ],
      "text/plain": [
       "<class 'statsmodels.iolib.summary.Summary'>\n",
       "\"\"\"\n",
       "                            OLS Regression Results                            \n",
       "==============================================================================\n",
       "Dep. Variable:            Birthweight   R-squared:                       0.056\n",
       "Model:                            OLS   Adj. R-squared:                  0.047\n",
       "Method:                 Least Squares   F-statistic:                     5.868\n",
       "Date:                Sun, 26 Sep 2021   Prob (F-statistic):             0.0173\n",
       "Time:                        23:36:37   Log-Likelihood:                -776.88\n",
       "No. Observations:                 100   AIC:                             1558.\n",
       "Df Residuals:                      98   BIC:                             1563.\n",
       "Df Model:                           1                                         \n",
       "Covariance Type:            nonrobust                                         \n",
       "==============================================================================\n",
       "                 coef    std err          t      P>|t|      [0.025      0.975]\n",
       "------------------------------------------------------------------------------\n",
       "Intercept   3395.3770     74.031     45.864      0.000    3248.465    3542.289\n",
       "Smoker      -287.1719    118.544     -2.422      0.017    -522.419     -51.925\n",
       "==============================================================================\n",
       "Omnibus:                       17.044   Durbin-Watson:                   2.155\n",
       "Prob(Omnibus):                  0.000   Jarque-Bera (JB):               29.690\n",
       "Skew:                          -0.699   Prob(JB):                     3.57e-07\n",
       "Kurtosis:                       5.274   Cond. No.                         2.44\n",
       "==============================================================================\n",
       "\n",
       "Notes:\n",
       "[1] Standard Errors assume that the covariance matrix of the errors is correctly specified.\n",
       "\"\"\""
      ]
     },
     "execution_count": 51,
     "metadata": {},
     "output_type": "execute_result"
    }
   ],
   "source": [
    "JTresults1 = JTdata.fit()\n",
    "JTresults1.summary()"
   ]
  },
  {
   "cell_type": "code",
   "execution_count": 52,
   "metadata": {},
   "outputs": [
    {
     "data": {
      "text/html": [
       "<table class=\"simpletable\">\n",
       "<caption>OLS Regression Results</caption>\n",
       "<tr>\n",
       "  <th>Dep. Variable:</th>       <td>Birthweight</td>   <th>  R-squared:         </th> <td>   0.056</td>\n",
       "</tr>\n",
       "<tr>\n",
       "  <th>Model:</th>                   <td>OLS</td>       <th>  Adj. R-squared:    </th> <td>   0.047</td>\n",
       "</tr>\n",
       "<tr>\n",
       "  <th>Method:</th>             <td>Least Squares</td>  <th>  F-statistic:       </th> <td>   5.073</td>\n",
       "</tr>\n",
       "<tr>\n",
       "  <th>Date:</th>             <td>Sun, 26 Sep 2021</td> <th>  Prob (F-statistic):</th>  <td>0.0265</td> \n",
       "</tr>\n",
       "<tr>\n",
       "  <th>Time:</th>                 <td>23:36:52</td>     <th>  Log-Likelihood:    </th> <td> -776.88</td>\n",
       "</tr>\n",
       "<tr>\n",
       "  <th>No. Observations:</th>      <td>   100</td>      <th>  AIC:               </th> <td>   1558.</td>\n",
       "</tr>\n",
       "<tr>\n",
       "  <th>Df Residuals:</th>          <td>    98</td>      <th>  BIC:               </th> <td>   1563.</td>\n",
       "</tr>\n",
       "<tr>\n",
       "  <th>Df Model:</th>              <td>     1</td>      <th>                     </th>     <td> </td>   \n",
       "</tr>\n",
       "<tr>\n",
       "  <th>Covariance Type:</th>         <td>HC1</td>       <th>                     </th>     <td> </td>   \n",
       "</tr>\n",
       "</table>\n",
       "<table class=\"simpletable\">\n",
       "<tr>\n",
       "      <td></td>         <th>coef</th>     <th>std err</th>      <th>z</th>      <th>P>|z|</th>  <th>[0.025</th>    <th>0.975]</th>  \n",
       "</tr>\n",
       "<tr>\n",
       "  <th>Intercept</th> <td> 3395.3770</td> <td>   62.915</td> <td>   53.968</td> <td> 0.000</td> <td> 3272.067</td> <td> 3518.687</td>\n",
       "</tr>\n",
       "<tr>\n",
       "  <th>Smoker</th>    <td> -287.1719</td> <td>  127.494</td> <td>   -2.252</td> <td> 0.024</td> <td> -537.055</td> <td>  -37.289</td>\n",
       "</tr>\n",
       "</table>\n",
       "<table class=\"simpletable\">\n",
       "<tr>\n",
       "  <th>Omnibus:</th>       <td>17.044</td> <th>  Durbin-Watson:     </th> <td>   2.155</td>\n",
       "</tr>\n",
       "<tr>\n",
       "  <th>Prob(Omnibus):</th> <td> 0.000</td> <th>  Jarque-Bera (JB):  </th> <td>  29.690</td>\n",
       "</tr>\n",
       "<tr>\n",
       "  <th>Skew:</th>          <td>-0.699</td> <th>  Prob(JB):          </th> <td>3.57e-07</td>\n",
       "</tr>\n",
       "<tr>\n",
       "  <th>Kurtosis:</th>      <td> 5.274</td> <th>  Cond. No.          </th> <td>    2.44</td>\n",
       "</tr>\n",
       "</table><br/><br/>Notes:<br/>[1] Standard Errors are heteroscedasticity robust (HC1)"
      ],
      "text/plain": [
       "<class 'statsmodels.iolib.summary.Summary'>\n",
       "\"\"\"\n",
       "                            OLS Regression Results                            \n",
       "==============================================================================\n",
       "Dep. Variable:            Birthweight   R-squared:                       0.056\n",
       "Model:                            OLS   Adj. R-squared:                  0.047\n",
       "Method:                 Least Squares   F-statistic:                     5.073\n",
       "Date:                Sun, 26 Sep 2021   Prob (F-statistic):             0.0265\n",
       "Time:                        23:36:52   Log-Likelihood:                -776.88\n",
       "No. Observations:                 100   AIC:                             1558.\n",
       "Df Residuals:                      98   BIC:                             1563.\n",
       "Df Model:                           1                                         \n",
       "Covariance Type:                  HC1                                         \n",
       "==============================================================================\n",
       "                 coef    std err          z      P>|z|      [0.025      0.975]\n",
       "------------------------------------------------------------------------------\n",
       "Intercept   3395.3770     62.915     53.968      0.000    3272.067    3518.687\n",
       "Smoker      -287.1719    127.494     -2.252      0.024    -537.055     -37.289\n",
       "==============================================================================\n",
       "Omnibus:                       17.044   Durbin-Watson:                   2.155\n",
       "Prob(Omnibus):                  0.000   Jarque-Bera (JB):               29.690\n",
       "Skew:                          -0.699   Prob(JB):                     3.57e-07\n",
       "Kurtosis:                       5.274   Cond. No.                         2.44\n",
       "==============================================================================\n",
       "\n",
       "Notes:\n",
       "[1] Standard Errors are heteroscedasticity robust (HC1)\n",
       "\"\"\""
      ]
     },
     "execution_count": 52,
     "metadata": {},
     "output_type": "execute_result"
    }
   ],
   "source": [
    "JTresults2 = JTdata.fit(cov_type = 'HC1')\n",
    "JTresults2.summary()"
   ]
  },
  {
   "cell_type": "code",
   "execution_count": 53,
   "metadata": {},
   "outputs": [],
   "source": [
    "#####"
   ]
  }
 ],
 "metadata": {
  "kernelspec": {
   "display_name": "Python 3",
   "language": "python",
   "name": "python3"
  },
  "language_info": {
   "codemirror_mode": {
    "name": "ipython",
    "version": 3
   },
   "file_extension": ".py",
   "mimetype": "text/x-python",
   "name": "python",
   "nbconvert_exporter": "python",
   "pygments_lexer": "ipython3",
   "version": "3.8.5"
  }
 },
 "nbformat": 4,
 "nbformat_minor": 4
}
