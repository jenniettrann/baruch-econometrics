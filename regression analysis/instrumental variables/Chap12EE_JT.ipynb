{
 "cells": [
  {
   "cell_type": "code",
   "execution_count": 1,
   "metadata": {},
   "outputs": [],
   "source": [
    "import pandas as pd\n",
    "import statsmodels.formula.api as smf\n",
    "import statsmodels.api as sm\n",
    "from linearmodels.iv import IV2SLS"
   ]
  },
  {
   "cell_type": "code",
   "execution_count": 6,
   "metadata": {},
   "outputs": [
    {
     "data": {
      "text/html": [
       "<div>\n",
       "<style scoped>\n",
       "    .dataframe tbody tr th:only-of-type {\n",
       "        vertical-align: middle;\n",
       "    }\n",
       "\n",
       "    .dataframe tbody tr th {\n",
       "        vertical-align: top;\n",
       "    }\n",
       "\n",
       "    .dataframe thead th {\n",
       "        text-align: right;\n",
       "    }\n",
       "</style>\n",
       "<table border=\"1\" class=\"dataframe\">\n",
       "  <thead>\n",
       "    <tr style=\"text-align: right;\">\n",
       "      <th></th>\n",
       "      <th>morekids</th>\n",
       "      <th>boy1st</th>\n",
       "      <th>boy2nd</th>\n",
       "      <th>samesex</th>\n",
       "      <th>agem1</th>\n",
       "      <th>black</th>\n",
       "      <th>hispan</th>\n",
       "      <th>othrace</th>\n",
       "      <th>weeksm1</th>\n",
       "    </tr>\n",
       "  </thead>\n",
       "  <tbody>\n",
       "    <tr>\n",
       "      <th>0</th>\n",
       "      <td>0</td>\n",
       "      <td>1</td>\n",
       "      <td>0</td>\n",
       "      <td>0</td>\n",
       "      <td>27</td>\n",
       "      <td>0</td>\n",
       "      <td>0</td>\n",
       "      <td>0</td>\n",
       "      <td>0</td>\n",
       "    </tr>\n",
       "    <tr>\n",
       "      <th>1</th>\n",
       "      <td>0</td>\n",
       "      <td>0</td>\n",
       "      <td>1</td>\n",
       "      <td>0</td>\n",
       "      <td>30</td>\n",
       "      <td>0</td>\n",
       "      <td>0</td>\n",
       "      <td>0</td>\n",
       "      <td>30</td>\n",
       "    </tr>\n",
       "    <tr>\n",
       "      <th>2</th>\n",
       "      <td>0</td>\n",
       "      <td>1</td>\n",
       "      <td>0</td>\n",
       "      <td>0</td>\n",
       "      <td>27</td>\n",
       "      <td>0</td>\n",
       "      <td>0</td>\n",
       "      <td>0</td>\n",
       "      <td>0</td>\n",
       "    </tr>\n",
       "    <tr>\n",
       "      <th>3</th>\n",
       "      <td>0</td>\n",
       "      <td>1</td>\n",
       "      <td>0</td>\n",
       "      <td>0</td>\n",
       "      <td>35</td>\n",
       "      <td>1</td>\n",
       "      <td>0</td>\n",
       "      <td>0</td>\n",
       "      <td>0</td>\n",
       "    </tr>\n",
       "    <tr>\n",
       "      <th>4</th>\n",
       "      <td>0</td>\n",
       "      <td>0</td>\n",
       "      <td>0</td>\n",
       "      <td>1</td>\n",
       "      <td>30</td>\n",
       "      <td>0</td>\n",
       "      <td>0</td>\n",
       "      <td>0</td>\n",
       "      <td>22</td>\n",
       "    </tr>\n",
       "    <tr>\n",
       "      <th>...</th>\n",
       "      <td>...</td>\n",
       "      <td>...</td>\n",
       "      <td>...</td>\n",
       "      <td>...</td>\n",
       "      <td>...</td>\n",
       "      <td>...</td>\n",
       "      <td>...</td>\n",
       "      <td>...</td>\n",
       "      <td>...</td>\n",
       "    </tr>\n",
       "    <tr>\n",
       "      <th>254649</th>\n",
       "      <td>1</td>\n",
       "      <td>0</td>\n",
       "      <td>0</td>\n",
       "      <td>1</td>\n",
       "      <td>35</td>\n",
       "      <td>0</td>\n",
       "      <td>0</td>\n",
       "      <td>0</td>\n",
       "      <td>0</td>\n",
       "    </tr>\n",
       "    <tr>\n",
       "      <th>254650</th>\n",
       "      <td>1</td>\n",
       "      <td>1</td>\n",
       "      <td>1</td>\n",
       "      <td>1</td>\n",
       "      <td>29</td>\n",
       "      <td>0</td>\n",
       "      <td>0</td>\n",
       "      <td>0</td>\n",
       "      <td>0</td>\n",
       "    </tr>\n",
       "    <tr>\n",
       "      <th>254651</th>\n",
       "      <td>1</td>\n",
       "      <td>0</td>\n",
       "      <td>1</td>\n",
       "      <td>0</td>\n",
       "      <td>34</td>\n",
       "      <td>0</td>\n",
       "      <td>0</td>\n",
       "      <td>0</td>\n",
       "      <td>38</td>\n",
       "    </tr>\n",
       "    <tr>\n",
       "      <th>254652</th>\n",
       "      <td>1</td>\n",
       "      <td>0</td>\n",
       "      <td>0</td>\n",
       "      <td>1</td>\n",
       "      <td>30</td>\n",
       "      <td>0</td>\n",
       "      <td>0</td>\n",
       "      <td>0</td>\n",
       "      <td>26</td>\n",
       "    </tr>\n",
       "    <tr>\n",
       "      <th>254653</th>\n",
       "      <td>1</td>\n",
       "      <td>0</td>\n",
       "      <td>0</td>\n",
       "      <td>1</td>\n",
       "      <td>35</td>\n",
       "      <td>0</td>\n",
       "      <td>0</td>\n",
       "      <td>0</td>\n",
       "      <td>0</td>\n",
       "    </tr>\n",
       "  </tbody>\n",
       "</table>\n",
       "<p>254654 rows × 9 columns</p>\n",
       "</div>"
      ],
      "text/plain": [
       "        morekids  boy1st  boy2nd  samesex  agem1  black  hispan  othrace  \\\n",
       "0              0       1       0        0     27      0       0        0   \n",
       "1              0       0       1        0     30      0       0        0   \n",
       "2              0       1       0        0     27      0       0        0   \n",
       "3              0       1       0        0     35      1       0        0   \n",
       "4              0       0       0        1     30      0       0        0   \n",
       "...          ...     ...     ...      ...    ...    ...     ...      ...   \n",
       "254649         1       0       0        1     35      0       0        0   \n",
       "254650         1       1       1        1     29      0       0        0   \n",
       "254651         1       0       1        0     34      0       0        0   \n",
       "254652         1       0       0        1     30      0       0        0   \n",
       "254653         1       0       0        1     35      0       0        0   \n",
       "\n",
       "        weeksm1  \n",
       "0             0  \n",
       "1            30  \n",
       "2             0  \n",
       "3             0  \n",
       "4            22  \n",
       "...         ...  \n",
       "254649        0  \n",
       "254650        0  \n",
       "254651       38  \n",
       "254652       26  \n",
       "254653        0  \n",
       "\n",
       "[254654 rows x 9 columns]"
      ]
     },
     "execution_count": 6,
     "metadata": {},
     "output_type": "execute_result"
    }
   ],
   "source": [
    "Ch12data = pd.read_excel('/Users/jennifer/Desktop/Baruch F21/ECO 9723 Econometrics/Hw11:3/fertility.xlsx')\n",
    "Ch12data"
   ]
  },
  {
   "cell_type": "code",
   "execution_count": 7,
   "metadata": {},
   "outputs": [
    {
     "data": {
      "text/html": [
       "<table class=\"simpletable\">\n",
       "<caption>OLS Regression Results</caption>\n",
       "<tr>\n",
       "  <th>Dep. Variable:</th>         <td>weeksm1</td>     <th>  R-squared:         </th>  <td>   0.014</td>  \n",
       "</tr>\n",
       "<tr>\n",
       "  <th>Model:</th>                   <td>OLS</td>       <th>  Adj. R-squared:    </th>  <td>   0.014</td>  \n",
       "</tr>\n",
       "<tr>\n",
       "  <th>Method:</th>             <td>Least Squares</td>  <th>  F-statistic:       </th>  <td>   3821.</td>  \n",
       "</tr>\n",
       "<tr>\n",
       "  <th>Date:</th>             <td>Wed, 27 Oct 2021</td> <th>  Prob (F-statistic):</th>   <td>  0.00</td>   \n",
       "</tr>\n",
       "<tr>\n",
       "  <th>Time:</th>                 <td>01:47:20</td>     <th>  Log-Likelihood:    </th> <td>-1.1451e+06</td>\n",
       "</tr>\n",
       "<tr>\n",
       "  <th>No. Observations:</th>      <td>254654</td>      <th>  AIC:               </th>  <td>2.290e+06</td> \n",
       "</tr>\n",
       "<tr>\n",
       "  <th>Df Residuals:</th>          <td>254652</td>      <th>  BIC:               </th>  <td>2.290e+06</td> \n",
       "</tr>\n",
       "<tr>\n",
       "  <th>Df Model:</th>              <td>     1</td>      <th>                     </th>      <td> </td>     \n",
       "</tr>\n",
       "<tr>\n",
       "  <th>Covariance Type:</th>         <td>HC1</td>       <th>                     </th>      <td> </td>     \n",
       "</tr>\n",
       "</table>\n",
       "<table class=\"simpletable\">\n",
       "<tr>\n",
       "      <td></td>         <th>coef</th>     <th>std err</th>      <th>z</th>      <th>P>|z|</th>  <th>[0.025</th>    <th>0.975]</th>  \n",
       "</tr>\n",
       "<tr>\n",
       "  <th>Intercept</th> <td>   21.0684</td> <td>    0.056</td> <td>  375.765</td> <td> 0.000</td> <td>   20.959</td> <td>   21.178</td>\n",
       "</tr>\n",
       "<tr>\n",
       "  <th>morekids</th>  <td>   -5.3870</td> <td>    0.087</td> <td>  -61.814</td> <td> 0.000</td> <td>   -5.558</td> <td>   -5.216</td>\n",
       "</tr>\n",
       "</table>\n",
       "<table class=\"simpletable\">\n",
       "<tr>\n",
       "  <th>Omnibus:</th>       <td>1921554.195</td> <th>  Durbin-Watson:     </th> <td>   1.927</td> \n",
       "</tr>\n",
       "<tr>\n",
       "  <th>Prob(Omnibus):</th>   <td> 0.000</td>    <th>  Jarque-Bera (JB):  </th> <td>33549.325</td>\n",
       "</tr>\n",
       "<tr>\n",
       "  <th>Skew:</th>            <td> 0.525</td>    <th>  Prob(JB):          </th> <td>    0.00</td> \n",
       "</tr>\n",
       "<tr>\n",
       "  <th>Kurtosis:</th>        <td> 1.564</td>    <th>  Cond. No.          </th> <td>    2.43</td> \n",
       "</tr>\n",
       "</table><br/><br/>Notes:<br/>[1] Standard Errors are heteroscedasticity robust (HC1)"
      ],
      "text/plain": [
       "<class 'statsmodels.iolib.summary.Summary'>\n",
       "\"\"\"\n",
       "                            OLS Regression Results                            \n",
       "==============================================================================\n",
       "Dep. Variable:                weeksm1   R-squared:                       0.014\n",
       "Model:                            OLS   Adj. R-squared:                  0.014\n",
       "Method:                 Least Squares   F-statistic:                     3821.\n",
       "Date:                Wed, 27 Oct 2021   Prob (F-statistic):               0.00\n",
       "Time:                        01:47:20   Log-Likelihood:            -1.1451e+06\n",
       "No. Observations:              254654   AIC:                         2.290e+06\n",
       "Df Residuals:                  254652   BIC:                         2.290e+06\n",
       "Df Model:                           1                                         \n",
       "Covariance Type:                  HC1                                         \n",
       "==============================================================================\n",
       "                 coef    std err          z      P>|z|      [0.025      0.975]\n",
       "------------------------------------------------------------------------------\n",
       "Intercept     21.0684      0.056    375.765      0.000      20.959      21.178\n",
       "morekids      -5.3870      0.087    -61.814      0.000      -5.558      -5.216\n",
       "==============================================================================\n",
       "Omnibus:                  1921554.195   Durbin-Watson:                   1.927\n",
       "Prob(Omnibus):                  0.000   Jarque-Bera (JB):            33549.325\n",
       "Skew:                           0.525   Prob(JB):                         0.00\n",
       "Kurtosis:                       1.564   Cond. No.                         2.43\n",
       "==============================================================================\n",
       "\n",
       "Notes:\n",
       "[1] Standard Errors are heteroscedasticity robust (HC1)\n",
       "\"\"\""
      ]
     },
     "execution_count": 7,
     "metadata": {},
     "output_type": "execute_result"
    }
   ],
   "source": [
    "PartA = smf.ols('weeksm1 ~ morekids', data = Ch12data).fit(cov_type=\"HC1\")\n",
    "PartA.summary()"
   ]
  },
  {
   "cell_type": "code",
   "execution_count": 9,
   "metadata": {},
   "outputs": [
    {
     "name": "stdout",
     "output_type": "stream",
     "text": [
      "Women with more than 2 children work 5.39 hours less than women with fewer children.\n"
     ]
    }
   ],
   "source": [
    "#a\n",
    "\n",
    "print('Women with more than 2 children work 5.39 weeks less than women with fewer children.')"
   ]
  },
  {
   "cell_type": "code",
   "execution_count": 11,
   "metadata": {},
   "outputs": [
    {
     "name": "stdout",
     "output_type": "stream",
     "text": [
      "Due to fertility and total weeks worked are lifestyle choices and hard to exactly measured, this implies that the\n",
      "estimator Morekids is positively bias.\n"
     ]
    }
   ],
   "source": [
    "#b\n",
    "\n",
    "print('Due to fertility and total weeks worked are lifestyle choices and hard to exactly measured, this implies that the')\n",
    "print('estimator Morekids is positively bias.')"
   ]
  },
  {
   "cell_type": "code",
   "execution_count": 12,
   "metadata": {},
   "outputs": [
    {
     "data": {
      "text/html": [
       "<table class=\"simpletable\">\n",
       "<caption>OLS Regression Results</caption>\n",
       "<tr>\n",
       "  <th>Dep. Variable:</th>        <td>morekids</td>     <th>  R-squared:         </th>  <td>   0.005</td>  \n",
       "</tr>\n",
       "<tr>\n",
       "  <th>Model:</th>                   <td>OLS</td>       <th>  Adj. R-squared:    </th>  <td>   0.005</td>  \n",
       "</tr>\n",
       "<tr>\n",
       "  <th>Method:</th>             <td>Least Squares</td>  <th>  F-statistic:       </th>  <td>   1238.</td>  \n",
       "</tr>\n",
       "<tr>\n",
       "  <th>Date:</th>             <td>Thu, 28 Oct 2021</td> <th>  Prob (F-statistic):</th>  <td>1.39e-270</td> \n",
       "</tr>\n",
       "<tr>\n",
       "  <th>Time:</th>                 <td>01:51:08</td>     <th>  Log-Likelihood:    </th> <td>-1.7673e+05</td>\n",
       "</tr>\n",
       "<tr>\n",
       "  <th>No. Observations:</th>      <td>254654</td>      <th>  AIC:               </th>  <td>3.535e+05</td> \n",
       "</tr>\n",
       "<tr>\n",
       "  <th>Df Residuals:</th>          <td>254652</td>      <th>  BIC:               </th>  <td>3.535e+05</td> \n",
       "</tr>\n",
       "<tr>\n",
       "  <th>Df Model:</th>              <td>     1</td>      <th>                     </th>      <td> </td>     \n",
       "</tr>\n",
       "<tr>\n",
       "  <th>Covariance Type:</th>         <td>HC1</td>       <th>                     </th>      <td> </td>     \n",
       "</tr>\n",
       "</table>\n",
       "<table class=\"simpletable\">\n",
       "<tr>\n",
       "      <td></td>         <th>coef</th>     <th>std err</th>      <th>z</th>      <th>P>|z|</th>  <th>[0.025</th>    <th>0.975]</th>  \n",
       "</tr>\n",
       "<tr>\n",
       "  <th>Intercept</th> <td>    0.3464</td> <td>    0.001</td> <td>  258.335</td> <td> 0.000</td> <td>    0.344</td> <td>    0.349</td>\n",
       "</tr>\n",
       "<tr>\n",
       "  <th>samesex</th>   <td>    0.0675</td> <td>    0.002</td> <td>   35.188</td> <td> 0.000</td> <td>    0.064</td> <td>    0.071</td>\n",
       "</tr>\n",
       "</table>\n",
       "<table class=\"simpletable\">\n",
       "<tr>\n",
       "  <th>Omnibus:</th>       <td>1057523.438</td> <th>  Durbin-Watson:     </th> <td>   1.949</td> \n",
       "</tr>\n",
       "<tr>\n",
       "  <th>Prob(Omnibus):</th>   <td> 0.000</td>    <th>  Jarque-Bera (JB):  </th> <td>42280.951</td>\n",
       "</tr>\n",
       "<tr>\n",
       "  <th>Skew:</th>            <td> 0.488</td>    <th>  Prob(JB):          </th> <td>    0.00</td> \n",
       "</tr>\n",
       "<tr>\n",
       "  <th>Kurtosis:</th>        <td> 1.259</td>    <th>  Cond. No.          </th> <td>    2.63</td> \n",
       "</tr>\n",
       "</table><br/><br/>Notes:<br/>[1] Standard Errors are heteroscedasticity robust (HC1)"
      ],
      "text/plain": [
       "<class 'statsmodels.iolib.summary.Summary'>\n",
       "\"\"\"\n",
       "                            OLS Regression Results                            \n",
       "==============================================================================\n",
       "Dep. Variable:               morekids   R-squared:                       0.005\n",
       "Model:                            OLS   Adj. R-squared:                  0.005\n",
       "Method:                 Least Squares   F-statistic:                     1238.\n",
       "Date:                Thu, 28 Oct 2021   Prob (F-statistic):          1.39e-270\n",
       "Time:                        01:51:08   Log-Likelihood:            -1.7673e+05\n",
       "No. Observations:              254654   AIC:                         3.535e+05\n",
       "Df Residuals:                  254652   BIC:                         3.535e+05\n",
       "Df Model:                           1                                         \n",
       "Covariance Type:                  HC1                                         \n",
       "==============================================================================\n",
       "                 coef    std err          z      P>|z|      [0.025      0.975]\n",
       "------------------------------------------------------------------------------\n",
       "Intercept      0.3464      0.001    258.335      0.000       0.344       0.349\n",
       "samesex        0.0675      0.002     35.188      0.000       0.064       0.071\n",
       "==============================================================================\n",
       "Omnibus:                  1057523.438   Durbin-Watson:                   1.949\n",
       "Prob(Omnibus):                  0.000   Jarque-Bera (JB):            42280.951\n",
       "Skew:                           0.488   Prob(JB):                         0.00\n",
       "Kurtosis:                       1.259   Cond. No.                         2.63\n",
       "==============================================================================\n",
       "\n",
       "Notes:\n",
       "[1] Standard Errors are heteroscedasticity robust (HC1)\n",
       "\"\"\""
      ]
     },
     "execution_count": 12,
     "metadata": {},
     "output_type": "execute_result"
    }
   ],
   "source": [
    "PartC = smf.ols('morekids ~ samesex', data = Ch12data).fit(cov_type=\"HC1\")\n",
    "PartC.summary()"
   ]
  },
  {
   "cell_type": "code",
   "execution_count": 15,
   "metadata": {},
   "outputs": [
    {
     "name": "stdout",
     "output_type": "stream",
     "text": [
      "Couples with same sex children are 6.75% more likely to have an additional child.\n",
      "The effect is highly significant with t-stat = 35.188.\n"
     ]
    }
   ],
   "source": [
    "#c\n",
    "\n",
    "print('Couples with same sex children are 6.75% more likely to have an additional child.')\n",
    "print('The effect is highly significant with t-stat = 35.188.')"
   ]
  },
  {
   "cell_type": "code",
   "execution_count": 16,
   "metadata": {},
   "outputs": [
    {
     "name": "stdout",
     "output_type": "stream",
     "text": [
      "Samesex is a valid instrument because it is random and uncorrelated to any variables in the model.\n",
      "The F-stat is 1238 so the Samesex instrument is also relevant.\n"
     ]
    }
   ],
   "source": [
    "#d\n",
    "\n",
    "print('Samesex is a valid instrument because it is random and uncorrelated to any variables in the model.')\n",
    "print('The F-stat is 1238 so the Samesex instrument is also relevant.')"
   ]
  },
  {
   "cell_type": "code",
   "execution_count": 17,
   "metadata": {},
   "outputs": [
    {
     "name": "stdout",
     "output_type": "stream",
     "text": [
      "Samesex is not a weak instrument because it is uncorrelated to other variables and the high F-stat.\n"
     ]
    }
   ],
   "source": [
    "#e\n",
    "\n",
    "print('Samesex is not a weak instrument because it is uncorrelated to other variables and the high F-stat.')"
   ]
  },
  {
   "cell_type": "code",
   "execution_count": 21,
   "metadata": {},
   "outputs": [
    {
     "name": "stdout",
     "output_type": "stream",
     "text": [
      "                          IV-2SLS Estimation Summary                          \n",
      "==============================================================================\n",
      "Dep. Variable:                weeksm1   R-squared:                      0.0139\n",
      "Estimator:                    IV-2SLS   Adj. R-squared:                 0.0139\n",
      "No. Observations:              254654   F-statistic:                    24.534\n",
      "Date:                Thu, Oct 28 2021   P-value (F-stat)                0.0000\n",
      "Time:                        02:19:48   Distribution:                  chi2(1)\n",
      "Cov. Estimator:                robust                                         \n",
      "                                                                              \n",
      "                             Parameter Estimates                              \n",
      "==============================================================================\n",
      "            Parameter  Std. Err.     T-stat    P-value    Lower CI    Upper CI\n",
      "------------------------------------------------------------------------------\n",
      "const          21.421     0.4872     43.963     0.0000      20.466      22.376\n",
      "morekids      -6.3137     1.2747    -4.9532     0.0000     -8.8120     -3.8154\n",
      "==============================================================================\n",
      "\n",
      "Endogenous: morekids\n",
      "Instruments: samesex\n",
      "Robust Covariance (Heteroskedastic)\n",
      "Debiased: False\n"
     ]
    }
   ],
   "source": [
    "dependent = Ch12data.weeksm1\n",
    "controls = sm.add_constant(Ch12data[[]])\n",
    "endog = Ch12data[['morekids']]\n",
    "instruments = Ch12data[['samesex']]\n",
    "\n",
    "PartF = IV2SLS(dependent, controls, endog, instruments)\n",
    "PartFfitted = PartF.fit(cov_type = 'robust')\n",
    "print(PartFfitted)"
   ]
  },
  {
   "cell_type": "code",
   "execution_count": 23,
   "metadata": {},
   "outputs": [
    {
     "name": "stdout",
     "output_type": "stream",
     "text": [
      "Women with samesex children work 6.31 weeks less than women with fewer children and likely to have more kids.\n"
     ]
    }
   ],
   "source": [
    "#f\n",
    "\n",
    "print('Women with samesex children work 6.31 weeks less than women with fewer children and likely to have more kids.')"
   ]
  },
  {
   "cell_type": "code",
   "execution_count": 20,
   "metadata": {},
   "outputs": [
    {
     "name": "stdout",
     "output_type": "stream",
     "text": [
      "                          IV-2SLS Estimation Summary                          \n",
      "==============================================================================\n",
      "Dep. Variable:                weeksm1   R-squared:                      0.0437\n",
      "Estimator:                    IV-2SLS   Adj. R-squared:                 0.0437\n",
      "No. Observations:              254654   F-statistic:                    6955.0\n",
      "Date:                Thu, Oct 28 2021   P-value (F-stat)                0.0000\n",
      "Time:                        02:18:41   Distribution:                  chi2(5)\n",
      "Cov. Estimator:                robust                                         \n",
      "                                                                              \n",
      "                             Parameter Estimates                              \n",
      "==============================================================================\n",
      "            Parameter  Std. Err.     T-stat    P-value    Lower CI    Upper CI\n",
      "------------------------------------------------------------------------------\n",
      "const         -4.7919     0.3898    -12.294     0.0000     -5.5559     -4.0279\n",
      "agem1          0.8316     0.0226     36.730     0.0000      0.7872      0.8760\n",
      "black          11.623     0.2318     50.145     0.0000      11.169      12.078\n",
      "hispan         0.4042     0.2608     1.5498     0.1212     -0.1070      0.9153\n",
      "othrace        2.1310     0.2110     10.100     0.0000      1.7174      2.5445\n",
      "morekids      -5.8211     1.2464    -4.6703     0.0000     -8.2639     -3.3782\n",
      "==============================================================================\n",
      "\n",
      "Endogenous: morekids\n",
      "Instruments: samesex\n",
      "Robust Covariance (Heteroskedastic)\n",
      "Debiased: False\n"
     ]
    }
   ],
   "source": [
    "dependent = Ch12data.weeksm1\n",
    "controls = sm.add_constant(Ch12data[['agem1','black','hispan','othrace']])\n",
    "endog = Ch12data[['morekids']]\n",
    "instruments = Ch12data[['samesex']]\n",
    "#\n",
    "PartG = IV2SLS(dependent, controls, endog, instruments)\n",
    "PartGfitted = PartG.fit(cov_type = 'robust')\n",
    "print(PartGfitted)"
   ]
  },
  {
   "cell_type": "code",
   "execution_count": 22,
   "metadata": {},
   "outputs": [
    {
     "name": "stdout",
     "output_type": "stream",
     "text": [
      "The result does not change much because Samesex is random and unrelated to agem1, black, hispan or othrace.\n",
      "There is no omitted variable bias in IV regression (2).\n"
     ]
    }
   ],
   "source": [
    "#g\n",
    "\n",
    "print('The result does not change much because Samesex is random and unrelated to agem1, black, hispan or othrace.')\n",
    "print('There is no omitted variable bias in IV regression (2).')"
   ]
  },
  {
   "cell_type": "code",
   "execution_count": null,
   "metadata": {},
   "outputs": [],
   "source": [
    "#####"
   ]
  }
 ],
 "metadata": {
  "kernelspec": {
   "display_name": "Python 3",
   "language": "python",
   "name": "python3"
  },
  "language_info": {
   "codemirror_mode": {
    "name": "ipython",
    "version": 3
   },
   "file_extension": ".py",
   "mimetype": "text/x-python",
   "name": "python",
   "nbconvert_exporter": "python",
   "pygments_lexer": "ipython3",
   "version": "3.8.5"
  }
 },
 "nbformat": 4,
 "nbformat_minor": 4
}
