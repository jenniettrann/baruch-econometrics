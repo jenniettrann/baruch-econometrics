{
 "cells": [
  {
   "cell_type": "code",
   "execution_count": 2,
   "metadata": {},
   "outputs": [
    {
     "name": "stdout",
     "output_type": "stream",
     "text": [
      "Requirement already satisfied: pandas in /opt/anaconda3/lib/python3.8/site-packages (1.1.3)\n",
      "Requirement already satisfied: statsmodels in /opt/anaconda3/lib/python3.8/site-packages (0.12.0)\n",
      "Requirement already satisfied: numpy>=1.15.4 in /opt/anaconda3/lib/python3.8/site-packages (from pandas) (1.19.2)\n",
      "Requirement already satisfied: python-dateutil>=2.7.3 in /opt/anaconda3/lib/python3.8/site-packages (from pandas) (2.8.1)\n",
      "Requirement already satisfied: pytz>=2017.2 in /opt/anaconda3/lib/python3.8/site-packages (from pandas) (2020.1)\n",
      "Requirement already satisfied: patsy>=0.5 in /opt/anaconda3/lib/python3.8/site-packages (from statsmodels) (0.5.1)\n",
      "Requirement already satisfied: scipy>=1.1 in /opt/anaconda3/lib/python3.8/site-packages (from statsmodels) (1.5.2)\n",
      "Requirement already satisfied: six>=1.5 in /opt/anaconda3/lib/python3.8/site-packages (from python-dateutil>=2.7.3->pandas) (1.15.0)\n",
      "Note: you may need to restart the kernel to use updated packages.\n"
     ]
    }
   ],
   "source": [
    "pip install pandas statsmodels"
   ]
  },
  {
   "cell_type": "code",
   "execution_count": 3,
   "metadata": {},
   "outputs": [],
   "source": [
    "import pandas as pd\n",
    "from statsmodels.formula.api import ols\n",
    "import statsmodels.formula.api as smf"
   ]
  },
  {
   "cell_type": "code",
   "execution_count": 6,
   "metadata": {},
   "outputs": [
    {
     "name": "stdout",
     "output_type": "stream",
     "text": [
      "            ahe  year  bachelor  female  age\n",
      "0     38.461540  2008         1       0   33\n",
      "1     12.500000  2008         1       0   31\n",
      "2      9.857142  2008         0       0   30\n",
      "3      8.241758  2008         0       0   30\n",
      "4     17.788462  2008         0       0   31\n",
      "...         ...   ...       ...     ...  ...\n",
      "7706  12.500000  2008         0       0   32\n",
      "7707  24.725275  2008         1       1   28\n",
      "7708  41.208790  2008         1       0   33\n",
      "7709   3.269231  2008         1       1   31\n",
      "7710  13.269231  2008         0       0   30\n",
      "\n",
      "[7711 rows x 5 columns]\n"
     ]
    }
   ],
   "source": [
    "cps08 = pd.read_excel('/Users/jennifer/Desktop/Baruch F21/ECO 9723 Econometrics/Hw10:06/cps08.xlsx')\n",
    "print(cps08)"
   ]
  },
  {
   "cell_type": "code",
   "execution_count": 7,
   "metadata": {},
   "outputs": [
    {
     "data": {
      "text/html": [
       "<table class=\"simpletable\">\n",
       "<caption>OLS Regression Results</caption>\n",
       "<tr>\n",
       "  <th>Dep. Variable:</th>           <td>ahe</td>       <th>  R-squared:         </th> <td>   0.029</td> \n",
       "</tr>\n",
       "<tr>\n",
       "  <th>Model:</th>                   <td>OLS</td>       <th>  Adj. R-squared:    </th> <td>   0.029</td> \n",
       "</tr>\n",
       "<tr>\n",
       "  <th>Method:</th>             <td>Least Squares</td>  <th>  F-statistic:       </th> <td>   230.4</td> \n",
       "</tr>\n",
       "<tr>\n",
       "  <th>Date:</th>             <td>Thu, 30 Sep 2021</td> <th>  Prob (F-statistic):</th> <td>2.63e-51</td> \n",
       "</tr>\n",
       "<tr>\n",
       "  <th>Time:</th>                 <td>18:03:08</td>     <th>  Log-Likelihood:    </th> <td> -28689.</td> \n",
       "</tr>\n",
       "<tr>\n",
       "  <th>No. Observations:</th>      <td>  7711</td>      <th>  AIC:               </th> <td>5.738e+04</td>\n",
       "</tr>\n",
       "<tr>\n",
       "  <th>Df Residuals:</th>          <td>  7709</td>      <th>  BIC:               </th> <td>5.740e+04</td>\n",
       "</tr>\n",
       "<tr>\n",
       "  <th>Df Model:</th>              <td>     1</td>      <th>                     </th>     <td> </td>    \n",
       "</tr>\n",
       "<tr>\n",
       "  <th>Covariance Type:</th>      <td>nonrobust</td>    <th>                     </th>     <td> </td>    \n",
       "</tr>\n",
       "</table>\n",
       "<table class=\"simpletable\">\n",
       "<tr>\n",
       "      <td></td>         <th>coef</th>     <th>std err</th>      <th>t</th>      <th>P>|t|</th>  <th>[0.025</th>    <th>0.975]</th>  \n",
       "</tr>\n",
       "<tr>\n",
       "  <th>Intercept</th> <td>    1.0823</td> <td>    1.184</td> <td>    0.914</td> <td> 0.361</td> <td>   -1.239</td> <td>    3.404</td>\n",
       "</tr>\n",
       "<tr>\n",
       "  <th>age</th>       <td>    0.6050</td> <td>    0.040</td> <td>   15.180</td> <td> 0.000</td> <td>    0.527</td> <td>    0.683</td>\n",
       "</tr>\n",
       "</table>\n",
       "<table class=\"simpletable\">\n",
       "<tr>\n",
       "  <th>Omnibus:</th>       <td>1966.707</td> <th>  Durbin-Watson:     </th> <td>   1.764</td>\n",
       "</tr>\n",
       "<tr>\n",
       "  <th>Prob(Omnibus):</th>  <td> 0.000</td>  <th>  Jarque-Bera (JB):  </th> <td>5180.226</td>\n",
       "</tr>\n",
       "<tr>\n",
       "  <th>Skew:</th>           <td> 1.371</td>  <th>  Prob(JB):          </th> <td>    0.00</td>\n",
       "</tr>\n",
       "<tr>\n",
       "  <th>Kurtosis:</th>       <td> 5.933</td>  <th>  Cond. No.          </th> <td>    310.</td>\n",
       "</tr>\n",
       "</table><br/><br/>Notes:<br/>[1] Standard Errors assume that the covariance matrix of the errors is correctly specified."
      ],
      "text/plain": [
       "<class 'statsmodels.iolib.summary.Summary'>\n",
       "\"\"\"\n",
       "                            OLS Regression Results                            \n",
       "==============================================================================\n",
       "Dep. Variable:                    ahe   R-squared:                       0.029\n",
       "Model:                            OLS   Adj. R-squared:                  0.029\n",
       "Method:                 Least Squares   F-statistic:                     230.4\n",
       "Date:                Thu, 30 Sep 2021   Prob (F-statistic):           2.63e-51\n",
       "Time:                        18:03:08   Log-Likelihood:                -28689.\n",
       "No. Observations:                7711   AIC:                         5.738e+04\n",
       "Df Residuals:                    7709   BIC:                         5.740e+04\n",
       "Df Model:                           1                                         \n",
       "Covariance Type:            nonrobust                                         \n",
       "==============================================================================\n",
       "                 coef    std err          t      P>|t|      [0.025      0.975]\n",
       "------------------------------------------------------------------------------\n",
       "Intercept      1.0823      1.184      0.914      0.361      -1.239       3.404\n",
       "age            0.6050      0.040     15.180      0.000       0.527       0.683\n",
       "==============================================================================\n",
       "Omnibus:                     1966.707   Durbin-Watson:                   1.764\n",
       "Prob(Omnibus):                  0.000   Jarque-Bera (JB):             5180.226\n",
       "Skew:                           1.371   Prob(JB):                         0.00\n",
       "Kurtosis:                       5.933   Cond. No.                         310.\n",
       "==============================================================================\n",
       "\n",
       "Notes:\n",
       "[1] Standard Errors assume that the covariance matrix of the errors is correctly specified.\n",
       "\"\"\""
      ]
     },
     "execution_count": 7,
     "metadata": {},
     "output_type": "execute_result"
    }
   ],
   "source": [
    "JTresults1 = ols('ahe ~ age',data=cps08).fit()\n",
    "JTresults1.summary()"
   ]
  },
  {
   "cell_type": "code",
   "execution_count": 8,
   "metadata": {},
   "outputs": [
    {
     "data": {
      "text/html": [
       "<table class=\"simpletable\">\n",
       "<caption>OLS Regression Results</caption>\n",
       "<tr>\n",
       "  <th>Dep. Variable:</th>           <td>ahe</td>       <th>  R-squared:         </th> <td>   0.200</td> \n",
       "</tr>\n",
       "<tr>\n",
       "  <th>Model:</th>                   <td>OLS</td>       <th>  Adj. R-squared:    </th> <td>   0.199</td> \n",
       "</tr>\n",
       "<tr>\n",
       "  <th>Method:</th>             <td>Least Squares</td>  <th>  F-statistic:       </th> <td>   641.5</td> \n",
       "</tr>\n",
       "<tr>\n",
       "  <th>Date:</th>             <td>Thu, 30 Sep 2021</td> <th>  Prob (F-statistic):</th>  <td>  0.00</td>  \n",
       "</tr>\n",
       "<tr>\n",
       "  <th>Time:</th>                 <td>18:03:50</td>     <th>  Log-Likelihood:    </th> <td> -27944.</td> \n",
       "</tr>\n",
       "<tr>\n",
       "  <th>No. Observations:</th>      <td>  7711</td>      <th>  AIC:               </th> <td>5.590e+04</td>\n",
       "</tr>\n",
       "<tr>\n",
       "  <th>Df Residuals:</th>          <td>  7707</td>      <th>  BIC:               </th> <td>5.592e+04</td>\n",
       "</tr>\n",
       "<tr>\n",
       "  <th>Df Model:</th>              <td>     3</td>      <th>                     </th>     <td> </td>    \n",
       "</tr>\n",
       "<tr>\n",
       "  <th>Covariance Type:</th>      <td>nonrobust</td>    <th>                     </th>     <td> </td>    \n",
       "</tr>\n",
       "</table>\n",
       "<table class=\"simpletable\">\n",
       "<tr>\n",
       "      <td></td>         <th>coef</th>     <th>std err</th>      <th>t</th>      <th>P>|t|</th>  <th>[0.025</th>    <th>0.975]</th>  \n",
       "</tr>\n",
       "<tr>\n",
       "  <th>Intercept</th> <td>   -0.6357</td> <td>    1.085</td> <td>   -0.586</td> <td> 0.558</td> <td>   -2.763</td> <td>    1.492</td>\n",
       "</tr>\n",
       "<tr>\n",
       "  <th>age</th>       <td>    0.5852</td> <td>    0.036</td> <td>   16.165</td> <td> 0.000</td> <td>    0.514</td> <td>    0.656</td>\n",
       "</tr>\n",
       "<tr>\n",
       "  <th>bachelor</th>  <td>    8.0830</td> <td>    0.209</td> <td>   38.709</td> <td> 0.000</td> <td>    7.674</td> <td>    8.492</td>\n",
       "</tr>\n",
       "<tr>\n",
       "  <th>female</th>    <td>   -3.6640</td> <td>    0.211</td> <td>  -17.391</td> <td> 0.000</td> <td>   -4.077</td> <td>   -3.251</td>\n",
       "</tr>\n",
       "</table>\n",
       "<table class=\"simpletable\">\n",
       "<tr>\n",
       "  <th>Omnibus:</th>       <td>1975.506</td> <th>  Durbin-Watson:     </th> <td>   1.830</td>\n",
       "</tr>\n",
       "<tr>\n",
       "  <th>Prob(Omnibus):</th>  <td> 0.000</td>  <th>  Jarque-Bera (JB):  </th> <td>6177.802</td>\n",
       "</tr>\n",
       "<tr>\n",
       "  <th>Skew:</th>           <td> 1.306</td>  <th>  Prob(JB):          </th> <td>    0.00</td>\n",
       "</tr>\n",
       "<tr>\n",
       "  <th>Kurtosis:</th>       <td> 6.522</td>  <th>  Cond. No.          </th> <td>    313.</td>\n",
       "</tr>\n",
       "</table><br/><br/>Notes:<br/>[1] Standard Errors assume that the covariance matrix of the errors is correctly specified."
      ],
      "text/plain": [
       "<class 'statsmodels.iolib.summary.Summary'>\n",
       "\"\"\"\n",
       "                            OLS Regression Results                            \n",
       "==============================================================================\n",
       "Dep. Variable:                    ahe   R-squared:                       0.200\n",
       "Model:                            OLS   Adj. R-squared:                  0.199\n",
       "Method:                 Least Squares   F-statistic:                     641.5\n",
       "Date:                Thu, 30 Sep 2021   Prob (F-statistic):               0.00\n",
       "Time:                        18:03:50   Log-Likelihood:                -27944.\n",
       "No. Observations:                7711   AIC:                         5.590e+04\n",
       "Df Residuals:                    7707   BIC:                         5.592e+04\n",
       "Df Model:                           3                                         \n",
       "Covariance Type:            nonrobust                                         \n",
       "==============================================================================\n",
       "                 coef    std err          t      P>|t|      [0.025      0.975]\n",
       "------------------------------------------------------------------------------\n",
       "Intercept     -0.6357      1.085     -0.586      0.558      -2.763       1.492\n",
       "age            0.5852      0.036     16.165      0.000       0.514       0.656\n",
       "bachelor       8.0830      0.209     38.709      0.000       7.674       8.492\n",
       "female        -3.6640      0.211    -17.391      0.000      -4.077      -3.251\n",
       "==============================================================================\n",
       "Omnibus:                     1975.506   Durbin-Watson:                   1.830\n",
       "Prob(Omnibus):                  0.000   Jarque-Bera (JB):             6177.802\n",
       "Skew:                           1.306   Prob(JB):                         0.00\n",
       "Kurtosis:                       6.522   Cond. No.                         313.\n",
       "==============================================================================\n",
       "\n",
       "Notes:\n",
       "[1] Standard Errors assume that the covariance matrix of the errors is correctly specified.\n",
       "\"\"\""
      ]
     },
     "execution_count": 8,
     "metadata": {},
     "output_type": "execute_result"
    }
   ],
   "source": [
    "JTresults2 = ols('ahe ~ age + bachelor + female',data=cps08).fit()\n",
    "JTresults2.summary()"
   ]
  },
  {
   "cell_type": "code",
   "execution_count": 14,
   "metadata": {},
   "outputs": [
    {
     "name": "stdout",
     "output_type": "stream",
     "text": [
      "The difference in the expected hourly earnings is $0.74\n"
     ]
    }
   ],
   "source": [
    "print('The difference in the expected hourly earnings is ${0:.2f}'.\n",
    "      format((-0.6357+0.5852*25+8.0830*1-3.6640*0)-(-0.6357+0.5852*30+8.0830*1-3.6640*1)))"
   ]
  },
  {
   "cell_type": "code",
   "execution_count": 15,
   "metadata": {},
   "outputs": [
    {
     "name": "stdout",
     "output_type": "stream",
     "text": [
      "<F test: F=array([[822.46741344]]), p=0.0, df_denom=7.71e+03, df_num=2>\n"
     ]
    }
   ],
   "source": [
    "JThypothesis = '(female=0), (bachelor=0)'\n",
    "JTf_test = JTresults2.f_test(JThypothesis)\n",
    "print(JTf_test)"
   ]
  },
  {
   "cell_type": "code",
   "execution_count": 16,
   "metadata": {},
   "outputs": [
    {
     "data": {
      "text/html": [
       "<table class=\"simpletable\">\n",
       "<caption>OLS Regression Results</caption>\n",
       "<tr>\n",
       "  <th>Dep. Variable:</th>           <td>ahe</td>       <th>  R-squared:         </th> <td>   0.044</td> \n",
       "</tr>\n",
       "<tr>\n",
       "  <th>Model:</th>                   <td>OLS</td>       <th>  Adj. R-squared:    </th> <td>   0.044</td> \n",
       "</tr>\n",
       "<tr>\n",
       "  <th>Method:</th>             <td>Least Squares</td>  <th>  F-statistic:       </th> <td>   178.4</td> \n",
       "</tr>\n",
       "<tr>\n",
       "  <th>Date:</th>             <td>Thu, 30 Sep 2021</td> <th>  Prob (F-statistic):</th> <td>1.86e-76</td> \n",
       "</tr>\n",
       "<tr>\n",
       "  <th>Time:</th>                 <td>18:18:21</td>     <th>  Log-Likelihood:    </th> <td> -28629.</td> \n",
       "</tr>\n",
       "<tr>\n",
       "  <th>No. Observations:</th>      <td>  7711</td>      <th>  AIC:               </th> <td>5.726e+04</td>\n",
       "</tr>\n",
       "<tr>\n",
       "  <th>Df Residuals:</th>          <td>  7708</td>      <th>  BIC:               </th> <td>5.728e+04</td>\n",
       "</tr>\n",
       "<tr>\n",
       "  <th>Df Model:</th>              <td>     2</td>      <th>                     </th>     <td> </td>    \n",
       "</tr>\n",
       "<tr>\n",
       "  <th>Covariance Type:</th>      <td>nonrobust</td>    <th>                     </th>     <td> </td>    \n",
       "</tr>\n",
       "</table>\n",
       "<table class=\"simpletable\">\n",
       "<tr>\n",
       "      <td></td>         <th>coef</th>     <th>std err</th>      <th>t</th>      <th>P>|t|</th>  <th>[0.025</th>    <th>0.975]</th>  \n",
       "</tr>\n",
       "<tr>\n",
       "  <th>Intercept</th> <td>    2.5725</td> <td>    1.183</td> <td>    2.175</td> <td> 0.030</td> <td>    0.254</td> <td>    4.891</td>\n",
       "</tr>\n",
       "<tr>\n",
       "  <th>age</th>       <td>    0.5915</td> <td>    0.040</td> <td>   14.952</td> <td> 0.000</td> <td>    0.514</td> <td>    0.669</td>\n",
       "</tr>\n",
       "<tr>\n",
       "  <th>female</th>    <td>   -2.5253</td> <td>    0.228</td> <td>  -11.077</td> <td> 0.000</td> <td>   -2.972</td> <td>   -2.078</td>\n",
       "</tr>\n",
       "</table>\n",
       "<table class=\"simpletable\">\n",
       "<tr>\n",
       "  <th>Omnibus:</th>       <td>1952.945</td> <th>  Durbin-Watson:     </th> <td>   1.752</td>\n",
       "</tr>\n",
       "<tr>\n",
       "  <th>Prob(Omnibus):</th>  <td> 0.000</td>  <th>  Jarque-Bera (JB):  </th> <td>5174.053</td>\n",
       "</tr>\n",
       "<tr>\n",
       "  <th>Skew:</th>           <td> 1.359</td>  <th>  Prob(JB):          </th> <td>    0.00</td>\n",
       "</tr>\n",
       "<tr>\n",
       "  <th>Kurtosis:</th>       <td> 5.953</td>  <th>  Cond. No.          </th> <td>    312.</td>\n",
       "</tr>\n",
       "</table><br/><br/>Notes:<br/>[1] Standard Errors assume that the covariance matrix of the errors is correctly specified."
      ],
      "text/plain": [
       "<class 'statsmodels.iolib.summary.Summary'>\n",
       "\"\"\"\n",
       "                            OLS Regression Results                            \n",
       "==============================================================================\n",
       "Dep. Variable:                    ahe   R-squared:                       0.044\n",
       "Model:                            OLS   Adj. R-squared:                  0.044\n",
       "Method:                 Least Squares   F-statistic:                     178.4\n",
       "Date:                Thu, 30 Sep 2021   Prob (F-statistic):           1.86e-76\n",
       "Time:                        18:18:21   Log-Likelihood:                -28629.\n",
       "No. Observations:                7711   AIC:                         5.726e+04\n",
       "Df Residuals:                    7708   BIC:                         5.728e+04\n",
       "Df Model:                           2                                         \n",
       "Covariance Type:            nonrobust                                         \n",
       "==============================================================================\n",
       "                 coef    std err          t      P>|t|      [0.025      0.975]\n",
       "------------------------------------------------------------------------------\n",
       "Intercept      2.5725      1.183      2.175      0.030       0.254       4.891\n",
       "age            0.5915      0.040     14.952      0.000       0.514       0.669\n",
       "female        -2.5253      0.228    -11.077      0.000      -2.972      -2.078\n",
       "==============================================================================\n",
       "Omnibus:                     1952.945   Durbin-Watson:                   1.752\n",
       "Prob(Omnibus):                  0.000   Jarque-Bera (JB):             5174.053\n",
       "Skew:                           1.359   Prob(JB):                         0.00\n",
       "Kurtosis:                       5.953   Cond. No.                         312.\n",
       "==============================================================================\n",
       "\n",
       "Notes:\n",
       "[1] Standard Errors assume that the covariance matrix of the errors is correctly specified.\n",
       "\"\"\""
      ]
     },
     "execution_count": 16,
     "metadata": {},
     "output_type": "execute_result"
    }
   ],
   "source": [
    "JTresults8 = ols('ahe ~ age + female',data=cps08).fit()\n",
    "JTresults8.summary()"
   ]
  },
  {
   "cell_type": "code",
   "execution_count": 17,
   "metadata": {},
   "outputs": [
    {
     "name": "stdout",
     "output_type": "stream",
     "text": [
      "<F test: F=array([[178.3829258]]), p=1.8564401867060384e-76, df_denom=7.71e+03, df_num=2>\n"
     ]
    }
   ],
   "source": [
    "JTf_test8 = JTresults8.f_test('(female=0), (age=0)')\n",
    "print(JTf_test8)"
   ]
  },
  {
   "cell_type": "code",
   "execution_count": null,
   "metadata": {},
   "outputs": [],
   "source": [
    "#####"
   ]
  }
 ],
 "metadata": {
  "kernelspec": {
   "display_name": "Python 3",
   "language": "python",
   "name": "python3"
  },
  "language_info": {
   "codemirror_mode": {
    "name": "ipython",
    "version": 3
   },
   "file_extension": ".py",
   "mimetype": "text/x-python",
   "name": "python",
   "nbconvert_exporter": "python",
   "pygments_lexer": "ipython3",
   "version": "3.8.5"
  }
 },
 "nbformat": 4,
 "nbformat_minor": 4
}
