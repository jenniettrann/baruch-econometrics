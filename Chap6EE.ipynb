{
 "cells": [
  {
   "cell_type": "code",
   "execution_count": 1,
   "metadata": {},
   "outputs": [
    {
     "name": "stdout",
     "output_type": "stream",
     "text": [
      "Requirement already satisfied: pandas in /opt/anaconda3/lib/python3.8/site-packages (1.1.3)\n",
      "Requirement already satisfied: xlrd in /opt/anaconda3/lib/python3.8/site-packages (1.2.0)\n",
      "Collecting statistics\n",
      "  Downloading statistics-1.0.3.5.tar.gz (8.3 kB)\n",
      "Requirement already satisfied: statsmodels in /opt/anaconda3/lib/python3.8/site-packages (0.12.0)\n",
      "Requirement already satisfied: pytz>=2017.2 in /opt/anaconda3/lib/python3.8/site-packages (from pandas) (2020.1)\n",
      "Requirement already satisfied: python-dateutil>=2.7.3 in /opt/anaconda3/lib/python3.8/site-packages (from pandas) (2.8.1)\n",
      "Requirement already satisfied: numpy>=1.15.4 in /opt/anaconda3/lib/python3.8/site-packages (from pandas) (1.19.2)\n",
      "Requirement already satisfied: docutils>=0.3 in /opt/anaconda3/lib/python3.8/site-packages (from statistics) (0.16)\n",
      "Requirement already satisfied: patsy>=0.5 in /opt/anaconda3/lib/python3.8/site-packages (from statsmodels) (0.5.1)\n",
      "Requirement already satisfied: scipy>=1.1 in /opt/anaconda3/lib/python3.8/site-packages (from statsmodels) (1.5.2)\n",
      "Requirement already satisfied: six>=1.5 in /opt/anaconda3/lib/python3.8/site-packages (from python-dateutil>=2.7.3->pandas) (1.15.0)\n",
      "Building wheels for collected packages: statistics\n",
      "  Building wheel for statistics (setup.py) ... \u001b[?25ldone\n",
      "\u001b[?25h  Created wheel for statistics: filename=statistics-1.0.3.5-py3-none-any.whl size=7453 sha256=b2c8266b5f710a355993586d7cd0915ed50938f4a2912e8552664b70e6fe0786\n",
      "  Stored in directory: /Users/jennifer/Library/Caches/pip/wheels/36/4b/c7/6af97584669b756c0d60c5ff05d5fb1f533a4e4d96e5ee92b9\n",
      "Successfully built statistics\n",
      "Installing collected packages: statistics\n",
      "Successfully installed statistics-1.0.3.5\n",
      "Note: you may need to restart the kernel to use updated packages.\n"
     ]
    }
   ],
   "source": [
    "pip install pandas xlrd statistics statsmodels"
   ]
  },
  {
   "cell_type": "code",
   "execution_count": 2,
   "metadata": {},
   "outputs": [],
   "source": [
    "import pandas as pd\n",
    "import statsmodels.formula.api as smf\n",
    "import statistics as st\n",
    "import xlrd"
   ]
  },
  {
   "cell_type": "code",
   "execution_count": 8,
   "metadata": {},
   "outputs": [
    {
     "name": "stdout",
     "output_type": "stream",
     "text": [
      "     country_name    growth  oil       rgdp60  tradeshare  yearsschool  \\\n",
      "0           India  1.915168    0   765.999817    0.140502         1.45   \n",
      "1       Argentina  0.617645    0  4462.001465    0.156623         4.99   \n",
      "2           Japan  4.304759    0  2953.999512    0.157703         6.71   \n",
      "3          Brazil  2.930097    0  1783.999878    0.160405         2.89   \n",
      "4   United States  1.712265    0  9895.003906    0.160815         8.66   \n",
      "..            ...       ...  ...          ...         ...          ...   \n",
      "60         Cyprus  5.384184    0  2037.000366    0.979355         4.29   \n",
      "61       Malaysia  4.114544    0  1420.000244    1.105364         2.34   \n",
      "62        Belgium  2.651335    0  5495.001953    1.115917         7.46   \n",
      "63      Mauritius  3.024178    0  2861.999268    1.127937         2.44   \n",
      "64          Malta  6.652838    0  1374.000000    1.992616         5.64   \n",
      "\n",
      "    rev_coups  assasinations  \n",
      "0    0.133333       0.866667  \n",
      "1    0.933333       1.933333  \n",
      "2    0.000000       0.200000  \n",
      "3    0.100000       0.100000  \n",
      "4    0.000000       0.433333  \n",
      "..        ...            ...  \n",
      "60   0.100000       0.166667  \n",
      "61   0.033333       0.033333  \n",
      "62   0.000000       0.000000  \n",
      "63   0.000000       0.000000  \n",
      "64   0.000000       0.000000  \n",
      "\n",
      "[65 rows x 8 columns]\n"
     ]
    }
   ],
   "source": [
    "growthdata = pd.read_excel('/Users/jennifer/Desktop/Baruch F21/ECO 9723 Econometrics/Hw9:29/Growth.xls')\n",
    "print(growthdata)"
   ]
  },
  {
   "cell_type": "code",
   "execution_count": 9,
   "metadata": {},
   "outputs": [
    {
     "name": "stdout",
     "output_type": "stream",
     "text": [
      "Mean of oil is 0\n"
     ]
    }
   ],
   "source": [
    "meanoil=st.mean(growthdata[\"oil\"])\n",
    "print('Mean of oil is {:.0f}'.format(meanoil))"
   ]
  },
  {
   "cell_type": "code",
   "execution_count": 13,
   "metadata": {},
   "outputs": [
    {
     "name": "stdout",
     "output_type": "stream",
     "text": [
      "Mean of growth is 1.9427\n"
     ]
    }
   ],
   "source": [
    "meangrowth=st.mean(growthdata[\"growth\"])\n",
    "print('Mean of growth is {:.4f}'.format(meangrowth))"
   ]
  },
  {
   "cell_type": "code",
   "execution_count": 14,
   "metadata": {},
   "outputs": [
    {
     "name": "stdout",
     "output_type": "stream",
     "text": [
      "Mean of rgpd60 is 3103.7846\n"
     ]
    }
   ],
   "source": [
    "meanrgdp60=st.mean(growthdata[\"rgdp60\"])\n",
    "print('Mean of rgpd60 is {:.4f}'.format(meanrgdp60))"
   ]
  },
  {
   "cell_type": "code",
   "execution_count": 15,
   "metadata": {},
   "outputs": [
    {
     "name": "stdout",
     "output_type": "stream",
     "text": [
      "Mean of tradeshare is 0.5647\n"
     ]
    }
   ],
   "source": [
    "meantradeshare=st.mean(growthdata[\"tradeshare\"])\n",
    "print('Mean of tradeshare is {:.4f}'.format(meantradeshare))"
   ]
  },
  {
   "cell_type": "code",
   "execution_count": 16,
   "metadata": {},
   "outputs": [
    {
     "name": "stdout",
     "output_type": "stream",
     "text": [
      "Mean of years of schooling is 3.9851\n"
     ]
    }
   ],
   "source": [
    "meanyearsschool=st.mean(growthdata[\"yearsschool\"])\n",
    "print('Mean of years of schooling is {:.4f}'.format(meanyearsschool))"
   ]
  },
  {
   "cell_type": "code",
   "execution_count": 20,
   "metadata": {},
   "outputs": [
    {
     "name": "stdout",
     "output_type": "stream",
     "text": [
      "Mean of coups is 0.1675\n"
     ]
    }
   ],
   "source": [
    "meanrev_coups=st.mean(growthdata[\"rev_coups\"])\n",
    "print('Mean of coups is {:.4f}'.format(meanrev_coups))"
   ]
  },
  {
   "cell_type": "code",
   "execution_count": 21,
   "metadata": {},
   "outputs": [
    {
     "name": "stdout",
     "output_type": "stream",
     "text": [
      "Mean of assasinations is 0.2776\n"
     ]
    }
   ],
   "source": [
    "meanassasinations=st.mean(growthdata[\"assasinations\"])\n",
    "print('Mean of assasinations is {:.4f}'.format(meanassasinations))"
   ]
  },
  {
   "cell_type": "code",
   "execution_count": 23,
   "metadata": {},
   "outputs": [
    {
     "name": "stdout",
     "output_type": "stream",
     "text": [
      "Standard Deviation of rgdp60 is 2513\n"
     ]
    }
   ],
   "source": [
    "sdrgdp60=st.stdev(growthdata[\"rgdp60\"])\n",
    "print('Standard Deviation of rgdp60 is {:.0f}'.format(sdrgdp60))"
   ]
  },
  {
   "cell_type": "code",
   "execution_count": 32,
   "metadata": {},
   "outputs": [
    {
     "data": {
      "text/html": [
       "<table class=\"simpletable\">\n",
       "<caption>OLS Regression Results</caption>\n",
       "<tr>\n",
       "  <th>Dep. Variable:</th>         <td>growth</td>      <th>  R-squared:         </th> <td>   0.359</td>\n",
       "</tr>\n",
       "<tr>\n",
       "  <th>Model:</th>                   <td>OLS</td>       <th>  Adj. R-squared:    </th> <td>   0.305</td>\n",
       "</tr>\n",
       "<tr>\n",
       "  <th>Method:</th>             <td>Least Squares</td>  <th>  F-statistic:       </th> <td>   11.20</td>\n",
       "</tr>\n",
       "<tr>\n",
       "  <th>Date:</th>             <td>Mon, 27 Sep 2021</td> <th>  Prob (F-statistic):</th> <td>1.29e-07</td>\n",
       "</tr>\n",
       "<tr>\n",
       "  <th>Time:</th>                 <td>00:08:53</td>     <th>  Log-Likelihood:    </th> <td> -118.90</td>\n",
       "</tr>\n",
       "<tr>\n",
       "  <th>No. Observations:</th>      <td>    65</td>      <th>  AIC:               </th> <td>   249.8</td>\n",
       "</tr>\n",
       "<tr>\n",
       "  <th>Df Residuals:</th>          <td>    59</td>      <th>  BIC:               </th> <td>   262.8</td>\n",
       "</tr>\n",
       "<tr>\n",
       "  <th>Df Model:</th>              <td>     5</td>      <th>                     </th>     <td> </td>   \n",
       "</tr>\n",
       "<tr>\n",
       "  <th>Covariance Type:</th>         <td>HC1</td>       <th>                     </th>     <td> </td>   \n",
       "</tr>\n",
       "</table>\n",
       "<table class=\"simpletable\">\n",
       "<tr>\n",
       "        <td></td>           <th>coef</th>     <th>std err</th>      <th>z</th>      <th>P>|z|</th>  <th>[0.025</th>    <th>0.975]</th>  \n",
       "</tr>\n",
       "<tr>\n",
       "  <th>Intercept</th>     <td>    0.4898</td> <td>    0.738</td> <td>    0.664</td> <td> 0.507</td> <td>   -0.957</td> <td>    1.936</td>\n",
       "</tr>\n",
       "<tr>\n",
       "  <th>tradeshare</th>    <td>    1.5617</td> <td>    0.585</td> <td>    2.670</td> <td> 0.008</td> <td>    0.415</td> <td>    2.708</td>\n",
       "</tr>\n",
       "<tr>\n",
       "  <th>yearsschool</th>   <td>    0.5748</td> <td>    0.123</td> <td>    4.681</td> <td> 0.000</td> <td>    0.334</td> <td>    0.816</td>\n",
       "</tr>\n",
       "<tr>\n",
       "  <th>rev_coups</th>     <td>   -2.1575</td> <td>    0.878</td> <td>   -2.457</td> <td> 0.014</td> <td>   -3.879</td> <td>   -0.436</td>\n",
       "</tr>\n",
       "<tr>\n",
       "  <th>assasinations</th> <td>    0.3541</td> <td>    0.365</td> <td>    0.969</td> <td> 0.333</td> <td>   -0.362</td> <td>    1.070</td>\n",
       "</tr>\n",
       "<tr>\n",
       "  <th>rgdp60</th>        <td>   -0.0005</td> <td>    0.000</td> <td>   -3.936</td> <td> 0.000</td> <td>   -0.001</td> <td>   -0.000</td>\n",
       "</tr>\n",
       "</table>\n",
       "<table class=\"simpletable\">\n",
       "<tr>\n",
       "  <th>Omnibus:</th>       <td> 7.463</td> <th>  Durbin-Watson:     </th> <td>   2.126</td>\n",
       "</tr>\n",
       "<tr>\n",
       "  <th>Prob(Omnibus):</th> <td> 0.024</td> <th>  Jarque-Bera (JB):  </th> <td>   8.425</td>\n",
       "</tr>\n",
       "<tr>\n",
       "  <th>Skew:</th>          <td> 0.487</td> <th>  Prob(JB):          </th> <td>  0.0148</td>\n",
       "</tr>\n",
       "<tr>\n",
       "  <th>Kurtosis:</th>      <td> 4.470</td> <th>  Cond. No.          </th> <td>2.46e+04</td>\n",
       "</tr>\n",
       "</table><br/><br/>Notes:<br/>[1] Standard Errors are heteroscedasticity robust (HC1)<br/>[2] The condition number is large, 2.46e+04. This might indicate that there are<br/>strong multicollinearity or other numerical problems."
      ],
      "text/plain": [
       "<class 'statsmodels.iolib.summary.Summary'>\n",
       "\"\"\"\n",
       "                            OLS Regression Results                            \n",
       "==============================================================================\n",
       "Dep. Variable:                 growth   R-squared:                       0.359\n",
       "Model:                            OLS   Adj. R-squared:                  0.305\n",
       "Method:                 Least Squares   F-statistic:                     11.20\n",
       "Date:                Mon, 27 Sep 2021   Prob (F-statistic):           1.29e-07\n",
       "Time:                        00:08:53   Log-Likelihood:                -118.90\n",
       "No. Observations:                  65   AIC:                             249.8\n",
       "Df Residuals:                      59   BIC:                             262.8\n",
       "Df Model:                           5                                         \n",
       "Covariance Type:                  HC1                                         \n",
       "=================================================================================\n",
       "                    coef    std err          z      P>|z|      [0.025      0.975]\n",
       "---------------------------------------------------------------------------------\n",
       "Intercept         0.4898      0.738      0.664      0.507      -0.957       1.936\n",
       "tradeshare        1.5617      0.585      2.670      0.008       0.415       2.708\n",
       "yearsschool       0.5748      0.123      4.681      0.000       0.334       0.816\n",
       "rev_coups        -2.1575      0.878     -2.457      0.014      -3.879      -0.436\n",
       "assasinations     0.3541      0.365      0.969      0.333      -0.362       1.070\n",
       "rgdp60           -0.0005      0.000     -3.936      0.000      -0.001      -0.000\n",
       "==============================================================================\n",
       "Omnibus:                        7.463   Durbin-Watson:                   2.126\n",
       "Prob(Omnibus):                  0.024   Jarque-Bera (JB):                8.425\n",
       "Skew:                           0.487   Prob(JB):                       0.0148\n",
       "Kurtosis:                       4.470   Cond. No.                     2.46e+04\n",
       "==============================================================================\n",
       "\n",
       "Notes:\n",
       "[1] Standard Errors are heteroscedasticity robust (HC1)\n",
       "[2] The condition number is large, 2.46e+04. This might indicate that there are\n",
       "strong multicollinearity or other numerical problems.\n",
       "\"\"\""
      ]
     },
     "execution_count": 32,
     "metadata": {},
     "output_type": "execute_result"
    }
   ],
   "source": [
    "JTdata1=smf.ols(formula='growth~tradeshare+yearsschool+rev_coups+assasinations+rgdp60',data=growthdata)\n",
    "JTresults1=JTdata.fit(cov_type='HC1')\n",
    "JTresults1.summary()"
   ]
  },
  {
   "cell_type": "code",
   "execution_count": 28,
   "metadata": {},
   "outputs": [
    {
     "name": "stdout",
     "output_type": "stream",
     "text": [
      "Expected growth rate evaluated at the mean of all the regressors is 1.85\n"
     ]
    }
   ],
   "source": [
    "growthexp=0.4898+1.5617*meantradeshare+0.5748*meanyearsschool-2.1575*meanrev_coups+0.3541*meanassasinations-0.0005*meanrgdp60\n",
    "print('Expected growth rate evaluated at the mean of all the regressors is {:.2f}'.format(growthexp))"
   ]
  },
  {
   "cell_type": "code",
   "execution_count": 27,
   "metadata": {},
   "outputs": [
    {
     "name": "stdout",
     "output_type": "stream",
     "text": [
      "The expected growth rate would be 3.31\n"
     ]
    }
   ],
   "source": [
    "growthexp2=0.4898+1.5617*meantradeshare+0.5748*(meanyearsschool+st.stdev(growthdata[\"yearsschool\"]))-2.1575*meanrev_coups+0.3541*meanassasinations-0.0005*meanrgdp60\n",
    "print('The expected growth rate would be {:.2f}'.format(growthexp2))"
   ]
  },
  {
   "cell_type": "code",
   "execution_count": 31,
   "metadata": {},
   "outputs": [
    {
     "name": "stdout",
     "output_type": "stream",
     "text": [
      "     country_name    growth  oil       rgdp60  tradeshare  yearsschool  \\\n",
      "0           India  1.915168    0   765.999817    0.140502         1.45   \n",
      "1       Argentina  0.617645    0  4462.001465    0.156623         4.99   \n",
      "2           Japan  4.304759    0  2953.999512    0.157703         6.71   \n",
      "3          Brazil  2.930097    0  1783.999878    0.160405         2.89   \n",
      "4   United States  1.712265    0  9895.003906    0.160815         8.66   \n",
      "..            ...       ...  ...          ...         ...          ...   \n",
      "59    Netherlands  2.200577    0  6076.997070    0.834204         5.27   \n",
      "60         Cyprus  5.384184    0  2037.000366    0.979355         4.29   \n",
      "61       Malaysia  4.114544    0  1420.000244    1.105364         2.34   \n",
      "62        Belgium  2.651335    0  5495.001953    1.115917         7.46   \n",
      "63      Mauritius  3.024178    0  2861.999268    1.127937         2.44   \n",
      "\n",
      "    rev_coups  assasinations  \n",
      "0    0.133333       0.866667  \n",
      "1    0.933333       1.933333  \n",
      "2    0.000000       0.200000  \n",
      "3    0.100000       0.100000  \n",
      "4    0.000000       0.433333  \n",
      "..        ...            ...  \n",
      "59   0.000000       0.000000  \n",
      "60   0.100000       0.166667  \n",
      "61   0.033333       0.033333  \n",
      "62   0.000000       0.000000  \n",
      "63   0.000000       0.000000  \n",
      "\n",
      "[64 rows x 8 columns]\n"
     ]
    }
   ],
   "source": [
    "datanomalta=growthdata.drop([64,])\n",
    "print(datanomalta)"
   ]
  },
  {
   "cell_type": "code",
   "execution_count": 33,
   "metadata": {},
   "outputs": [
    {
     "data": {
      "text/html": [
       "<table class=\"simpletable\">\n",
       "<caption>OLS Regression Results</caption>\n",
       "<tr>\n",
       "  <th>Dep. Variable:</th>         <td>growth</td>      <th>  R-squared:         </th> <td>   0.291</td>\n",
       "</tr>\n",
       "<tr>\n",
       "  <th>Model:</th>                   <td>OLS</td>       <th>  Adj. R-squared:    </th> <td>   0.230</td>\n",
       "</tr>\n",
       "<tr>\n",
       "  <th>Method:</th>             <td>Least Squares</td>  <th>  F-statistic:       </th> <td>   7.001</td>\n",
       "</tr>\n",
       "<tr>\n",
       "  <th>Date:</th>             <td>Mon, 27 Sep 2021</td> <th>  Prob (F-statistic):</th> <td>3.54e-05</td>\n",
       "</tr>\n",
       "<tr>\n",
       "  <th>Time:</th>                 <td>00:09:21</td>     <th>  Log-Likelihood:    </th> <td> -117.49</td>\n",
       "</tr>\n",
       "<tr>\n",
       "  <th>No. Observations:</th>      <td>    64</td>      <th>  AIC:               </th> <td>   247.0</td>\n",
       "</tr>\n",
       "<tr>\n",
       "  <th>Df Residuals:</th>          <td>    58</td>      <th>  BIC:               </th> <td>   259.9</td>\n",
       "</tr>\n",
       "<tr>\n",
       "  <th>Df Model:</th>              <td>     5</td>      <th>                     </th>     <td> </td>   \n",
       "</tr>\n",
       "<tr>\n",
       "  <th>Covariance Type:</th>         <td>HC1</td>       <th>                     </th>     <td> </td>   \n",
       "</tr>\n",
       "</table>\n",
       "<table class=\"simpletable\">\n",
       "<tr>\n",
       "        <td></td>           <th>coef</th>     <th>std err</th>      <th>z</th>      <th>P>|z|</th>  <th>[0.025</th>    <th>0.975]</th>  \n",
       "</tr>\n",
       "<tr>\n",
       "  <th>Intercept</th>     <td>    0.6269</td> <td>    0.869</td> <td>    0.721</td> <td> 0.471</td> <td>   -1.076</td> <td>    2.330</td>\n",
       "</tr>\n",
       "<tr>\n",
       "  <th>tradeshare</th>    <td>    1.3408</td> <td>    0.882</td> <td>    1.520</td> <td> 0.128</td> <td>   -0.388</td> <td>    3.069</td>\n",
       "</tr>\n",
       "<tr>\n",
       "  <th>yearsschool</th>   <td>    0.5642</td> <td>    0.129</td> <td>    4.357</td> <td> 0.000</td> <td>    0.310</td> <td>    0.818</td>\n",
       "</tr>\n",
       "<tr>\n",
       "  <th>rev_coups</th>     <td>   -2.1504</td> <td>    0.875</td> <td>   -2.459</td> <td> 0.014</td> <td>   -3.865</td> <td>   -0.436</td>\n",
       "</tr>\n",
       "<tr>\n",
       "  <th>assasinations</th> <td>    0.3226</td> <td>    0.380</td> <td>    0.848</td> <td> 0.396</td> <td>   -0.423</td> <td>    1.068</td>\n",
       "</tr>\n",
       "<tr>\n",
       "  <th>rgdp60</th>        <td>   -0.0005</td> <td>    0.000</td> <td>   -3.797</td> <td> 0.000</td> <td>   -0.001</td> <td>   -0.000</td>\n",
       "</tr>\n",
       "</table>\n",
       "<table class=\"simpletable\">\n",
       "<tr>\n",
       "  <th>Omnibus:</th>       <td> 7.569</td> <th>  Durbin-Watson:     </th> <td>   2.130</td>\n",
       "</tr>\n",
       "<tr>\n",
       "  <th>Prob(Omnibus):</th> <td> 0.023</td> <th>  Jarque-Bera (JB):  </th> <td>   8.597</td>\n",
       "</tr>\n",
       "<tr>\n",
       "  <th>Skew:</th>          <td> 0.494</td> <th>  Prob(JB):          </th> <td>  0.0136</td>\n",
       "</tr>\n",
       "<tr>\n",
       "  <th>Kurtosis:</th>      <td> 4.499</td> <th>  Cond. No.          </th> <td>2.59e+04</td>\n",
       "</tr>\n",
       "</table><br/><br/>Notes:<br/>[1] Standard Errors are heteroscedasticity robust (HC1)<br/>[2] The condition number is large, 2.59e+04. This might indicate that there are<br/>strong multicollinearity or other numerical problems."
      ],
      "text/plain": [
       "<class 'statsmodels.iolib.summary.Summary'>\n",
       "\"\"\"\n",
       "                            OLS Regression Results                            \n",
       "==============================================================================\n",
       "Dep. Variable:                 growth   R-squared:                       0.291\n",
       "Model:                            OLS   Adj. R-squared:                  0.230\n",
       "Method:                 Least Squares   F-statistic:                     7.001\n",
       "Date:                Mon, 27 Sep 2021   Prob (F-statistic):           3.54e-05\n",
       "Time:                        00:09:21   Log-Likelihood:                -117.49\n",
       "No. Observations:                  64   AIC:                             247.0\n",
       "Df Residuals:                      58   BIC:                             259.9\n",
       "Df Model:                           5                                         \n",
       "Covariance Type:                  HC1                                         \n",
       "=================================================================================\n",
       "                    coef    std err          z      P>|z|      [0.025      0.975]\n",
       "---------------------------------------------------------------------------------\n",
       "Intercept         0.6269      0.869      0.721      0.471      -1.076       2.330\n",
       "tradeshare        1.3408      0.882      1.520      0.128      -0.388       3.069\n",
       "yearsschool       0.5642      0.129      4.357      0.000       0.310       0.818\n",
       "rev_coups        -2.1504      0.875     -2.459      0.014      -3.865      -0.436\n",
       "assasinations     0.3226      0.380      0.848      0.396      -0.423       1.068\n",
       "rgdp60           -0.0005      0.000     -3.797      0.000      -0.001      -0.000\n",
       "==============================================================================\n",
       "Omnibus:                        7.569   Durbin-Watson:                   2.130\n",
       "Prob(Omnibus):                  0.023   Jarque-Bera (JB):                8.597\n",
       "Skew:                           0.494   Prob(JB):                       0.0136\n",
       "Kurtosis:                       4.499   Cond. No.                     2.59e+04\n",
       "==============================================================================\n",
       "\n",
       "Notes:\n",
       "[1] Standard Errors are heteroscedasticity robust (HC1)\n",
       "[2] The condition number is large, 2.59e+04. This might indicate that there are\n",
       "strong multicollinearity or other numerical problems.\n",
       "\"\"\""
      ]
     },
     "execution_count": 33,
     "metadata": {},
     "output_type": "execute_result"
    }
   ],
   "source": [
    "JTdata2=smf.ols(formula='growth~tradeshare+yearsschool+rev_coups+assasinations+rgdp60',data=datanomalta)\n",
    "JTresults2=JTdata2.fit(cov_type='HC1')\n",
    "JTresults2.summary()"
   ]
  },
  {
   "cell_type": "code",
   "execution_count": 34,
   "metadata": {},
   "outputs": [
    {
     "name": "stderr",
     "output_type": "stream",
     "text": [
      "/opt/anaconda3/lib/python3.8/site-packages/statsmodels/regression/linear_model.py:1860: RuntimeWarning: divide by zero encountered in double_scalars\n",
      "  return np.sqrt(eigvals[0]/eigvals[-1])\n",
      "/opt/anaconda3/lib/python3.8/site-packages/statsmodels/base/model.py:1832: ValueWarning: covariance of constraints does not have full rank. The number of constraints is 6, but rank is 5\n",
      "  warnings.warn('covariance of constraints does not have full '\n"
     ]
    },
    {
     "data": {
      "text/html": [
       "<table class=\"simpletable\">\n",
       "<caption>OLS Regression Results</caption>\n",
       "<tr>\n",
       "  <th>Dep. Variable:</th>         <td>growth</td>      <th>  R-squared:         </th> <td>   0.359</td>\n",
       "</tr>\n",
       "<tr>\n",
       "  <th>Model:</th>                   <td>OLS</td>       <th>  Adj. R-squared:    </th> <td>   0.305</td>\n",
       "</tr>\n",
       "<tr>\n",
       "  <th>Method:</th>             <td>Least Squares</td>  <th>  F-statistic:       </th> <td>   11.20</td>\n",
       "</tr>\n",
       "<tr>\n",
       "  <th>Date:</th>             <td>Mon, 27 Sep 2021</td> <th>  Prob (F-statistic):</th> <td>1.29e-07</td>\n",
       "</tr>\n",
       "<tr>\n",
       "  <th>Time:</th>                 <td>00:11:52</td>     <th>  Log-Likelihood:    </th> <td> -118.90</td>\n",
       "</tr>\n",
       "<tr>\n",
       "  <th>No. Observations:</th>      <td>    65</td>      <th>  AIC:               </th> <td>   249.8</td>\n",
       "</tr>\n",
       "<tr>\n",
       "  <th>Df Residuals:</th>          <td>    59</td>      <th>  BIC:               </th> <td>   262.8</td>\n",
       "</tr>\n",
       "<tr>\n",
       "  <th>Df Model:</th>              <td>     5</td>      <th>                     </th>     <td> </td>   \n",
       "</tr>\n",
       "<tr>\n",
       "  <th>Covariance Type:</th>         <td>HC1</td>       <th>                     </th>     <td> </td>   \n",
       "</tr>\n",
       "</table>\n",
       "<table class=\"simpletable\">\n",
       "<tr>\n",
       "        <td></td>           <th>coef</th>     <th>std err</th>      <th>z</th>      <th>P>|z|</th>  <th>[0.025</th>    <th>0.975]</th>  \n",
       "</tr>\n",
       "<tr>\n",
       "  <th>Intercept</th>     <td>    0.4898</td> <td>    0.738</td> <td>    0.664</td> <td> 0.507</td> <td>   -0.957</td> <td>    1.936</td>\n",
       "</tr>\n",
       "<tr>\n",
       "  <th>tradeshare</th>    <td>    1.5617</td> <td>    0.585</td> <td>    2.670</td> <td> 0.008</td> <td>    0.415</td> <td>    2.708</td>\n",
       "</tr>\n",
       "<tr>\n",
       "  <th>yearsschool</th>   <td>    0.5748</td> <td>    0.123</td> <td>    4.681</td> <td> 0.000</td> <td>    0.334</td> <td>    0.816</td>\n",
       "</tr>\n",
       "<tr>\n",
       "  <th>rev_coups</th>     <td>   -2.1575</td> <td>    0.878</td> <td>   -2.457</td> <td> 0.014</td> <td>   -3.879</td> <td>   -0.436</td>\n",
       "</tr>\n",
       "<tr>\n",
       "  <th>assasinations</th> <td>    0.3541</td> <td>    0.365</td> <td>    0.969</td> <td> 0.333</td> <td>   -0.362</td> <td>    1.070</td>\n",
       "</tr>\n",
       "<tr>\n",
       "  <th>rgdp60</th>        <td>   -0.0005</td> <td>    0.000</td> <td>   -3.936</td> <td> 0.000</td> <td>   -0.001</td> <td>   -0.000</td>\n",
       "</tr>\n",
       "<tr>\n",
       "  <th>oil</th>           <td>         0</td> <td>        0</td> <td>      nan</td> <td>   nan</td> <td>        0</td> <td>        0</td>\n",
       "</tr>\n",
       "</table>\n",
       "<table class=\"simpletable\">\n",
       "<tr>\n",
       "  <th>Omnibus:</th>       <td> 7.463</td> <th>  Durbin-Watson:     </th> <td>   2.126</td>\n",
       "</tr>\n",
       "<tr>\n",
       "  <th>Prob(Omnibus):</th> <td> 0.024</td> <th>  Jarque-Bera (JB):  </th> <td>   8.425</td>\n",
       "</tr>\n",
       "<tr>\n",
       "  <th>Skew:</th>          <td> 0.487</td> <th>  Prob(JB):          </th> <td>  0.0148</td>\n",
       "</tr>\n",
       "<tr>\n",
       "  <th>Kurtosis:</th>      <td> 4.470</td> <th>  Cond. No.          </th> <td>     inf</td>\n",
       "</tr>\n",
       "</table><br/><br/>Notes:<br/>[1] Standard Errors are heteroscedasticity robust (HC1)<br/>[2] The smallest eigenvalue is      0. This might indicate that there are<br/>strong multicollinearity problems or that the design matrix is singular."
      ],
      "text/plain": [
       "<class 'statsmodels.iolib.summary.Summary'>\n",
       "\"\"\"\n",
       "                            OLS Regression Results                            \n",
       "==============================================================================\n",
       "Dep. Variable:                 growth   R-squared:                       0.359\n",
       "Model:                            OLS   Adj. R-squared:                  0.305\n",
       "Method:                 Least Squares   F-statistic:                     11.20\n",
       "Date:                Mon, 27 Sep 2021   Prob (F-statistic):           1.29e-07\n",
       "Time:                        00:11:52   Log-Likelihood:                -118.90\n",
       "No. Observations:                  65   AIC:                             249.8\n",
       "Df Residuals:                      59   BIC:                             262.8\n",
       "Df Model:                           5                                         \n",
       "Covariance Type:                  HC1                                         \n",
       "=================================================================================\n",
       "                    coef    std err          z      P>|z|      [0.025      0.975]\n",
       "---------------------------------------------------------------------------------\n",
       "Intercept         0.4898      0.738      0.664      0.507      -0.957       1.936\n",
       "tradeshare        1.5617      0.585      2.670      0.008       0.415       2.708\n",
       "yearsschool       0.5748      0.123      4.681      0.000       0.334       0.816\n",
       "rev_coups        -2.1575      0.878     -2.457      0.014      -3.879      -0.436\n",
       "assasinations     0.3541      0.365      0.969      0.333      -0.362       1.070\n",
       "rgdp60           -0.0005      0.000     -3.936      0.000      -0.001      -0.000\n",
       "oil                    0          0        nan        nan           0           0\n",
       "==============================================================================\n",
       "Omnibus:                        7.463   Durbin-Watson:                   2.126\n",
       "Prob(Omnibus):                  0.024   Jarque-Bera (JB):                8.425\n",
       "Skew:                           0.487   Prob(JB):                       0.0148\n",
       "Kurtosis:                       4.470   Cond. No.                          inf\n",
       "==============================================================================\n",
       "\n",
       "Notes:\n",
       "[1] Standard Errors are heteroscedasticity robust (HC1)\n",
       "[2] The smallest eigenvalue is      0. This might indicate that there are\n",
       "strong multicollinearity problems or that the design matrix is singular.\n",
       "\"\"\""
      ]
     },
     "execution_count": 34,
     "metadata": {},
     "output_type": "execute_result"
    }
   ],
   "source": [
    "JTdata3=smf.ols(formula='growth~tradeshare+yearsschool+rev_coups+assasinations+rgdp60+oil',data=growthdata)\n",
    "JTresults3=JTdata3.fit(cov_type='HC1')\n",
    "JTresults3.summary()"
   ]
  },
  {
   "cell_type": "code",
   "execution_count": 35,
   "metadata": {},
   "outputs": [],
   "source": [
    "#####"
   ]
  }
 ],
 "metadata": {
  "kernelspec": {
   "display_name": "Python 3",
   "language": "python",
   "name": "python3"
  },
  "language_info": {
   "codemirror_mode": {
    "name": "ipython",
    "version": 3
   },
   "file_extension": ".py",
   "mimetype": "text/x-python",
   "name": "python",
   "nbconvert_exporter": "python",
   "pygments_lexer": "ipython3",
   "version": "3.8.5"
  }
 },
 "nbformat": 4,
 "nbformat_minor": 4
}
